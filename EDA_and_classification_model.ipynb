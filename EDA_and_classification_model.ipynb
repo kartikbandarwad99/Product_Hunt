{
 "cells": [
  {
   "cell_type": "markdown",
   "metadata": {},
   "source": [
    "## Import Libraries and Data"
   ]
  },
  {
   "cell_type": "code",
   "execution_count": 1,
   "metadata": {},
   "outputs": [],
   "source": [
    "import os\n",
    "from helper_funcs import get_tokens,get_headers,fetch_top_posts,fetch_last_posts\n",
    "import pandas as pd \n",
    "import numpy as np\n",
    "import ast\n",
    "from sklearn.preprocessing import MultiLabelBinarizer\n",
    "from xgboost import XGBClassifier\n",
    "import plotly.express as px\n",
    "from sklearn.model_selection import train_test_split\n",
    "from sklearn.metrics import accuracy_score, confusion_matrix,classification_report"
   ]
  },
  {
   "cell_type": "code",
   "execution_count": 2,
   "metadata": {},
   "outputs": [],
   "source": [
    "PRODUCT_HUNT_API_KEY = os.getenv(\"PRODUCT_HUNT_API_KEY\")\n",
    "PRODUCT_HUNT_API_SECRET = os.getenv('PRODUCT_HUNT_API_SECRET')"
   ]
  },
  {
   "cell_type": "code",
   "execution_count": 3,
   "metadata": {},
   "outputs": [],
   "source": [
    "token, token_type = get_tokens()\n",
    "headers = get_headers(token,token_type)"
   ]
  },
  {
   "cell_type": "code",
   "execution_count": 4,
   "metadata": {},
   "outputs": [],
   "source": [
    "start_date=\"2024-08-01T00:00:00Z\"\n",
    "end_date = \"2024-08-31T23:59:59Z\""
   ]
  },
  {
   "cell_type": "code",
   "execution_count": 5,
   "metadata": {},
   "outputs": [],
   "source": [
    "top_posts = fetch_top_posts(start_date=start_date,end_date=end_date,headers=headers, limit =100)\n",
    "last_posts = fetch_last_posts(start_date=start_date,end_date=end_date,headers=headers, limit =100)"
   ]
  },
  {
   "cell_type": "code",
   "execution_count": 6,
   "metadata": {},
   "outputs": [
    {
     "name": "stdout",
     "output_type": "stream",
     "text": [
      "Name :Me.bot,\n",
      "Description:Me.bot captures and connects your thoughts to understand you better, synthesizing a coach for all your life challenges, from a big career move to a small gloomy moment.,\n",
      "First comment:Hello, I’m Felix Tao, the CEO of Mindverse. Let me introduce <b>Me.bot</b> to you. It is an app I use everyday, for several hours!\n",
      "\n",
      "Surrounded by centralized AI models, we believe in exploring a path where everyone can <b>train their own personal AI</b>. Everyone deserves an AI defined by them, not by a \"Big Brother.\"\n",
      "\n",
      "<b>Our solution</b>\n",
      "Our product, Me.bot, is designed to be a <b>personalized AI companion</b>. It learns and evolves with you, coaching you based on your unique experiences and interactions. You can easily build your memory archive with Me.bot all-compassing multimodal recognition, and Me.bot will connect the dots of your memories to inspire and support you.\n",
      "\n",
      "<b>Key features</b>\n",
      "🌟<b>Serendipity</b>: Me.bot learns from you, offering inspiration and advice when you need it most.\n",
      "🧠<b>Second Brain</b>: Me.bot helps you understand yourself better and presents its insights into you.\n",
      "💬<b>Speak to Remind</b>: Set reminders with your voice—it's easier than ever.\n",
      "📁<b>Smart Topics</b>: Automatically organized AI folders keep your archives tidy and easy to navigate.\n",
      "\n",
      "We're already seeing Me.bot make a difference. Some users have told us that Me.bot suggested a LinkedIn connection that led to a <b>job opportunity</b>. Others shared that, thanks to Me.bot, they decided to pursue a degree in sociology at the age of 35.\n",
      "\n",
      "Looking ahead, we plan to introduce features like shared memories and a bot community where your personal Me.bot can interact with others.\n",
      "\n",
      "<b>Finally, kudos to @chrismessina who's supported our launch once again!</b>\n",
      "\n",
      "By the way, sign up today to enjoy a <b>30-day reward</b> by completing your new user task!\n"
     ]
    }
   ],
   "source": [
    "print(f\"Name :{top_posts[1]['node']['name']},\\nDescription:{top_posts[1]['node']['description']},\\nFirst comment:{top_posts[1]['node']['comments']['nodes'][0]['body']}\")"
   ]
  },
  {
   "cell_type": "code",
   "execution_count": 7,
   "metadata": {},
   "outputs": [
    {
     "name": "stdout",
     "output_type": "stream",
     "text": [
      "Name :Startup Accelerator Program,\n",
      "Description:Startup accelerators provide essential support for early-stage startups, offering expert mentorship, structured growth plans, access to resources, funding opportunities, and valuable networking. These programs help startups refine their business strategies.,\n",
      "First comment:Startup accelerators are crucial for early-stage ventures, providing expert guidance and essential resources to foster growth. These programs help startups refine strategies, secure funding, and build valuable networks, significantly boosting their chances of success.\n"
     ]
    }
   ],
   "source": [
    "print(f\"Name :{last_posts[1]['node']['name']},\\nDescription:{last_posts[1]['node']['description']},\\nFirst comment:{last_posts[1]['node']['comments']['nodes'][0]['body']}\")"
   ]
  },
  {
   "cell_type": "markdown",
   "metadata": {},
   "source": [
    "## EDA - Top Posts of August"
   ]
  },
  {
   "cell_type": "code",
   "execution_count": 8,
   "metadata": {},
   "outputs": [
    {
     "data": {
      "text/html": [
       "<div>\n",
       "<style scoped>\n",
       "    .dataframe tbody tr th:only-of-type {\n",
       "        vertical-align: middle;\n",
       "    }\n",
       "\n",
       "    .dataframe tbody tr th {\n",
       "        vertical-align: top;\n",
       "    }\n",
       "\n",
       "    .dataframe thead th {\n",
       "        text-align: right;\n",
       "    }\n",
       "</style>\n",
       "<table border=\"1\" class=\"dataframe\">\n",
       "  <thead>\n",
       "    <tr style=\"text-align: right;\">\n",
       "      <th></th>\n",
       "      <th>name</th>\n",
       "      <th>description</th>\n",
       "      <th>url</th>\n",
       "      <th>votesCount</th>\n",
       "      <th>createdAt</th>\n",
       "      <th>tagline</th>\n",
       "      <th>commentsCount</th>\n",
       "      <th>comments</th>\n",
       "      <th>topics</th>\n",
       "    </tr>\n",
       "  </thead>\n",
       "  <tbody>\n",
       "    <tr>\n",
       "      <th>0</th>\n",
       "      <td>Wordware (YC S24)</td>\n",
       "      <td>Wordware is an IDE that enables anyone to buil...</td>\n",
       "      <td>https://www.producthunt.com/posts/wordware-yc-...</td>\n",
       "      <td>7467</td>\n",
       "      <td>2024-08-02T07:01:00Z</td>\n",
       "      <td>Your tool for building AI agents with natural ...</td>\n",
       "      <td>165</td>\n",
       "      <td>{'nodes': [{'body': '👋🏻 Hi Product Hunt makers...</td>\n",
       "      <td>{'nodes': [{'slug': 'software-engineering'}, {...</td>\n",
       "    </tr>\n",
       "    <tr>\n",
       "      <th>1</th>\n",
       "      <td>Me.bot</td>\n",
       "      <td>Me.bot captures and connects your thoughts to ...</td>\n",
       "      <td>https://www.producthunt.com/posts/me-bot-2?utm...</td>\n",
       "      <td>2663</td>\n",
       "      <td>2024-08-06T07:01:00Z</td>\n",
       "      <td>The inspiring companion for your life</td>\n",
       "      <td>432</td>\n",
       "      <td>{'nodes': [{'body': 'Hello, I’m Felix Tao, the...</td>\n",
       "      <td>{'nodes': [{'slug': 'productivity'}, {'slug': ...</td>\n",
       "    </tr>\n",
       "    <tr>\n",
       "      <th>2</th>\n",
       "      <td>10xlaunch</td>\n",
       "      <td>Just add our one-line script to your website a...</td>\n",
       "      <td>https://www.producthunt.com/posts/10xlaunch?ut...</td>\n",
       "      <td>1577</td>\n",
       "      <td>2024-08-27T07:01:00Z</td>\n",
       "      <td>Get 10x more users from same website traffic</td>\n",
       "      <td>206</td>\n",
       "      <td>{'nodes': [{'body': 'Hey fam,\n",
       "\n",
       "Mo here from 10...</td>\n",
       "      <td>{'nodes': [{'slug': 'sales'}, {'slug': 'artifi...</td>\n",
       "    </tr>\n",
       "    <tr>\n",
       "      <th>3</th>\n",
       "      <td>Flowith</td>\n",
       "      <td>Flowith is the AI for deep work. Surpassing tr...</td>\n",
       "      <td>https://www.producthunt.com/posts/flowith?utm_...</td>\n",
       "      <td>1474</td>\n",
       "      <td>2024-08-07T07:01:00Z</td>\n",
       "      <td>AI for deep work</td>\n",
       "      <td>109</td>\n",
       "      <td>{'nodes': [{'body': 'Hey Product Hunt communit...</td>\n",
       "      <td>{'nodes': [{'slug': 'productivity'}, {'slug': ...</td>\n",
       "    </tr>\n",
       "    <tr>\n",
       "      <th>4</th>\n",
       "      <td>Brainybear.ai</td>\n",
       "      <td>Build AI Chatbots in 3 Steps and Train in 3 Cl...</td>\n",
       "      <td>https://www.producthunt.com/posts/brainybear-a...</td>\n",
       "      <td>1370</td>\n",
       "      <td>2024-08-06T07:01:00Z</td>\n",
       "      <td>Train AI chatbots in 3 clicks and help custome...</td>\n",
       "      <td>108</td>\n",
       "      <td>{'nodes': [{'body': 'Hey Hunters,\n",
       "\n",
       "I'm thrille...</td>\n",
       "      <td>{'nodes': [{'slug': 'messaging'}, {'slug': 'ar...</td>\n",
       "    </tr>\n",
       "  </tbody>\n",
       "</table>\n",
       "</div>"
      ],
      "text/plain": [
       "                name                                        description  \\\n",
       "0  Wordware (YC S24)  Wordware is an IDE that enables anyone to buil...   \n",
       "1             Me.bot  Me.bot captures and connects your thoughts to ...   \n",
       "2          10xlaunch  Just add our one-line script to your website a...   \n",
       "3            Flowith  Flowith is the AI for deep work. Surpassing tr...   \n",
       "4      Brainybear.ai  Build AI Chatbots in 3 Steps and Train in 3 Cl...   \n",
       "\n",
       "                                                 url  votesCount  \\\n",
       "0  https://www.producthunt.com/posts/wordware-yc-...        7467   \n",
       "1  https://www.producthunt.com/posts/me-bot-2?utm...        2663   \n",
       "2  https://www.producthunt.com/posts/10xlaunch?ut...        1577   \n",
       "3  https://www.producthunt.com/posts/flowith?utm_...        1474   \n",
       "4  https://www.producthunt.com/posts/brainybear-a...        1370   \n",
       "\n",
       "              createdAt                                            tagline  \\\n",
       "0  2024-08-02T07:01:00Z  Your tool for building AI agents with natural ...   \n",
       "1  2024-08-06T07:01:00Z              The inspiring companion for your life   \n",
       "2  2024-08-27T07:01:00Z       Get 10x more users from same website traffic   \n",
       "3  2024-08-07T07:01:00Z                                   AI for deep work   \n",
       "4  2024-08-06T07:01:00Z  Train AI chatbots in 3 clicks and help custome...   \n",
       "\n",
       "   commentsCount                                           comments  \\\n",
       "0            165  {'nodes': [{'body': '👋🏻 Hi Product Hunt makers...   \n",
       "1            432  {'nodes': [{'body': 'Hello, I’m Felix Tao, the...   \n",
       "2            206  {'nodes': [{'body': 'Hey fam,\n",
       "\n",
       "Mo here from 10...   \n",
       "3            109  {'nodes': [{'body': 'Hey Product Hunt communit...   \n",
       "4            108  {'nodes': [{'body': 'Hey Hunters,\n",
       "\n",
       "I'm thrille...   \n",
       "\n",
       "                                              topics  \n",
       "0  {'nodes': [{'slug': 'software-engineering'}, {...  \n",
       "1  {'nodes': [{'slug': 'productivity'}, {'slug': ...  \n",
       "2  {'nodes': [{'slug': 'sales'}, {'slug': 'artifi...  \n",
       "3  {'nodes': [{'slug': 'productivity'}, {'slug': ...  \n",
       "4  {'nodes': [{'slug': 'messaging'}, {'slug': 'ar...  "
      ]
     },
     "execution_count": 8,
     "metadata": {},
     "output_type": "execute_result"
    }
   ],
   "source": [
    "top_posts_df = pd.DataFrame([top_posts[i]['node'] for i in range(len(top_posts))])\n",
    "top_posts_df.head()"
   ]
  },
  {
   "cell_type": "code",
   "execution_count": 9,
   "metadata": {},
   "outputs": [],
   "source": [
    "top_posts_df['date'] = pd.to_datetime(top_posts_df['createdAt']).dt.date\n",
    "top_posts_df['day'] = pd.to_datetime(top_posts_df['createdAt']).dt.day_name()\n",
    "top_posts_df['topic_list'] = top_posts_df['topics'].apply(lambda x: [j['slug'] for j in x['nodes']])"
   ]
  },
  {
   "cell_type": "code",
   "execution_count": 10,
   "metadata": {},
   "outputs": [
    {
     "data": {
      "application/vnd.plotly.v1+json": {
       "config": {
        "plotlyServerURL": "https://plot.ly"
       },
       "data": [
        {
         "alignmentgroup": "True",
         "bingroup": "x",
         "hovertemplate": "day=%{x}<br>count=%{y}<extra></extra>",
         "legendgroup": "",
         "marker": {
          "color": "#636efa",
          "pattern": {
           "shape": ""
          }
         },
         "name": "",
         "offsetgroup": "",
         "orientation": "v",
         "showlegend": false,
         "type": "histogram",
         "x": [
          "Friday",
          "Tuesday",
          "Tuesday",
          "Wednesday",
          "Tuesday",
          "Monday",
          "Tuesday",
          "Tuesday",
          "Monday",
          "Wednesday",
          "Monday",
          "Saturday",
          "Tuesday",
          "Thursday",
          "Friday",
          "Saturday",
          "Wednesday",
          "Tuesday",
          "Thursday",
          "Monday",
          "Sunday",
          "Friday",
          "Thursday",
          "Wednesday",
          "Thursday",
          "Friday",
          "Monday",
          "Tuesday",
          "Thursday",
          "Thursday",
          "Monday",
          "Wednesday",
          "Friday",
          "Friday",
          "Tuesday",
          "Thursday",
          "Sunday",
          "Saturday",
          "Thursday",
          "Thursday",
          "Friday",
          "Wednesday",
          "Sunday",
          "Thursday",
          "Saturday",
          "Tuesday",
          "Tuesday",
          "Wednesday",
          "Wednesday",
          "Monday",
          "Wednesday",
          "Tuesday",
          "Tuesday",
          "Saturday",
          "Tuesday",
          "Monday",
          "Thursday",
          "Monday",
          "Saturday",
          "Tuesday",
          "Wednesday",
          "Friday",
          "Wednesday",
          "Sunday",
          "Thursday",
          "Monday",
          "Thursday",
          "Sunday",
          "Monday",
          "Tuesday",
          "Thursday",
          "Friday",
          "Saturday",
          "Wednesday",
          "Tuesday",
          "Thursday",
          "Friday",
          "Monday",
          "Sunday",
          "Saturday",
          "Tuesday",
          "Monday",
          "Sunday",
          "Thursday",
          "Monday",
          "Friday",
          "Sunday",
          "Thursday",
          "Friday",
          "Wednesday",
          "Friday",
          "Saturday",
          "Monday",
          "Thursday",
          "Tuesday",
          "Saturday",
          "Sunday",
          "Saturday",
          "Tuesday",
          "Tuesday"
         ],
         "xaxis": "x",
         "yaxis": "y"
        }
       ],
       "layout": {
        "barmode": "relative",
        "legend": {
         "tracegroupgap": 0
        },
        "template": {
         "data": {
          "bar": [
           {
            "error_x": {
             "color": "#2a3f5f"
            },
            "error_y": {
             "color": "#2a3f5f"
            },
            "marker": {
             "line": {
              "color": "#E5ECF6",
              "width": 0.5
             },
             "pattern": {
              "fillmode": "overlay",
              "size": 10,
              "solidity": 0.2
             }
            },
            "type": "bar"
           }
          ],
          "barpolar": [
           {
            "marker": {
             "line": {
              "color": "#E5ECF6",
              "width": 0.5
             },
             "pattern": {
              "fillmode": "overlay",
              "size": 10,
              "solidity": 0.2
             }
            },
            "type": "barpolar"
           }
          ],
          "carpet": [
           {
            "aaxis": {
             "endlinecolor": "#2a3f5f",
             "gridcolor": "white",
             "linecolor": "white",
             "minorgridcolor": "white",
             "startlinecolor": "#2a3f5f"
            },
            "baxis": {
             "endlinecolor": "#2a3f5f",
             "gridcolor": "white",
             "linecolor": "white",
             "minorgridcolor": "white",
             "startlinecolor": "#2a3f5f"
            },
            "type": "carpet"
           }
          ],
          "choropleth": [
           {
            "colorbar": {
             "outlinewidth": 0,
             "ticks": ""
            },
            "type": "choropleth"
           }
          ],
          "contour": [
           {
            "colorbar": {
             "outlinewidth": 0,
             "ticks": ""
            },
            "colorscale": [
             [
              0,
              "#0d0887"
             ],
             [
              0.1111111111111111,
              "#46039f"
             ],
             [
              0.2222222222222222,
              "#7201a8"
             ],
             [
              0.3333333333333333,
              "#9c179e"
             ],
             [
              0.4444444444444444,
              "#bd3786"
             ],
             [
              0.5555555555555556,
              "#d8576b"
             ],
             [
              0.6666666666666666,
              "#ed7953"
             ],
             [
              0.7777777777777778,
              "#fb9f3a"
             ],
             [
              0.8888888888888888,
              "#fdca26"
             ],
             [
              1,
              "#f0f921"
             ]
            ],
            "type": "contour"
           }
          ],
          "contourcarpet": [
           {
            "colorbar": {
             "outlinewidth": 0,
             "ticks": ""
            },
            "type": "contourcarpet"
           }
          ],
          "heatmap": [
           {
            "colorbar": {
             "outlinewidth": 0,
             "ticks": ""
            },
            "colorscale": [
             [
              0,
              "#0d0887"
             ],
             [
              0.1111111111111111,
              "#46039f"
             ],
             [
              0.2222222222222222,
              "#7201a8"
             ],
             [
              0.3333333333333333,
              "#9c179e"
             ],
             [
              0.4444444444444444,
              "#bd3786"
             ],
             [
              0.5555555555555556,
              "#d8576b"
             ],
             [
              0.6666666666666666,
              "#ed7953"
             ],
             [
              0.7777777777777778,
              "#fb9f3a"
             ],
             [
              0.8888888888888888,
              "#fdca26"
             ],
             [
              1,
              "#f0f921"
             ]
            ],
            "type": "heatmap"
           }
          ],
          "heatmapgl": [
           {
            "colorbar": {
             "outlinewidth": 0,
             "ticks": ""
            },
            "colorscale": [
             [
              0,
              "#0d0887"
             ],
             [
              0.1111111111111111,
              "#46039f"
             ],
             [
              0.2222222222222222,
              "#7201a8"
             ],
             [
              0.3333333333333333,
              "#9c179e"
             ],
             [
              0.4444444444444444,
              "#bd3786"
             ],
             [
              0.5555555555555556,
              "#d8576b"
             ],
             [
              0.6666666666666666,
              "#ed7953"
             ],
             [
              0.7777777777777778,
              "#fb9f3a"
             ],
             [
              0.8888888888888888,
              "#fdca26"
             ],
             [
              1,
              "#f0f921"
             ]
            ],
            "type": "heatmapgl"
           }
          ],
          "histogram": [
           {
            "marker": {
             "pattern": {
              "fillmode": "overlay",
              "size": 10,
              "solidity": 0.2
             }
            },
            "type": "histogram"
           }
          ],
          "histogram2d": [
           {
            "colorbar": {
             "outlinewidth": 0,
             "ticks": ""
            },
            "colorscale": [
             [
              0,
              "#0d0887"
             ],
             [
              0.1111111111111111,
              "#46039f"
             ],
             [
              0.2222222222222222,
              "#7201a8"
             ],
             [
              0.3333333333333333,
              "#9c179e"
             ],
             [
              0.4444444444444444,
              "#bd3786"
             ],
             [
              0.5555555555555556,
              "#d8576b"
             ],
             [
              0.6666666666666666,
              "#ed7953"
             ],
             [
              0.7777777777777778,
              "#fb9f3a"
             ],
             [
              0.8888888888888888,
              "#fdca26"
             ],
             [
              1,
              "#f0f921"
             ]
            ],
            "type": "histogram2d"
           }
          ],
          "histogram2dcontour": [
           {
            "colorbar": {
             "outlinewidth": 0,
             "ticks": ""
            },
            "colorscale": [
             [
              0,
              "#0d0887"
             ],
             [
              0.1111111111111111,
              "#46039f"
             ],
             [
              0.2222222222222222,
              "#7201a8"
             ],
             [
              0.3333333333333333,
              "#9c179e"
             ],
             [
              0.4444444444444444,
              "#bd3786"
             ],
             [
              0.5555555555555556,
              "#d8576b"
             ],
             [
              0.6666666666666666,
              "#ed7953"
             ],
             [
              0.7777777777777778,
              "#fb9f3a"
             ],
             [
              0.8888888888888888,
              "#fdca26"
             ],
             [
              1,
              "#f0f921"
             ]
            ],
            "type": "histogram2dcontour"
           }
          ],
          "mesh3d": [
           {
            "colorbar": {
             "outlinewidth": 0,
             "ticks": ""
            },
            "type": "mesh3d"
           }
          ],
          "parcoords": [
           {
            "line": {
             "colorbar": {
              "outlinewidth": 0,
              "ticks": ""
             }
            },
            "type": "parcoords"
           }
          ],
          "pie": [
           {
            "automargin": true,
            "type": "pie"
           }
          ],
          "scatter": [
           {
            "fillpattern": {
             "fillmode": "overlay",
             "size": 10,
             "solidity": 0.2
            },
            "type": "scatter"
           }
          ],
          "scatter3d": [
           {
            "line": {
             "colorbar": {
              "outlinewidth": 0,
              "ticks": ""
             }
            },
            "marker": {
             "colorbar": {
              "outlinewidth": 0,
              "ticks": ""
             }
            },
            "type": "scatter3d"
           }
          ],
          "scattercarpet": [
           {
            "marker": {
             "colorbar": {
              "outlinewidth": 0,
              "ticks": ""
             }
            },
            "type": "scattercarpet"
           }
          ],
          "scattergeo": [
           {
            "marker": {
             "colorbar": {
              "outlinewidth": 0,
              "ticks": ""
             }
            },
            "type": "scattergeo"
           }
          ],
          "scattergl": [
           {
            "marker": {
             "colorbar": {
              "outlinewidth": 0,
              "ticks": ""
             }
            },
            "type": "scattergl"
           }
          ],
          "scattermapbox": [
           {
            "marker": {
             "colorbar": {
              "outlinewidth": 0,
              "ticks": ""
             }
            },
            "type": "scattermapbox"
           }
          ],
          "scatterpolar": [
           {
            "marker": {
             "colorbar": {
              "outlinewidth": 0,
              "ticks": ""
             }
            },
            "type": "scatterpolar"
           }
          ],
          "scatterpolargl": [
           {
            "marker": {
             "colorbar": {
              "outlinewidth": 0,
              "ticks": ""
             }
            },
            "type": "scatterpolargl"
           }
          ],
          "scatterternary": [
           {
            "marker": {
             "colorbar": {
              "outlinewidth": 0,
              "ticks": ""
             }
            },
            "type": "scatterternary"
           }
          ],
          "surface": [
           {
            "colorbar": {
             "outlinewidth": 0,
             "ticks": ""
            },
            "colorscale": [
             [
              0,
              "#0d0887"
             ],
             [
              0.1111111111111111,
              "#46039f"
             ],
             [
              0.2222222222222222,
              "#7201a8"
             ],
             [
              0.3333333333333333,
              "#9c179e"
             ],
             [
              0.4444444444444444,
              "#bd3786"
             ],
             [
              0.5555555555555556,
              "#d8576b"
             ],
             [
              0.6666666666666666,
              "#ed7953"
             ],
             [
              0.7777777777777778,
              "#fb9f3a"
             ],
             [
              0.8888888888888888,
              "#fdca26"
             ],
             [
              1,
              "#f0f921"
             ]
            ],
            "type": "surface"
           }
          ],
          "table": [
           {
            "cells": {
             "fill": {
              "color": "#EBF0F8"
             },
             "line": {
              "color": "white"
             }
            },
            "header": {
             "fill": {
              "color": "#C8D4E3"
             },
             "line": {
              "color": "white"
             }
            },
            "type": "table"
           }
          ]
         },
         "layout": {
          "annotationdefaults": {
           "arrowcolor": "#2a3f5f",
           "arrowhead": 0,
           "arrowwidth": 1
          },
          "autotypenumbers": "strict",
          "coloraxis": {
           "colorbar": {
            "outlinewidth": 0,
            "ticks": ""
           }
          },
          "colorscale": {
           "diverging": [
            [
             0,
             "#8e0152"
            ],
            [
             0.1,
             "#c51b7d"
            ],
            [
             0.2,
             "#de77ae"
            ],
            [
             0.3,
             "#f1b6da"
            ],
            [
             0.4,
             "#fde0ef"
            ],
            [
             0.5,
             "#f7f7f7"
            ],
            [
             0.6,
             "#e6f5d0"
            ],
            [
             0.7,
             "#b8e186"
            ],
            [
             0.8,
             "#7fbc41"
            ],
            [
             0.9,
             "#4d9221"
            ],
            [
             1,
             "#276419"
            ]
           ],
           "sequential": [
            [
             0,
             "#0d0887"
            ],
            [
             0.1111111111111111,
             "#46039f"
            ],
            [
             0.2222222222222222,
             "#7201a8"
            ],
            [
             0.3333333333333333,
             "#9c179e"
            ],
            [
             0.4444444444444444,
             "#bd3786"
            ],
            [
             0.5555555555555556,
             "#d8576b"
            ],
            [
             0.6666666666666666,
             "#ed7953"
            ],
            [
             0.7777777777777778,
             "#fb9f3a"
            ],
            [
             0.8888888888888888,
             "#fdca26"
            ],
            [
             1,
             "#f0f921"
            ]
           ],
           "sequentialminus": [
            [
             0,
             "#0d0887"
            ],
            [
             0.1111111111111111,
             "#46039f"
            ],
            [
             0.2222222222222222,
             "#7201a8"
            ],
            [
             0.3333333333333333,
             "#9c179e"
            ],
            [
             0.4444444444444444,
             "#bd3786"
            ],
            [
             0.5555555555555556,
             "#d8576b"
            ],
            [
             0.6666666666666666,
             "#ed7953"
            ],
            [
             0.7777777777777778,
             "#fb9f3a"
            ],
            [
             0.8888888888888888,
             "#fdca26"
            ],
            [
             1,
             "#f0f921"
            ]
           ]
          },
          "colorway": [
           "#636efa",
           "#EF553B",
           "#00cc96",
           "#ab63fa",
           "#FFA15A",
           "#19d3f3",
           "#FF6692",
           "#B6E880",
           "#FF97FF",
           "#FECB52"
          ],
          "font": {
           "color": "#2a3f5f"
          },
          "geo": {
           "bgcolor": "white",
           "lakecolor": "white",
           "landcolor": "#E5ECF6",
           "showlakes": true,
           "showland": true,
           "subunitcolor": "white"
          },
          "hoverlabel": {
           "align": "left"
          },
          "hovermode": "closest",
          "mapbox": {
           "style": "light"
          },
          "paper_bgcolor": "white",
          "plot_bgcolor": "#E5ECF6",
          "polar": {
           "angularaxis": {
            "gridcolor": "white",
            "linecolor": "white",
            "ticks": ""
           },
           "bgcolor": "#E5ECF6",
           "radialaxis": {
            "gridcolor": "white",
            "linecolor": "white",
            "ticks": ""
           }
          },
          "scene": {
           "xaxis": {
            "backgroundcolor": "#E5ECF6",
            "gridcolor": "white",
            "gridwidth": 2,
            "linecolor": "white",
            "showbackground": true,
            "ticks": "",
            "zerolinecolor": "white"
           },
           "yaxis": {
            "backgroundcolor": "#E5ECF6",
            "gridcolor": "white",
            "gridwidth": 2,
            "linecolor": "white",
            "showbackground": true,
            "ticks": "",
            "zerolinecolor": "white"
           },
           "zaxis": {
            "backgroundcolor": "#E5ECF6",
            "gridcolor": "white",
            "gridwidth": 2,
            "linecolor": "white",
            "showbackground": true,
            "ticks": "",
            "zerolinecolor": "white"
           }
          },
          "shapedefaults": {
           "line": {
            "color": "#2a3f5f"
           }
          },
          "ternary": {
           "aaxis": {
            "gridcolor": "white",
            "linecolor": "white",
            "ticks": ""
           },
           "baxis": {
            "gridcolor": "white",
            "linecolor": "white",
            "ticks": ""
           },
           "bgcolor": "#E5ECF6",
           "caxis": {
            "gridcolor": "white",
            "linecolor": "white",
            "ticks": ""
           }
          },
          "title": {
           "x": 0.05
          },
          "xaxis": {
           "automargin": true,
           "gridcolor": "white",
           "linecolor": "white",
           "ticks": "",
           "title": {
            "standoff": 15
           },
           "zerolinecolor": "white",
           "zerolinewidth": 2
          },
          "yaxis": {
           "automargin": true,
           "gridcolor": "white",
           "linecolor": "white",
           "ticks": "",
           "title": {
            "standoff": 15
           },
           "zerolinecolor": "white",
           "zerolinewidth": 2
          }
         }
        },
        "title": {
         "text": "Day of Launch"
        },
        "xaxis": {
         "anchor": "y",
         "domain": [
          0,
          1
         ],
         "title": {
          "text": "day"
         }
        },
        "yaxis": {
         "anchor": "x",
         "domain": [
          0,
          1
         ],
         "title": {
          "text": "count"
         }
        }
       }
      }
     },
     "metadata": {},
     "output_type": "display_data"
    }
   ],
   "source": [
    "px.histogram(top_posts_df, x='day',title='Day of Launch')"
   ]
  },
  {
   "cell_type": "markdown",
   "metadata": {},
   "source": [
    "Of the top performing posts of August, the common trend is to launch on Weekdays."
   ]
  },
  {
   "cell_type": "code",
   "execution_count": 11,
   "metadata": {},
   "outputs": [
    {
     "data": {
      "application/vnd.plotly.v1+json": {
       "config": {
        "plotlyServerURL": "https://plot.ly"
       },
       "data": [
        {
         "hovertemplate": "day=%{x}<br>votesCount=%{y}<extra></extra>",
         "legendgroup": "",
         "marker": {
          "color": "#636efa",
          "symbol": "circle"
         },
         "mode": "markers",
         "name": "",
         "orientation": "v",
         "showlegend": false,
         "type": "scatter",
         "x": [
          "Friday",
          "Tuesday",
          "Tuesday",
          "Wednesday",
          "Tuesday",
          "Monday",
          "Tuesday",
          "Tuesday",
          "Monday",
          "Wednesday",
          "Monday",
          "Saturday",
          "Tuesday",
          "Thursday",
          "Friday",
          "Saturday",
          "Wednesday",
          "Tuesday",
          "Thursday",
          "Monday",
          "Sunday",
          "Friday",
          "Thursday",
          "Wednesday",
          "Thursday",
          "Friday",
          "Monday",
          "Tuesday",
          "Thursday",
          "Thursday",
          "Monday",
          "Wednesday",
          "Friday",
          "Friday",
          "Tuesday",
          "Thursday",
          "Sunday",
          "Saturday",
          "Thursday",
          "Thursday",
          "Friday",
          "Wednesday",
          "Sunday",
          "Thursday",
          "Saturday",
          "Tuesday",
          "Tuesday",
          "Wednesday",
          "Wednesday",
          "Monday",
          "Wednesday",
          "Tuesday",
          "Tuesday",
          "Saturday",
          "Tuesday",
          "Monday",
          "Thursday",
          "Monday",
          "Saturday",
          "Tuesday",
          "Wednesday",
          "Friday",
          "Wednesday",
          "Sunday",
          "Thursday",
          "Monday",
          "Thursday",
          "Sunday",
          "Monday",
          "Tuesday",
          "Thursday",
          "Friday",
          "Saturday",
          "Wednesday",
          "Tuesday",
          "Thursday",
          "Friday",
          "Monday",
          "Sunday",
          "Saturday",
          "Tuesday",
          "Monday",
          "Sunday",
          "Thursday",
          "Monday",
          "Friday",
          "Sunday",
          "Thursday",
          "Friday",
          "Wednesday",
          "Friday",
          "Saturday",
          "Monday",
          "Thursday",
          "Tuesday",
          "Saturday",
          "Sunday",
          "Saturday",
          "Tuesday",
          "Tuesday"
         ],
         "xaxis": "x",
         "y": [
          7467,
          2663,
          1577,
          1474,
          1370,
          1311,
          1306,
          1235,
          1203,
          1193,
          1094,
          1072,
          1067,
          1051,
          1013,
          1012,
          994,
          981,
          977,
          972,
          949,
          924,
          916,
          908,
          906,
          876,
          869,
          847,
          845,
          839,
          820,
          815,
          811,
          777,
          775,
          756,
          751,
          741,
          714,
          703,
          698,
          689,
          686,
          686,
          685,
          665,
          658,
          652,
          644,
          642,
          638,
          637,
          636,
          632,
          629,
          608,
          607,
          599,
          596,
          592,
          578,
          577,
          577,
          572,
          567,
          560,
          538,
          521,
          515,
          512,
          511,
          507,
          503,
          502,
          500,
          491,
          481,
          479,
          476,
          472,
          468,
          468,
          467,
          465,
          463,
          459,
          452,
          452,
          450,
          448,
          448,
          443,
          441,
          441,
          439,
          434,
          433,
          432,
          431,
          431
         ],
         "yaxis": "y"
        }
       ],
       "layout": {
        "legend": {
         "tracegroupgap": 0
        },
        "template": {
         "data": {
          "bar": [
           {
            "error_x": {
             "color": "#2a3f5f"
            },
            "error_y": {
             "color": "#2a3f5f"
            },
            "marker": {
             "line": {
              "color": "#E5ECF6",
              "width": 0.5
             },
             "pattern": {
              "fillmode": "overlay",
              "size": 10,
              "solidity": 0.2
             }
            },
            "type": "bar"
           }
          ],
          "barpolar": [
           {
            "marker": {
             "line": {
              "color": "#E5ECF6",
              "width": 0.5
             },
             "pattern": {
              "fillmode": "overlay",
              "size": 10,
              "solidity": 0.2
             }
            },
            "type": "barpolar"
           }
          ],
          "carpet": [
           {
            "aaxis": {
             "endlinecolor": "#2a3f5f",
             "gridcolor": "white",
             "linecolor": "white",
             "minorgridcolor": "white",
             "startlinecolor": "#2a3f5f"
            },
            "baxis": {
             "endlinecolor": "#2a3f5f",
             "gridcolor": "white",
             "linecolor": "white",
             "minorgridcolor": "white",
             "startlinecolor": "#2a3f5f"
            },
            "type": "carpet"
           }
          ],
          "choropleth": [
           {
            "colorbar": {
             "outlinewidth": 0,
             "ticks": ""
            },
            "type": "choropleth"
           }
          ],
          "contour": [
           {
            "colorbar": {
             "outlinewidth": 0,
             "ticks": ""
            },
            "colorscale": [
             [
              0,
              "#0d0887"
             ],
             [
              0.1111111111111111,
              "#46039f"
             ],
             [
              0.2222222222222222,
              "#7201a8"
             ],
             [
              0.3333333333333333,
              "#9c179e"
             ],
             [
              0.4444444444444444,
              "#bd3786"
             ],
             [
              0.5555555555555556,
              "#d8576b"
             ],
             [
              0.6666666666666666,
              "#ed7953"
             ],
             [
              0.7777777777777778,
              "#fb9f3a"
             ],
             [
              0.8888888888888888,
              "#fdca26"
             ],
             [
              1,
              "#f0f921"
             ]
            ],
            "type": "contour"
           }
          ],
          "contourcarpet": [
           {
            "colorbar": {
             "outlinewidth": 0,
             "ticks": ""
            },
            "type": "contourcarpet"
           }
          ],
          "heatmap": [
           {
            "colorbar": {
             "outlinewidth": 0,
             "ticks": ""
            },
            "colorscale": [
             [
              0,
              "#0d0887"
             ],
             [
              0.1111111111111111,
              "#46039f"
             ],
             [
              0.2222222222222222,
              "#7201a8"
             ],
             [
              0.3333333333333333,
              "#9c179e"
             ],
             [
              0.4444444444444444,
              "#bd3786"
             ],
             [
              0.5555555555555556,
              "#d8576b"
             ],
             [
              0.6666666666666666,
              "#ed7953"
             ],
             [
              0.7777777777777778,
              "#fb9f3a"
             ],
             [
              0.8888888888888888,
              "#fdca26"
             ],
             [
              1,
              "#f0f921"
             ]
            ],
            "type": "heatmap"
           }
          ],
          "heatmapgl": [
           {
            "colorbar": {
             "outlinewidth": 0,
             "ticks": ""
            },
            "colorscale": [
             [
              0,
              "#0d0887"
             ],
             [
              0.1111111111111111,
              "#46039f"
             ],
             [
              0.2222222222222222,
              "#7201a8"
             ],
             [
              0.3333333333333333,
              "#9c179e"
             ],
             [
              0.4444444444444444,
              "#bd3786"
             ],
             [
              0.5555555555555556,
              "#d8576b"
             ],
             [
              0.6666666666666666,
              "#ed7953"
             ],
             [
              0.7777777777777778,
              "#fb9f3a"
             ],
             [
              0.8888888888888888,
              "#fdca26"
             ],
             [
              1,
              "#f0f921"
             ]
            ],
            "type": "heatmapgl"
           }
          ],
          "histogram": [
           {
            "marker": {
             "pattern": {
              "fillmode": "overlay",
              "size": 10,
              "solidity": 0.2
             }
            },
            "type": "histogram"
           }
          ],
          "histogram2d": [
           {
            "colorbar": {
             "outlinewidth": 0,
             "ticks": ""
            },
            "colorscale": [
             [
              0,
              "#0d0887"
             ],
             [
              0.1111111111111111,
              "#46039f"
             ],
             [
              0.2222222222222222,
              "#7201a8"
             ],
             [
              0.3333333333333333,
              "#9c179e"
             ],
             [
              0.4444444444444444,
              "#bd3786"
             ],
             [
              0.5555555555555556,
              "#d8576b"
             ],
             [
              0.6666666666666666,
              "#ed7953"
             ],
             [
              0.7777777777777778,
              "#fb9f3a"
             ],
             [
              0.8888888888888888,
              "#fdca26"
             ],
             [
              1,
              "#f0f921"
             ]
            ],
            "type": "histogram2d"
           }
          ],
          "histogram2dcontour": [
           {
            "colorbar": {
             "outlinewidth": 0,
             "ticks": ""
            },
            "colorscale": [
             [
              0,
              "#0d0887"
             ],
             [
              0.1111111111111111,
              "#46039f"
             ],
             [
              0.2222222222222222,
              "#7201a8"
             ],
             [
              0.3333333333333333,
              "#9c179e"
             ],
             [
              0.4444444444444444,
              "#bd3786"
             ],
             [
              0.5555555555555556,
              "#d8576b"
             ],
             [
              0.6666666666666666,
              "#ed7953"
             ],
             [
              0.7777777777777778,
              "#fb9f3a"
             ],
             [
              0.8888888888888888,
              "#fdca26"
             ],
             [
              1,
              "#f0f921"
             ]
            ],
            "type": "histogram2dcontour"
           }
          ],
          "mesh3d": [
           {
            "colorbar": {
             "outlinewidth": 0,
             "ticks": ""
            },
            "type": "mesh3d"
           }
          ],
          "parcoords": [
           {
            "line": {
             "colorbar": {
              "outlinewidth": 0,
              "ticks": ""
             }
            },
            "type": "parcoords"
           }
          ],
          "pie": [
           {
            "automargin": true,
            "type": "pie"
           }
          ],
          "scatter": [
           {
            "fillpattern": {
             "fillmode": "overlay",
             "size": 10,
             "solidity": 0.2
            },
            "type": "scatter"
           }
          ],
          "scatter3d": [
           {
            "line": {
             "colorbar": {
              "outlinewidth": 0,
              "ticks": ""
             }
            },
            "marker": {
             "colorbar": {
              "outlinewidth": 0,
              "ticks": ""
             }
            },
            "type": "scatter3d"
           }
          ],
          "scattercarpet": [
           {
            "marker": {
             "colorbar": {
              "outlinewidth": 0,
              "ticks": ""
             }
            },
            "type": "scattercarpet"
           }
          ],
          "scattergeo": [
           {
            "marker": {
             "colorbar": {
              "outlinewidth": 0,
              "ticks": ""
             }
            },
            "type": "scattergeo"
           }
          ],
          "scattergl": [
           {
            "marker": {
             "colorbar": {
              "outlinewidth": 0,
              "ticks": ""
             }
            },
            "type": "scattergl"
           }
          ],
          "scattermapbox": [
           {
            "marker": {
             "colorbar": {
              "outlinewidth": 0,
              "ticks": ""
             }
            },
            "type": "scattermapbox"
           }
          ],
          "scatterpolar": [
           {
            "marker": {
             "colorbar": {
              "outlinewidth": 0,
              "ticks": ""
             }
            },
            "type": "scatterpolar"
           }
          ],
          "scatterpolargl": [
           {
            "marker": {
             "colorbar": {
              "outlinewidth": 0,
              "ticks": ""
             }
            },
            "type": "scatterpolargl"
           }
          ],
          "scatterternary": [
           {
            "marker": {
             "colorbar": {
              "outlinewidth": 0,
              "ticks": ""
             }
            },
            "type": "scatterternary"
           }
          ],
          "surface": [
           {
            "colorbar": {
             "outlinewidth": 0,
             "ticks": ""
            },
            "colorscale": [
             [
              0,
              "#0d0887"
             ],
             [
              0.1111111111111111,
              "#46039f"
             ],
             [
              0.2222222222222222,
              "#7201a8"
             ],
             [
              0.3333333333333333,
              "#9c179e"
             ],
             [
              0.4444444444444444,
              "#bd3786"
             ],
             [
              0.5555555555555556,
              "#d8576b"
             ],
             [
              0.6666666666666666,
              "#ed7953"
             ],
             [
              0.7777777777777778,
              "#fb9f3a"
             ],
             [
              0.8888888888888888,
              "#fdca26"
             ],
             [
              1,
              "#f0f921"
             ]
            ],
            "type": "surface"
           }
          ],
          "table": [
           {
            "cells": {
             "fill": {
              "color": "#EBF0F8"
             },
             "line": {
              "color": "white"
             }
            },
            "header": {
             "fill": {
              "color": "#C8D4E3"
             },
             "line": {
              "color": "white"
             }
            },
            "type": "table"
           }
          ]
         },
         "layout": {
          "annotationdefaults": {
           "arrowcolor": "#2a3f5f",
           "arrowhead": 0,
           "arrowwidth": 1
          },
          "autotypenumbers": "strict",
          "coloraxis": {
           "colorbar": {
            "outlinewidth": 0,
            "ticks": ""
           }
          },
          "colorscale": {
           "diverging": [
            [
             0,
             "#8e0152"
            ],
            [
             0.1,
             "#c51b7d"
            ],
            [
             0.2,
             "#de77ae"
            ],
            [
             0.3,
             "#f1b6da"
            ],
            [
             0.4,
             "#fde0ef"
            ],
            [
             0.5,
             "#f7f7f7"
            ],
            [
             0.6,
             "#e6f5d0"
            ],
            [
             0.7,
             "#b8e186"
            ],
            [
             0.8,
             "#7fbc41"
            ],
            [
             0.9,
             "#4d9221"
            ],
            [
             1,
             "#276419"
            ]
           ],
           "sequential": [
            [
             0,
             "#0d0887"
            ],
            [
             0.1111111111111111,
             "#46039f"
            ],
            [
             0.2222222222222222,
             "#7201a8"
            ],
            [
             0.3333333333333333,
             "#9c179e"
            ],
            [
             0.4444444444444444,
             "#bd3786"
            ],
            [
             0.5555555555555556,
             "#d8576b"
            ],
            [
             0.6666666666666666,
             "#ed7953"
            ],
            [
             0.7777777777777778,
             "#fb9f3a"
            ],
            [
             0.8888888888888888,
             "#fdca26"
            ],
            [
             1,
             "#f0f921"
            ]
           ],
           "sequentialminus": [
            [
             0,
             "#0d0887"
            ],
            [
             0.1111111111111111,
             "#46039f"
            ],
            [
             0.2222222222222222,
             "#7201a8"
            ],
            [
             0.3333333333333333,
             "#9c179e"
            ],
            [
             0.4444444444444444,
             "#bd3786"
            ],
            [
             0.5555555555555556,
             "#d8576b"
            ],
            [
             0.6666666666666666,
             "#ed7953"
            ],
            [
             0.7777777777777778,
             "#fb9f3a"
            ],
            [
             0.8888888888888888,
             "#fdca26"
            ],
            [
             1,
             "#f0f921"
            ]
           ]
          },
          "colorway": [
           "#636efa",
           "#EF553B",
           "#00cc96",
           "#ab63fa",
           "#FFA15A",
           "#19d3f3",
           "#FF6692",
           "#B6E880",
           "#FF97FF",
           "#FECB52"
          ],
          "font": {
           "color": "#2a3f5f"
          },
          "geo": {
           "bgcolor": "white",
           "lakecolor": "white",
           "landcolor": "#E5ECF6",
           "showlakes": true,
           "showland": true,
           "subunitcolor": "white"
          },
          "hoverlabel": {
           "align": "left"
          },
          "hovermode": "closest",
          "mapbox": {
           "style": "light"
          },
          "paper_bgcolor": "white",
          "plot_bgcolor": "#E5ECF6",
          "polar": {
           "angularaxis": {
            "gridcolor": "white",
            "linecolor": "white",
            "ticks": ""
           },
           "bgcolor": "#E5ECF6",
           "radialaxis": {
            "gridcolor": "white",
            "linecolor": "white",
            "ticks": ""
           }
          },
          "scene": {
           "xaxis": {
            "backgroundcolor": "#E5ECF6",
            "gridcolor": "white",
            "gridwidth": 2,
            "linecolor": "white",
            "showbackground": true,
            "ticks": "",
            "zerolinecolor": "white"
           },
           "yaxis": {
            "backgroundcolor": "#E5ECF6",
            "gridcolor": "white",
            "gridwidth": 2,
            "linecolor": "white",
            "showbackground": true,
            "ticks": "",
            "zerolinecolor": "white"
           },
           "zaxis": {
            "backgroundcolor": "#E5ECF6",
            "gridcolor": "white",
            "gridwidth": 2,
            "linecolor": "white",
            "showbackground": true,
            "ticks": "",
            "zerolinecolor": "white"
           }
          },
          "shapedefaults": {
           "line": {
            "color": "#2a3f5f"
           }
          },
          "ternary": {
           "aaxis": {
            "gridcolor": "white",
            "linecolor": "white",
            "ticks": ""
           },
           "baxis": {
            "gridcolor": "white",
            "linecolor": "white",
            "ticks": ""
           },
           "bgcolor": "#E5ECF6",
           "caxis": {
            "gridcolor": "white",
            "linecolor": "white",
            "ticks": ""
           }
          },
          "title": {
           "x": 0.05
          },
          "xaxis": {
           "automargin": true,
           "gridcolor": "white",
           "linecolor": "white",
           "ticks": "",
           "title": {
            "standoff": 15
           },
           "zerolinecolor": "white",
           "zerolinewidth": 2
          },
          "yaxis": {
           "automargin": true,
           "gridcolor": "white",
           "linecolor": "white",
           "ticks": "",
           "title": {
            "standoff": 15
           },
           "zerolinecolor": "white",
           "zerolinewidth": 2
          }
         }
        },
        "title": {
         "text": "Vote Count compared to day of Launch"
        },
        "xaxis": {
         "anchor": "y",
         "domain": [
          0,
          1
         ],
         "title": {
          "text": "day"
         }
        },
        "yaxis": {
         "anchor": "x",
         "domain": [
          0,
          1
         ],
         "title": {
          "text": "votesCount"
         }
        }
       }
      }
     },
     "metadata": {},
     "output_type": "display_data"
    }
   ],
   "source": [
    "px.scatter(top_posts_df, x='day', y='votesCount',title='Vote Count compared to day of Launch')"
   ]
  },
  {
   "cell_type": "code",
   "execution_count": 12,
   "metadata": {},
   "outputs": [
    {
     "data": {
      "application/vnd.plotly.v1+json": {
       "config": {
        "plotlyServerURL": "https://plot.ly"
       },
       "data": [
        {
         "alignmentgroup": "True",
         "hovertemplate": "day=%{x}<br>votesCount=%{y}<extra></extra>",
         "legendgroup": "",
         "marker": {
          "color": "#636efa"
         },
         "name": "",
         "notched": false,
         "offsetgroup": "",
         "orientation": "v",
         "showlegend": false,
         "type": "box",
         "x": [
          "Friday",
          "Tuesday",
          "Tuesday",
          "Wednesday",
          "Tuesday",
          "Monday",
          "Tuesday",
          "Tuesday",
          "Monday",
          "Wednesday",
          "Monday",
          "Saturday",
          "Tuesday",
          "Thursday",
          "Friday",
          "Saturday",
          "Wednesday",
          "Tuesday",
          "Thursday",
          "Monday",
          "Sunday",
          "Friday",
          "Thursday",
          "Wednesday",
          "Thursday",
          "Friday",
          "Monday",
          "Tuesday",
          "Thursday",
          "Thursday",
          "Monday",
          "Wednesday",
          "Friday",
          "Friday",
          "Tuesday",
          "Thursday",
          "Sunday",
          "Saturday",
          "Thursday",
          "Thursday",
          "Friday",
          "Wednesday",
          "Sunday",
          "Thursday",
          "Saturday",
          "Tuesday",
          "Tuesday",
          "Wednesday",
          "Wednesday",
          "Monday",
          "Wednesday",
          "Tuesday",
          "Tuesday",
          "Saturday",
          "Tuesday",
          "Monday",
          "Thursday",
          "Monday",
          "Saturday",
          "Tuesday",
          "Wednesday",
          "Friday",
          "Wednesday",
          "Sunday",
          "Thursday",
          "Monday",
          "Thursday",
          "Sunday",
          "Monday",
          "Tuesday",
          "Thursday",
          "Friday",
          "Saturday",
          "Wednesday",
          "Tuesday",
          "Thursday",
          "Friday",
          "Monday",
          "Sunday",
          "Saturday",
          "Tuesday",
          "Monday",
          "Sunday",
          "Thursday",
          "Monday",
          "Friday",
          "Sunday",
          "Thursday",
          "Friday",
          "Wednesday",
          "Friday",
          "Saturday",
          "Monday",
          "Thursday",
          "Tuesday",
          "Saturday",
          "Sunday",
          "Saturday",
          "Tuesday",
          "Tuesday"
         ],
         "x0": " ",
         "xaxis": "x",
         "y": [
          7467,
          2663,
          1577,
          1474,
          1370,
          1311,
          1306,
          1235,
          1203,
          1193,
          1094,
          1072,
          1067,
          1051,
          1013,
          1012,
          994,
          981,
          977,
          972,
          949,
          924,
          916,
          908,
          906,
          876,
          869,
          847,
          845,
          839,
          820,
          815,
          811,
          777,
          775,
          756,
          751,
          741,
          714,
          703,
          698,
          689,
          686,
          686,
          685,
          665,
          658,
          652,
          644,
          642,
          638,
          637,
          636,
          632,
          629,
          608,
          607,
          599,
          596,
          592,
          578,
          577,
          577,
          572,
          567,
          560,
          538,
          521,
          515,
          512,
          511,
          507,
          503,
          502,
          500,
          491,
          481,
          479,
          476,
          472,
          468,
          468,
          467,
          465,
          463,
          459,
          452,
          452,
          450,
          448,
          448,
          443,
          441,
          441,
          439,
          434,
          433,
          432,
          431,
          431
         ],
         "y0": " ",
         "yaxis": "y"
        }
       ],
       "layout": {
        "boxmode": "group",
        "legend": {
         "tracegroupgap": 0
        },
        "template": {
         "data": {
          "bar": [
           {
            "error_x": {
             "color": "#2a3f5f"
            },
            "error_y": {
             "color": "#2a3f5f"
            },
            "marker": {
             "line": {
              "color": "#E5ECF6",
              "width": 0.5
             },
             "pattern": {
              "fillmode": "overlay",
              "size": 10,
              "solidity": 0.2
             }
            },
            "type": "bar"
           }
          ],
          "barpolar": [
           {
            "marker": {
             "line": {
              "color": "#E5ECF6",
              "width": 0.5
             },
             "pattern": {
              "fillmode": "overlay",
              "size": 10,
              "solidity": 0.2
             }
            },
            "type": "barpolar"
           }
          ],
          "carpet": [
           {
            "aaxis": {
             "endlinecolor": "#2a3f5f",
             "gridcolor": "white",
             "linecolor": "white",
             "minorgridcolor": "white",
             "startlinecolor": "#2a3f5f"
            },
            "baxis": {
             "endlinecolor": "#2a3f5f",
             "gridcolor": "white",
             "linecolor": "white",
             "minorgridcolor": "white",
             "startlinecolor": "#2a3f5f"
            },
            "type": "carpet"
           }
          ],
          "choropleth": [
           {
            "colorbar": {
             "outlinewidth": 0,
             "ticks": ""
            },
            "type": "choropleth"
           }
          ],
          "contour": [
           {
            "colorbar": {
             "outlinewidth": 0,
             "ticks": ""
            },
            "colorscale": [
             [
              0,
              "#0d0887"
             ],
             [
              0.1111111111111111,
              "#46039f"
             ],
             [
              0.2222222222222222,
              "#7201a8"
             ],
             [
              0.3333333333333333,
              "#9c179e"
             ],
             [
              0.4444444444444444,
              "#bd3786"
             ],
             [
              0.5555555555555556,
              "#d8576b"
             ],
             [
              0.6666666666666666,
              "#ed7953"
             ],
             [
              0.7777777777777778,
              "#fb9f3a"
             ],
             [
              0.8888888888888888,
              "#fdca26"
             ],
             [
              1,
              "#f0f921"
             ]
            ],
            "type": "contour"
           }
          ],
          "contourcarpet": [
           {
            "colorbar": {
             "outlinewidth": 0,
             "ticks": ""
            },
            "type": "contourcarpet"
           }
          ],
          "heatmap": [
           {
            "colorbar": {
             "outlinewidth": 0,
             "ticks": ""
            },
            "colorscale": [
             [
              0,
              "#0d0887"
             ],
             [
              0.1111111111111111,
              "#46039f"
             ],
             [
              0.2222222222222222,
              "#7201a8"
             ],
             [
              0.3333333333333333,
              "#9c179e"
             ],
             [
              0.4444444444444444,
              "#bd3786"
             ],
             [
              0.5555555555555556,
              "#d8576b"
             ],
             [
              0.6666666666666666,
              "#ed7953"
             ],
             [
              0.7777777777777778,
              "#fb9f3a"
             ],
             [
              0.8888888888888888,
              "#fdca26"
             ],
             [
              1,
              "#f0f921"
             ]
            ],
            "type": "heatmap"
           }
          ],
          "heatmapgl": [
           {
            "colorbar": {
             "outlinewidth": 0,
             "ticks": ""
            },
            "colorscale": [
             [
              0,
              "#0d0887"
             ],
             [
              0.1111111111111111,
              "#46039f"
             ],
             [
              0.2222222222222222,
              "#7201a8"
             ],
             [
              0.3333333333333333,
              "#9c179e"
             ],
             [
              0.4444444444444444,
              "#bd3786"
             ],
             [
              0.5555555555555556,
              "#d8576b"
             ],
             [
              0.6666666666666666,
              "#ed7953"
             ],
             [
              0.7777777777777778,
              "#fb9f3a"
             ],
             [
              0.8888888888888888,
              "#fdca26"
             ],
             [
              1,
              "#f0f921"
             ]
            ],
            "type": "heatmapgl"
           }
          ],
          "histogram": [
           {
            "marker": {
             "pattern": {
              "fillmode": "overlay",
              "size": 10,
              "solidity": 0.2
             }
            },
            "type": "histogram"
           }
          ],
          "histogram2d": [
           {
            "colorbar": {
             "outlinewidth": 0,
             "ticks": ""
            },
            "colorscale": [
             [
              0,
              "#0d0887"
             ],
             [
              0.1111111111111111,
              "#46039f"
             ],
             [
              0.2222222222222222,
              "#7201a8"
             ],
             [
              0.3333333333333333,
              "#9c179e"
             ],
             [
              0.4444444444444444,
              "#bd3786"
             ],
             [
              0.5555555555555556,
              "#d8576b"
             ],
             [
              0.6666666666666666,
              "#ed7953"
             ],
             [
              0.7777777777777778,
              "#fb9f3a"
             ],
             [
              0.8888888888888888,
              "#fdca26"
             ],
             [
              1,
              "#f0f921"
             ]
            ],
            "type": "histogram2d"
           }
          ],
          "histogram2dcontour": [
           {
            "colorbar": {
             "outlinewidth": 0,
             "ticks": ""
            },
            "colorscale": [
             [
              0,
              "#0d0887"
             ],
             [
              0.1111111111111111,
              "#46039f"
             ],
             [
              0.2222222222222222,
              "#7201a8"
             ],
             [
              0.3333333333333333,
              "#9c179e"
             ],
             [
              0.4444444444444444,
              "#bd3786"
             ],
             [
              0.5555555555555556,
              "#d8576b"
             ],
             [
              0.6666666666666666,
              "#ed7953"
             ],
             [
              0.7777777777777778,
              "#fb9f3a"
             ],
             [
              0.8888888888888888,
              "#fdca26"
             ],
             [
              1,
              "#f0f921"
             ]
            ],
            "type": "histogram2dcontour"
           }
          ],
          "mesh3d": [
           {
            "colorbar": {
             "outlinewidth": 0,
             "ticks": ""
            },
            "type": "mesh3d"
           }
          ],
          "parcoords": [
           {
            "line": {
             "colorbar": {
              "outlinewidth": 0,
              "ticks": ""
             }
            },
            "type": "parcoords"
           }
          ],
          "pie": [
           {
            "automargin": true,
            "type": "pie"
           }
          ],
          "scatter": [
           {
            "fillpattern": {
             "fillmode": "overlay",
             "size": 10,
             "solidity": 0.2
            },
            "type": "scatter"
           }
          ],
          "scatter3d": [
           {
            "line": {
             "colorbar": {
              "outlinewidth": 0,
              "ticks": ""
             }
            },
            "marker": {
             "colorbar": {
              "outlinewidth": 0,
              "ticks": ""
             }
            },
            "type": "scatter3d"
           }
          ],
          "scattercarpet": [
           {
            "marker": {
             "colorbar": {
              "outlinewidth": 0,
              "ticks": ""
             }
            },
            "type": "scattercarpet"
           }
          ],
          "scattergeo": [
           {
            "marker": {
             "colorbar": {
              "outlinewidth": 0,
              "ticks": ""
             }
            },
            "type": "scattergeo"
           }
          ],
          "scattergl": [
           {
            "marker": {
             "colorbar": {
              "outlinewidth": 0,
              "ticks": ""
             }
            },
            "type": "scattergl"
           }
          ],
          "scattermapbox": [
           {
            "marker": {
             "colorbar": {
              "outlinewidth": 0,
              "ticks": ""
             }
            },
            "type": "scattermapbox"
           }
          ],
          "scatterpolar": [
           {
            "marker": {
             "colorbar": {
              "outlinewidth": 0,
              "ticks": ""
             }
            },
            "type": "scatterpolar"
           }
          ],
          "scatterpolargl": [
           {
            "marker": {
             "colorbar": {
              "outlinewidth": 0,
              "ticks": ""
             }
            },
            "type": "scatterpolargl"
           }
          ],
          "scatterternary": [
           {
            "marker": {
             "colorbar": {
              "outlinewidth": 0,
              "ticks": ""
             }
            },
            "type": "scatterternary"
           }
          ],
          "surface": [
           {
            "colorbar": {
             "outlinewidth": 0,
             "ticks": ""
            },
            "colorscale": [
             [
              0,
              "#0d0887"
             ],
             [
              0.1111111111111111,
              "#46039f"
             ],
             [
              0.2222222222222222,
              "#7201a8"
             ],
             [
              0.3333333333333333,
              "#9c179e"
             ],
             [
              0.4444444444444444,
              "#bd3786"
             ],
             [
              0.5555555555555556,
              "#d8576b"
             ],
             [
              0.6666666666666666,
              "#ed7953"
             ],
             [
              0.7777777777777778,
              "#fb9f3a"
             ],
             [
              0.8888888888888888,
              "#fdca26"
             ],
             [
              1,
              "#f0f921"
             ]
            ],
            "type": "surface"
           }
          ],
          "table": [
           {
            "cells": {
             "fill": {
              "color": "#EBF0F8"
             },
             "line": {
              "color": "white"
             }
            },
            "header": {
             "fill": {
              "color": "#C8D4E3"
             },
             "line": {
              "color": "white"
             }
            },
            "type": "table"
           }
          ]
         },
         "layout": {
          "annotationdefaults": {
           "arrowcolor": "#2a3f5f",
           "arrowhead": 0,
           "arrowwidth": 1
          },
          "autotypenumbers": "strict",
          "coloraxis": {
           "colorbar": {
            "outlinewidth": 0,
            "ticks": ""
           }
          },
          "colorscale": {
           "diverging": [
            [
             0,
             "#8e0152"
            ],
            [
             0.1,
             "#c51b7d"
            ],
            [
             0.2,
             "#de77ae"
            ],
            [
             0.3,
             "#f1b6da"
            ],
            [
             0.4,
             "#fde0ef"
            ],
            [
             0.5,
             "#f7f7f7"
            ],
            [
             0.6,
             "#e6f5d0"
            ],
            [
             0.7,
             "#b8e186"
            ],
            [
             0.8,
             "#7fbc41"
            ],
            [
             0.9,
             "#4d9221"
            ],
            [
             1,
             "#276419"
            ]
           ],
           "sequential": [
            [
             0,
             "#0d0887"
            ],
            [
             0.1111111111111111,
             "#46039f"
            ],
            [
             0.2222222222222222,
             "#7201a8"
            ],
            [
             0.3333333333333333,
             "#9c179e"
            ],
            [
             0.4444444444444444,
             "#bd3786"
            ],
            [
             0.5555555555555556,
             "#d8576b"
            ],
            [
             0.6666666666666666,
             "#ed7953"
            ],
            [
             0.7777777777777778,
             "#fb9f3a"
            ],
            [
             0.8888888888888888,
             "#fdca26"
            ],
            [
             1,
             "#f0f921"
            ]
           ],
           "sequentialminus": [
            [
             0,
             "#0d0887"
            ],
            [
             0.1111111111111111,
             "#46039f"
            ],
            [
             0.2222222222222222,
             "#7201a8"
            ],
            [
             0.3333333333333333,
             "#9c179e"
            ],
            [
             0.4444444444444444,
             "#bd3786"
            ],
            [
             0.5555555555555556,
             "#d8576b"
            ],
            [
             0.6666666666666666,
             "#ed7953"
            ],
            [
             0.7777777777777778,
             "#fb9f3a"
            ],
            [
             0.8888888888888888,
             "#fdca26"
            ],
            [
             1,
             "#f0f921"
            ]
           ]
          },
          "colorway": [
           "#636efa",
           "#EF553B",
           "#00cc96",
           "#ab63fa",
           "#FFA15A",
           "#19d3f3",
           "#FF6692",
           "#B6E880",
           "#FF97FF",
           "#FECB52"
          ],
          "font": {
           "color": "#2a3f5f"
          },
          "geo": {
           "bgcolor": "white",
           "lakecolor": "white",
           "landcolor": "#E5ECF6",
           "showlakes": true,
           "showland": true,
           "subunitcolor": "white"
          },
          "hoverlabel": {
           "align": "left"
          },
          "hovermode": "closest",
          "mapbox": {
           "style": "light"
          },
          "paper_bgcolor": "white",
          "plot_bgcolor": "#E5ECF6",
          "polar": {
           "angularaxis": {
            "gridcolor": "white",
            "linecolor": "white",
            "ticks": ""
           },
           "bgcolor": "#E5ECF6",
           "radialaxis": {
            "gridcolor": "white",
            "linecolor": "white",
            "ticks": ""
           }
          },
          "scene": {
           "xaxis": {
            "backgroundcolor": "#E5ECF6",
            "gridcolor": "white",
            "gridwidth": 2,
            "linecolor": "white",
            "showbackground": true,
            "ticks": "",
            "zerolinecolor": "white"
           },
           "yaxis": {
            "backgroundcolor": "#E5ECF6",
            "gridcolor": "white",
            "gridwidth": 2,
            "linecolor": "white",
            "showbackground": true,
            "ticks": "",
            "zerolinecolor": "white"
           },
           "zaxis": {
            "backgroundcolor": "#E5ECF6",
            "gridcolor": "white",
            "gridwidth": 2,
            "linecolor": "white",
            "showbackground": true,
            "ticks": "",
            "zerolinecolor": "white"
           }
          },
          "shapedefaults": {
           "line": {
            "color": "#2a3f5f"
           }
          },
          "ternary": {
           "aaxis": {
            "gridcolor": "white",
            "linecolor": "white",
            "ticks": ""
           },
           "baxis": {
            "gridcolor": "white",
            "linecolor": "white",
            "ticks": ""
           },
           "bgcolor": "#E5ECF6",
           "caxis": {
            "gridcolor": "white",
            "linecolor": "white",
            "ticks": ""
           }
          },
          "title": {
           "x": 0.05
          },
          "xaxis": {
           "automargin": true,
           "gridcolor": "white",
           "linecolor": "white",
           "ticks": "",
           "title": {
            "standoff": 15
           },
           "zerolinecolor": "white",
           "zerolinewidth": 2
          },
          "yaxis": {
           "automargin": true,
           "gridcolor": "white",
           "linecolor": "white",
           "ticks": "",
           "title": {
            "standoff": 15
           },
           "zerolinecolor": "white",
           "zerolinewidth": 2
          }
         }
        },
        "title": {
         "text": "Vote Count compared to day of Launch"
        },
        "xaxis": {
         "anchor": "y",
         "domain": [
          0,
          1
         ],
         "title": {
          "text": "day"
         }
        },
        "yaxis": {
         "anchor": "x",
         "domain": [
          0,
          1
         ],
         "title": {
          "text": "votesCount"
         }
        }
       }
      }
     },
     "metadata": {},
     "output_type": "display_data"
    }
   ],
   "source": [
    "px.box(top_posts_df, x='day', y='votesCount',title='Vote Count compared to day of Launch')"
   ]
  },
  {
   "cell_type": "code",
   "execution_count": 13,
   "metadata": {},
   "outputs": [
    {
     "data": {
      "application/vnd.plotly.v1+json": {
       "config": {
        "plotlyServerURL": "https://plot.ly"
       },
       "data": [
        {
         "alignmentgroup": "True",
         "hovertemplate": "variable=votesCount<br>day=%{x}<br>value=%{y}<extra></extra>",
         "legendgroup": "votesCount",
         "marker": {
          "color": "#636efa",
          "pattern": {
           "shape": ""
          }
         },
         "name": "votesCount",
         "offsetgroup": "votesCount",
         "orientation": "v",
         "showlegend": true,
         "textposition": "auto",
         "type": "bar",
         "x": [
          "Friday",
          "Tuesday",
          "Wednesday",
          "Monday",
          "Thursday",
          "Saturday",
          "Sunday"
         ],
         "xaxis": "x",
         "y": [
          1191,
          877,
          778,
          736,
          692,
          638,
          590
         ],
         "yaxis": "y"
        }
       ],
       "layout": {
        "barmode": "relative",
        "legend": {
         "title": {
          "text": "variable"
         },
         "tracegroupgap": 0
        },
        "template": {
         "data": {
          "bar": [
           {
            "error_x": {
             "color": "#2a3f5f"
            },
            "error_y": {
             "color": "#2a3f5f"
            },
            "marker": {
             "line": {
              "color": "#E5ECF6",
              "width": 0.5
             },
             "pattern": {
              "fillmode": "overlay",
              "size": 10,
              "solidity": 0.2
             }
            },
            "type": "bar"
           }
          ],
          "barpolar": [
           {
            "marker": {
             "line": {
              "color": "#E5ECF6",
              "width": 0.5
             },
             "pattern": {
              "fillmode": "overlay",
              "size": 10,
              "solidity": 0.2
             }
            },
            "type": "barpolar"
           }
          ],
          "carpet": [
           {
            "aaxis": {
             "endlinecolor": "#2a3f5f",
             "gridcolor": "white",
             "linecolor": "white",
             "minorgridcolor": "white",
             "startlinecolor": "#2a3f5f"
            },
            "baxis": {
             "endlinecolor": "#2a3f5f",
             "gridcolor": "white",
             "linecolor": "white",
             "minorgridcolor": "white",
             "startlinecolor": "#2a3f5f"
            },
            "type": "carpet"
           }
          ],
          "choropleth": [
           {
            "colorbar": {
             "outlinewidth": 0,
             "ticks": ""
            },
            "type": "choropleth"
           }
          ],
          "contour": [
           {
            "colorbar": {
             "outlinewidth": 0,
             "ticks": ""
            },
            "colorscale": [
             [
              0,
              "#0d0887"
             ],
             [
              0.1111111111111111,
              "#46039f"
             ],
             [
              0.2222222222222222,
              "#7201a8"
             ],
             [
              0.3333333333333333,
              "#9c179e"
             ],
             [
              0.4444444444444444,
              "#bd3786"
             ],
             [
              0.5555555555555556,
              "#d8576b"
             ],
             [
              0.6666666666666666,
              "#ed7953"
             ],
             [
              0.7777777777777778,
              "#fb9f3a"
             ],
             [
              0.8888888888888888,
              "#fdca26"
             ],
             [
              1,
              "#f0f921"
             ]
            ],
            "type": "contour"
           }
          ],
          "contourcarpet": [
           {
            "colorbar": {
             "outlinewidth": 0,
             "ticks": ""
            },
            "type": "contourcarpet"
           }
          ],
          "heatmap": [
           {
            "colorbar": {
             "outlinewidth": 0,
             "ticks": ""
            },
            "colorscale": [
             [
              0,
              "#0d0887"
             ],
             [
              0.1111111111111111,
              "#46039f"
             ],
             [
              0.2222222222222222,
              "#7201a8"
             ],
             [
              0.3333333333333333,
              "#9c179e"
             ],
             [
              0.4444444444444444,
              "#bd3786"
             ],
             [
              0.5555555555555556,
              "#d8576b"
             ],
             [
              0.6666666666666666,
              "#ed7953"
             ],
             [
              0.7777777777777778,
              "#fb9f3a"
             ],
             [
              0.8888888888888888,
              "#fdca26"
             ],
             [
              1,
              "#f0f921"
             ]
            ],
            "type": "heatmap"
           }
          ],
          "heatmapgl": [
           {
            "colorbar": {
             "outlinewidth": 0,
             "ticks": ""
            },
            "colorscale": [
             [
              0,
              "#0d0887"
             ],
             [
              0.1111111111111111,
              "#46039f"
             ],
             [
              0.2222222222222222,
              "#7201a8"
             ],
             [
              0.3333333333333333,
              "#9c179e"
             ],
             [
              0.4444444444444444,
              "#bd3786"
             ],
             [
              0.5555555555555556,
              "#d8576b"
             ],
             [
              0.6666666666666666,
              "#ed7953"
             ],
             [
              0.7777777777777778,
              "#fb9f3a"
             ],
             [
              0.8888888888888888,
              "#fdca26"
             ],
             [
              1,
              "#f0f921"
             ]
            ],
            "type": "heatmapgl"
           }
          ],
          "histogram": [
           {
            "marker": {
             "pattern": {
              "fillmode": "overlay",
              "size": 10,
              "solidity": 0.2
             }
            },
            "type": "histogram"
           }
          ],
          "histogram2d": [
           {
            "colorbar": {
             "outlinewidth": 0,
             "ticks": ""
            },
            "colorscale": [
             [
              0,
              "#0d0887"
             ],
             [
              0.1111111111111111,
              "#46039f"
             ],
             [
              0.2222222222222222,
              "#7201a8"
             ],
             [
              0.3333333333333333,
              "#9c179e"
             ],
             [
              0.4444444444444444,
              "#bd3786"
             ],
             [
              0.5555555555555556,
              "#d8576b"
             ],
             [
              0.6666666666666666,
              "#ed7953"
             ],
             [
              0.7777777777777778,
              "#fb9f3a"
             ],
             [
              0.8888888888888888,
              "#fdca26"
             ],
             [
              1,
              "#f0f921"
             ]
            ],
            "type": "histogram2d"
           }
          ],
          "histogram2dcontour": [
           {
            "colorbar": {
             "outlinewidth": 0,
             "ticks": ""
            },
            "colorscale": [
             [
              0,
              "#0d0887"
             ],
             [
              0.1111111111111111,
              "#46039f"
             ],
             [
              0.2222222222222222,
              "#7201a8"
             ],
             [
              0.3333333333333333,
              "#9c179e"
             ],
             [
              0.4444444444444444,
              "#bd3786"
             ],
             [
              0.5555555555555556,
              "#d8576b"
             ],
             [
              0.6666666666666666,
              "#ed7953"
             ],
             [
              0.7777777777777778,
              "#fb9f3a"
             ],
             [
              0.8888888888888888,
              "#fdca26"
             ],
             [
              1,
              "#f0f921"
             ]
            ],
            "type": "histogram2dcontour"
           }
          ],
          "mesh3d": [
           {
            "colorbar": {
             "outlinewidth": 0,
             "ticks": ""
            },
            "type": "mesh3d"
           }
          ],
          "parcoords": [
           {
            "line": {
             "colorbar": {
              "outlinewidth": 0,
              "ticks": ""
             }
            },
            "type": "parcoords"
           }
          ],
          "pie": [
           {
            "automargin": true,
            "type": "pie"
           }
          ],
          "scatter": [
           {
            "fillpattern": {
             "fillmode": "overlay",
             "size": 10,
             "solidity": 0.2
            },
            "type": "scatter"
           }
          ],
          "scatter3d": [
           {
            "line": {
             "colorbar": {
              "outlinewidth": 0,
              "ticks": ""
             }
            },
            "marker": {
             "colorbar": {
              "outlinewidth": 0,
              "ticks": ""
             }
            },
            "type": "scatter3d"
           }
          ],
          "scattercarpet": [
           {
            "marker": {
             "colorbar": {
              "outlinewidth": 0,
              "ticks": ""
             }
            },
            "type": "scattercarpet"
           }
          ],
          "scattergeo": [
           {
            "marker": {
             "colorbar": {
              "outlinewidth": 0,
              "ticks": ""
             }
            },
            "type": "scattergeo"
           }
          ],
          "scattergl": [
           {
            "marker": {
             "colorbar": {
              "outlinewidth": 0,
              "ticks": ""
             }
            },
            "type": "scattergl"
           }
          ],
          "scattermapbox": [
           {
            "marker": {
             "colorbar": {
              "outlinewidth": 0,
              "ticks": ""
             }
            },
            "type": "scattermapbox"
           }
          ],
          "scatterpolar": [
           {
            "marker": {
             "colorbar": {
              "outlinewidth": 0,
              "ticks": ""
             }
            },
            "type": "scatterpolar"
           }
          ],
          "scatterpolargl": [
           {
            "marker": {
             "colorbar": {
              "outlinewidth": 0,
              "ticks": ""
             }
            },
            "type": "scatterpolargl"
           }
          ],
          "scatterternary": [
           {
            "marker": {
             "colorbar": {
              "outlinewidth": 0,
              "ticks": ""
             }
            },
            "type": "scatterternary"
           }
          ],
          "surface": [
           {
            "colorbar": {
             "outlinewidth": 0,
             "ticks": ""
            },
            "colorscale": [
             [
              0,
              "#0d0887"
             ],
             [
              0.1111111111111111,
              "#46039f"
             ],
             [
              0.2222222222222222,
              "#7201a8"
             ],
             [
              0.3333333333333333,
              "#9c179e"
             ],
             [
              0.4444444444444444,
              "#bd3786"
             ],
             [
              0.5555555555555556,
              "#d8576b"
             ],
             [
              0.6666666666666666,
              "#ed7953"
             ],
             [
              0.7777777777777778,
              "#fb9f3a"
             ],
             [
              0.8888888888888888,
              "#fdca26"
             ],
             [
              1,
              "#f0f921"
             ]
            ],
            "type": "surface"
           }
          ],
          "table": [
           {
            "cells": {
             "fill": {
              "color": "#EBF0F8"
             },
             "line": {
              "color": "white"
             }
            },
            "header": {
             "fill": {
              "color": "#C8D4E3"
             },
             "line": {
              "color": "white"
             }
            },
            "type": "table"
           }
          ]
         },
         "layout": {
          "annotationdefaults": {
           "arrowcolor": "#2a3f5f",
           "arrowhead": 0,
           "arrowwidth": 1
          },
          "autotypenumbers": "strict",
          "coloraxis": {
           "colorbar": {
            "outlinewidth": 0,
            "ticks": ""
           }
          },
          "colorscale": {
           "diverging": [
            [
             0,
             "#8e0152"
            ],
            [
             0.1,
             "#c51b7d"
            ],
            [
             0.2,
             "#de77ae"
            ],
            [
             0.3,
             "#f1b6da"
            ],
            [
             0.4,
             "#fde0ef"
            ],
            [
             0.5,
             "#f7f7f7"
            ],
            [
             0.6,
             "#e6f5d0"
            ],
            [
             0.7,
             "#b8e186"
            ],
            [
             0.8,
             "#7fbc41"
            ],
            [
             0.9,
             "#4d9221"
            ],
            [
             1,
             "#276419"
            ]
           ],
           "sequential": [
            [
             0,
             "#0d0887"
            ],
            [
             0.1111111111111111,
             "#46039f"
            ],
            [
             0.2222222222222222,
             "#7201a8"
            ],
            [
             0.3333333333333333,
             "#9c179e"
            ],
            [
             0.4444444444444444,
             "#bd3786"
            ],
            [
             0.5555555555555556,
             "#d8576b"
            ],
            [
             0.6666666666666666,
             "#ed7953"
            ],
            [
             0.7777777777777778,
             "#fb9f3a"
            ],
            [
             0.8888888888888888,
             "#fdca26"
            ],
            [
             1,
             "#f0f921"
            ]
           ],
           "sequentialminus": [
            [
             0,
             "#0d0887"
            ],
            [
             0.1111111111111111,
             "#46039f"
            ],
            [
             0.2222222222222222,
             "#7201a8"
            ],
            [
             0.3333333333333333,
             "#9c179e"
            ],
            [
             0.4444444444444444,
             "#bd3786"
            ],
            [
             0.5555555555555556,
             "#d8576b"
            ],
            [
             0.6666666666666666,
             "#ed7953"
            ],
            [
             0.7777777777777778,
             "#fb9f3a"
            ],
            [
             0.8888888888888888,
             "#fdca26"
            ],
            [
             1,
             "#f0f921"
            ]
           ]
          },
          "colorway": [
           "#636efa",
           "#EF553B",
           "#00cc96",
           "#ab63fa",
           "#FFA15A",
           "#19d3f3",
           "#FF6692",
           "#B6E880",
           "#FF97FF",
           "#FECB52"
          ],
          "font": {
           "color": "#2a3f5f"
          },
          "geo": {
           "bgcolor": "white",
           "lakecolor": "white",
           "landcolor": "#E5ECF6",
           "showlakes": true,
           "showland": true,
           "subunitcolor": "white"
          },
          "hoverlabel": {
           "align": "left"
          },
          "hovermode": "closest",
          "mapbox": {
           "style": "light"
          },
          "paper_bgcolor": "white",
          "plot_bgcolor": "#E5ECF6",
          "polar": {
           "angularaxis": {
            "gridcolor": "white",
            "linecolor": "white",
            "ticks": ""
           },
           "bgcolor": "#E5ECF6",
           "radialaxis": {
            "gridcolor": "white",
            "linecolor": "white",
            "ticks": ""
           }
          },
          "scene": {
           "xaxis": {
            "backgroundcolor": "#E5ECF6",
            "gridcolor": "white",
            "gridwidth": 2,
            "linecolor": "white",
            "showbackground": true,
            "ticks": "",
            "zerolinecolor": "white"
           },
           "yaxis": {
            "backgroundcolor": "#E5ECF6",
            "gridcolor": "white",
            "gridwidth": 2,
            "linecolor": "white",
            "showbackground": true,
            "ticks": "",
            "zerolinecolor": "white"
           },
           "zaxis": {
            "backgroundcolor": "#E5ECF6",
            "gridcolor": "white",
            "gridwidth": 2,
            "linecolor": "white",
            "showbackground": true,
            "ticks": "",
            "zerolinecolor": "white"
           }
          },
          "shapedefaults": {
           "line": {
            "color": "#2a3f5f"
           }
          },
          "ternary": {
           "aaxis": {
            "gridcolor": "white",
            "linecolor": "white",
            "ticks": ""
           },
           "baxis": {
            "gridcolor": "white",
            "linecolor": "white",
            "ticks": ""
           },
           "bgcolor": "#E5ECF6",
           "caxis": {
            "gridcolor": "white",
            "linecolor": "white",
            "ticks": ""
           }
          },
          "title": {
           "x": 0.05
          },
          "xaxis": {
           "automargin": true,
           "gridcolor": "white",
           "linecolor": "white",
           "ticks": "",
           "title": {
            "standoff": 15
           },
           "zerolinecolor": "white",
           "zerolinewidth": 2
          },
          "yaxis": {
           "automargin": true,
           "gridcolor": "white",
           "linecolor": "white",
           "ticks": "",
           "title": {
            "standoff": 15
           },
           "zerolinecolor": "white",
           "zerolinewidth": 2
          }
         }
        },
        "title": {
         "text": "Average Vote Count vs Day of Launch"
        },
        "xaxis": {
         "anchor": "y",
         "domain": [
          0,
          1
         ],
         "title": {
          "text": "day"
         }
        },
        "yaxis": {
         "anchor": "x",
         "domain": [
          0,
          1
         ],
         "title": {
          "text": "value"
         }
        }
       }
      }
     },
     "metadata": {},
     "output_type": "display_data"
    }
   ],
   "source": [
    "px.bar(top_posts_df.groupby('day')['votesCount'].mean().sort_values(ascending=False).round(0),title='Average Vote Count vs Day of Launch')"
   ]
  },
  {
   "cell_type": "code",
   "execution_count": 14,
   "metadata": {},
   "outputs": [
    {
     "data": {
      "application/vnd.plotly.v1+json": {
       "config": {
        "plotlyServerURL": "https://plot.ly"
       },
       "data": [
        {
         "alignmentgroup": "True",
         "hovertemplate": "variable=votesCount<br>day=%{x}<br>value=%{y}<extra></extra>",
         "legendgroup": "votesCount",
         "marker": {
          "color": "#636efa",
          "pattern": {
           "shape": ""
          }
         },
         "name": "votesCount",
         "offsetgroup": "votesCount",
         "orientation": "v",
         "showlegend": true,
         "textposition": "auto",
         "type": "bar",
         "x": [
          "Tuesday",
          "Wednesday",
          "Monday",
          "Thursday",
          "Friday",
          "Saturday",
          "Sunday"
         ],
         "xaxis": "x",
         "y": [
          877,
          778,
          736,
          692,
          668,
          638,
          590
         ],
         "yaxis": "y"
        }
       ],
       "layout": {
        "barmode": "relative",
        "legend": {
         "title": {
          "text": "variable"
         },
         "tracegroupgap": 0
        },
        "template": {
         "data": {
          "bar": [
           {
            "error_x": {
             "color": "#2a3f5f"
            },
            "error_y": {
             "color": "#2a3f5f"
            },
            "marker": {
             "line": {
              "color": "#E5ECF6",
              "width": 0.5
             },
             "pattern": {
              "fillmode": "overlay",
              "size": 10,
              "solidity": 0.2
             }
            },
            "type": "bar"
           }
          ],
          "barpolar": [
           {
            "marker": {
             "line": {
              "color": "#E5ECF6",
              "width": 0.5
             },
             "pattern": {
              "fillmode": "overlay",
              "size": 10,
              "solidity": 0.2
             }
            },
            "type": "barpolar"
           }
          ],
          "carpet": [
           {
            "aaxis": {
             "endlinecolor": "#2a3f5f",
             "gridcolor": "white",
             "linecolor": "white",
             "minorgridcolor": "white",
             "startlinecolor": "#2a3f5f"
            },
            "baxis": {
             "endlinecolor": "#2a3f5f",
             "gridcolor": "white",
             "linecolor": "white",
             "minorgridcolor": "white",
             "startlinecolor": "#2a3f5f"
            },
            "type": "carpet"
           }
          ],
          "choropleth": [
           {
            "colorbar": {
             "outlinewidth": 0,
             "ticks": ""
            },
            "type": "choropleth"
           }
          ],
          "contour": [
           {
            "colorbar": {
             "outlinewidth": 0,
             "ticks": ""
            },
            "colorscale": [
             [
              0,
              "#0d0887"
             ],
             [
              0.1111111111111111,
              "#46039f"
             ],
             [
              0.2222222222222222,
              "#7201a8"
             ],
             [
              0.3333333333333333,
              "#9c179e"
             ],
             [
              0.4444444444444444,
              "#bd3786"
             ],
             [
              0.5555555555555556,
              "#d8576b"
             ],
             [
              0.6666666666666666,
              "#ed7953"
             ],
             [
              0.7777777777777778,
              "#fb9f3a"
             ],
             [
              0.8888888888888888,
              "#fdca26"
             ],
             [
              1,
              "#f0f921"
             ]
            ],
            "type": "contour"
           }
          ],
          "contourcarpet": [
           {
            "colorbar": {
             "outlinewidth": 0,
             "ticks": ""
            },
            "type": "contourcarpet"
           }
          ],
          "heatmap": [
           {
            "colorbar": {
             "outlinewidth": 0,
             "ticks": ""
            },
            "colorscale": [
             [
              0,
              "#0d0887"
             ],
             [
              0.1111111111111111,
              "#46039f"
             ],
             [
              0.2222222222222222,
              "#7201a8"
             ],
             [
              0.3333333333333333,
              "#9c179e"
             ],
             [
              0.4444444444444444,
              "#bd3786"
             ],
             [
              0.5555555555555556,
              "#d8576b"
             ],
             [
              0.6666666666666666,
              "#ed7953"
             ],
             [
              0.7777777777777778,
              "#fb9f3a"
             ],
             [
              0.8888888888888888,
              "#fdca26"
             ],
             [
              1,
              "#f0f921"
             ]
            ],
            "type": "heatmap"
           }
          ],
          "heatmapgl": [
           {
            "colorbar": {
             "outlinewidth": 0,
             "ticks": ""
            },
            "colorscale": [
             [
              0,
              "#0d0887"
             ],
             [
              0.1111111111111111,
              "#46039f"
             ],
             [
              0.2222222222222222,
              "#7201a8"
             ],
             [
              0.3333333333333333,
              "#9c179e"
             ],
             [
              0.4444444444444444,
              "#bd3786"
             ],
             [
              0.5555555555555556,
              "#d8576b"
             ],
             [
              0.6666666666666666,
              "#ed7953"
             ],
             [
              0.7777777777777778,
              "#fb9f3a"
             ],
             [
              0.8888888888888888,
              "#fdca26"
             ],
             [
              1,
              "#f0f921"
             ]
            ],
            "type": "heatmapgl"
           }
          ],
          "histogram": [
           {
            "marker": {
             "pattern": {
              "fillmode": "overlay",
              "size": 10,
              "solidity": 0.2
             }
            },
            "type": "histogram"
           }
          ],
          "histogram2d": [
           {
            "colorbar": {
             "outlinewidth": 0,
             "ticks": ""
            },
            "colorscale": [
             [
              0,
              "#0d0887"
             ],
             [
              0.1111111111111111,
              "#46039f"
             ],
             [
              0.2222222222222222,
              "#7201a8"
             ],
             [
              0.3333333333333333,
              "#9c179e"
             ],
             [
              0.4444444444444444,
              "#bd3786"
             ],
             [
              0.5555555555555556,
              "#d8576b"
             ],
             [
              0.6666666666666666,
              "#ed7953"
             ],
             [
              0.7777777777777778,
              "#fb9f3a"
             ],
             [
              0.8888888888888888,
              "#fdca26"
             ],
             [
              1,
              "#f0f921"
             ]
            ],
            "type": "histogram2d"
           }
          ],
          "histogram2dcontour": [
           {
            "colorbar": {
             "outlinewidth": 0,
             "ticks": ""
            },
            "colorscale": [
             [
              0,
              "#0d0887"
             ],
             [
              0.1111111111111111,
              "#46039f"
             ],
             [
              0.2222222222222222,
              "#7201a8"
             ],
             [
              0.3333333333333333,
              "#9c179e"
             ],
             [
              0.4444444444444444,
              "#bd3786"
             ],
             [
              0.5555555555555556,
              "#d8576b"
             ],
             [
              0.6666666666666666,
              "#ed7953"
             ],
             [
              0.7777777777777778,
              "#fb9f3a"
             ],
             [
              0.8888888888888888,
              "#fdca26"
             ],
             [
              1,
              "#f0f921"
             ]
            ],
            "type": "histogram2dcontour"
           }
          ],
          "mesh3d": [
           {
            "colorbar": {
             "outlinewidth": 0,
             "ticks": ""
            },
            "type": "mesh3d"
           }
          ],
          "parcoords": [
           {
            "line": {
             "colorbar": {
              "outlinewidth": 0,
              "ticks": ""
             }
            },
            "type": "parcoords"
           }
          ],
          "pie": [
           {
            "automargin": true,
            "type": "pie"
           }
          ],
          "scatter": [
           {
            "fillpattern": {
             "fillmode": "overlay",
             "size": 10,
             "solidity": 0.2
            },
            "type": "scatter"
           }
          ],
          "scatter3d": [
           {
            "line": {
             "colorbar": {
              "outlinewidth": 0,
              "ticks": ""
             }
            },
            "marker": {
             "colorbar": {
              "outlinewidth": 0,
              "ticks": ""
             }
            },
            "type": "scatter3d"
           }
          ],
          "scattercarpet": [
           {
            "marker": {
             "colorbar": {
              "outlinewidth": 0,
              "ticks": ""
             }
            },
            "type": "scattercarpet"
           }
          ],
          "scattergeo": [
           {
            "marker": {
             "colorbar": {
              "outlinewidth": 0,
              "ticks": ""
             }
            },
            "type": "scattergeo"
           }
          ],
          "scattergl": [
           {
            "marker": {
             "colorbar": {
              "outlinewidth": 0,
              "ticks": ""
             }
            },
            "type": "scattergl"
           }
          ],
          "scattermapbox": [
           {
            "marker": {
             "colorbar": {
              "outlinewidth": 0,
              "ticks": ""
             }
            },
            "type": "scattermapbox"
           }
          ],
          "scatterpolar": [
           {
            "marker": {
             "colorbar": {
              "outlinewidth": 0,
              "ticks": ""
             }
            },
            "type": "scatterpolar"
           }
          ],
          "scatterpolargl": [
           {
            "marker": {
             "colorbar": {
              "outlinewidth": 0,
              "ticks": ""
             }
            },
            "type": "scatterpolargl"
           }
          ],
          "scatterternary": [
           {
            "marker": {
             "colorbar": {
              "outlinewidth": 0,
              "ticks": ""
             }
            },
            "type": "scatterternary"
           }
          ],
          "surface": [
           {
            "colorbar": {
             "outlinewidth": 0,
             "ticks": ""
            },
            "colorscale": [
             [
              0,
              "#0d0887"
             ],
             [
              0.1111111111111111,
              "#46039f"
             ],
             [
              0.2222222222222222,
              "#7201a8"
             ],
             [
              0.3333333333333333,
              "#9c179e"
             ],
             [
              0.4444444444444444,
              "#bd3786"
             ],
             [
              0.5555555555555556,
              "#d8576b"
             ],
             [
              0.6666666666666666,
              "#ed7953"
             ],
             [
              0.7777777777777778,
              "#fb9f3a"
             ],
             [
              0.8888888888888888,
              "#fdca26"
             ],
             [
              1,
              "#f0f921"
             ]
            ],
            "type": "surface"
           }
          ],
          "table": [
           {
            "cells": {
             "fill": {
              "color": "#EBF0F8"
             },
             "line": {
              "color": "white"
             }
            },
            "header": {
             "fill": {
              "color": "#C8D4E3"
             },
             "line": {
              "color": "white"
             }
            },
            "type": "table"
           }
          ]
         },
         "layout": {
          "annotationdefaults": {
           "arrowcolor": "#2a3f5f",
           "arrowhead": 0,
           "arrowwidth": 1
          },
          "autotypenumbers": "strict",
          "coloraxis": {
           "colorbar": {
            "outlinewidth": 0,
            "ticks": ""
           }
          },
          "colorscale": {
           "diverging": [
            [
             0,
             "#8e0152"
            ],
            [
             0.1,
             "#c51b7d"
            ],
            [
             0.2,
             "#de77ae"
            ],
            [
             0.3,
             "#f1b6da"
            ],
            [
             0.4,
             "#fde0ef"
            ],
            [
             0.5,
             "#f7f7f7"
            ],
            [
             0.6,
             "#e6f5d0"
            ],
            [
             0.7,
             "#b8e186"
            ],
            [
             0.8,
             "#7fbc41"
            ],
            [
             0.9,
             "#4d9221"
            ],
            [
             1,
             "#276419"
            ]
           ],
           "sequential": [
            [
             0,
             "#0d0887"
            ],
            [
             0.1111111111111111,
             "#46039f"
            ],
            [
             0.2222222222222222,
             "#7201a8"
            ],
            [
             0.3333333333333333,
             "#9c179e"
            ],
            [
             0.4444444444444444,
             "#bd3786"
            ],
            [
             0.5555555555555556,
             "#d8576b"
            ],
            [
             0.6666666666666666,
             "#ed7953"
            ],
            [
             0.7777777777777778,
             "#fb9f3a"
            ],
            [
             0.8888888888888888,
             "#fdca26"
            ],
            [
             1,
             "#f0f921"
            ]
           ],
           "sequentialminus": [
            [
             0,
             "#0d0887"
            ],
            [
             0.1111111111111111,
             "#46039f"
            ],
            [
             0.2222222222222222,
             "#7201a8"
            ],
            [
             0.3333333333333333,
             "#9c179e"
            ],
            [
             0.4444444444444444,
             "#bd3786"
            ],
            [
             0.5555555555555556,
             "#d8576b"
            ],
            [
             0.6666666666666666,
             "#ed7953"
            ],
            [
             0.7777777777777778,
             "#fb9f3a"
            ],
            [
             0.8888888888888888,
             "#fdca26"
            ],
            [
             1,
             "#f0f921"
            ]
           ]
          },
          "colorway": [
           "#636efa",
           "#EF553B",
           "#00cc96",
           "#ab63fa",
           "#FFA15A",
           "#19d3f3",
           "#FF6692",
           "#B6E880",
           "#FF97FF",
           "#FECB52"
          ],
          "font": {
           "color": "#2a3f5f"
          },
          "geo": {
           "bgcolor": "white",
           "lakecolor": "white",
           "landcolor": "#E5ECF6",
           "showlakes": true,
           "showland": true,
           "subunitcolor": "white"
          },
          "hoverlabel": {
           "align": "left"
          },
          "hovermode": "closest",
          "mapbox": {
           "style": "light"
          },
          "paper_bgcolor": "white",
          "plot_bgcolor": "#E5ECF6",
          "polar": {
           "angularaxis": {
            "gridcolor": "white",
            "linecolor": "white",
            "ticks": ""
           },
           "bgcolor": "#E5ECF6",
           "radialaxis": {
            "gridcolor": "white",
            "linecolor": "white",
            "ticks": ""
           }
          },
          "scene": {
           "xaxis": {
            "backgroundcolor": "#E5ECF6",
            "gridcolor": "white",
            "gridwidth": 2,
            "linecolor": "white",
            "showbackground": true,
            "ticks": "",
            "zerolinecolor": "white"
           },
           "yaxis": {
            "backgroundcolor": "#E5ECF6",
            "gridcolor": "white",
            "gridwidth": 2,
            "linecolor": "white",
            "showbackground": true,
            "ticks": "",
            "zerolinecolor": "white"
           },
           "zaxis": {
            "backgroundcolor": "#E5ECF6",
            "gridcolor": "white",
            "gridwidth": 2,
            "linecolor": "white",
            "showbackground": true,
            "ticks": "",
            "zerolinecolor": "white"
           }
          },
          "shapedefaults": {
           "line": {
            "color": "#2a3f5f"
           }
          },
          "ternary": {
           "aaxis": {
            "gridcolor": "white",
            "linecolor": "white",
            "ticks": ""
           },
           "baxis": {
            "gridcolor": "white",
            "linecolor": "white",
            "ticks": ""
           },
           "bgcolor": "#E5ECF6",
           "caxis": {
            "gridcolor": "white",
            "linecolor": "white",
            "ticks": ""
           }
          },
          "title": {
           "x": 0.05
          },
          "xaxis": {
           "automargin": true,
           "gridcolor": "white",
           "linecolor": "white",
           "ticks": "",
           "title": {
            "standoff": 15
           },
           "zerolinecolor": "white",
           "zerolinewidth": 2
          },
          "yaxis": {
           "automargin": true,
           "gridcolor": "white",
           "linecolor": "white",
           "ticks": "",
           "title": {
            "standoff": 15
           },
           "zerolinecolor": "white",
           "zerolinewidth": 2
          }
         }
        },
        "title": {
         "text": "Average Vote Count(without the outlier) vs Day of Launch"
        },
        "xaxis": {
         "anchor": "y",
         "domain": [
          0,
          1
         ],
         "title": {
          "text": "day"
         }
        },
        "yaxis": {
         "anchor": "x",
         "domain": [
          0,
          1
         ],
         "title": {
          "text": "value"
         }
        }
       }
      }
     },
     "metadata": {},
     "output_type": "display_data"
    }
   ],
   "source": [
    "px.bar(top_posts_df[top_posts_df['votesCount']<7000].groupby('day')['votesCount'].mean().sort_values(ascending=False).round(0),title='Average Vote Count(without the outlier) vs Day of Launch')"
   ]
  },
  {
   "cell_type": "code",
   "execution_count": 15,
   "metadata": {},
   "outputs": [
    {
     "data": {
      "text/plain": [
       "day\n",
       "Friday       1191.0\n",
       "Tuesday       877.0\n",
       "Wednesday     778.0\n",
       "Monday        736.0\n",
       "Thursday      692.0\n",
       "Saturday      638.0\n",
       "Sunday        590.0\n",
       "Name: votesCount, dtype: float64"
      ]
     },
     "execution_count": 15,
     "metadata": {},
     "output_type": "execute_result"
    }
   ],
   "source": [
    "top_posts_df.groupby('day')['votesCount'].mean().round(0).sort_values(ascending=False)"
   ]
  },
  {
   "cell_type": "code",
   "execution_count": 16,
   "metadata": {},
   "outputs": [
    {
     "data": {
      "text/plain": [
       "day\n",
       "Tuesday      877.0\n",
       "Wednesday    778.0\n",
       "Monday       736.0\n",
       "Thursday     692.0\n",
       "Friday       668.0\n",
       "Saturday     638.0\n",
       "Sunday       590.0\n",
       "Name: votesCount, dtype: float64"
      ]
     },
     "execution_count": 16,
     "metadata": {},
     "output_type": "execute_result"
    }
   ],
   "source": [
    "top_posts_df[top_posts_df['votesCount']<7000].groupby('day')['votesCount'].mean().round(0).sort_values(ascending=False)"
   ]
  },
  {
   "cell_type": "code",
   "execution_count": 17,
   "metadata": {},
   "outputs": [
    {
     "data": {
      "text/plain": [
       "day\n",
       "Tuesday      191.0\n",
       "Wednesday    175.0\n",
       "Monday       173.0\n",
       "Thursday     172.0\n",
       "Friday       158.0\n",
       "Saturday     143.0\n",
       "Sunday       128.0\n",
       "Name: commentsCount, dtype: float64"
      ]
     },
     "execution_count": 17,
     "metadata": {},
     "output_type": "execute_result"
    }
   ],
   "source": [
    "top_posts_df.groupby('day')['commentsCount'].mean().round(0).sort_values(ascending=False)"
   ]
  },
  {
   "cell_type": "code",
   "execution_count": 18,
   "metadata": {},
   "outputs": [
    {
     "data": {
      "application/vnd.plotly.v1+json": {
       "config": {
        "plotlyServerURL": "https://plot.ly"
       },
       "data": [
        {
         "alignmentgroup": "True",
         "hovertemplate": "variable=commentsCount<br>day=%{x}<br>value=%{y}<extra></extra>",
         "legendgroup": "commentsCount",
         "marker": {
          "color": "#636efa",
          "pattern": {
           "shape": ""
          }
         },
         "name": "commentsCount",
         "offsetgroup": "commentsCount",
         "orientation": "v",
         "showlegend": true,
         "textposition": "auto",
         "type": "bar",
         "x": [
          "Tuesday",
          "Wednesday",
          "Monday",
          "Thursday",
          "Friday",
          "Saturday",
          "Sunday"
         ],
         "xaxis": "x",
         "y": [
          191,
          175,
          173,
          172,
          158,
          143,
          128
         ],
         "yaxis": "y"
        }
       ],
       "layout": {
        "barmode": "relative",
        "legend": {
         "title": {
          "text": "variable"
         },
         "tracegroupgap": 0
        },
        "template": {
         "data": {
          "bar": [
           {
            "error_x": {
             "color": "#2a3f5f"
            },
            "error_y": {
             "color": "#2a3f5f"
            },
            "marker": {
             "line": {
              "color": "#E5ECF6",
              "width": 0.5
             },
             "pattern": {
              "fillmode": "overlay",
              "size": 10,
              "solidity": 0.2
             }
            },
            "type": "bar"
           }
          ],
          "barpolar": [
           {
            "marker": {
             "line": {
              "color": "#E5ECF6",
              "width": 0.5
             },
             "pattern": {
              "fillmode": "overlay",
              "size": 10,
              "solidity": 0.2
             }
            },
            "type": "barpolar"
           }
          ],
          "carpet": [
           {
            "aaxis": {
             "endlinecolor": "#2a3f5f",
             "gridcolor": "white",
             "linecolor": "white",
             "minorgridcolor": "white",
             "startlinecolor": "#2a3f5f"
            },
            "baxis": {
             "endlinecolor": "#2a3f5f",
             "gridcolor": "white",
             "linecolor": "white",
             "minorgridcolor": "white",
             "startlinecolor": "#2a3f5f"
            },
            "type": "carpet"
           }
          ],
          "choropleth": [
           {
            "colorbar": {
             "outlinewidth": 0,
             "ticks": ""
            },
            "type": "choropleth"
           }
          ],
          "contour": [
           {
            "colorbar": {
             "outlinewidth": 0,
             "ticks": ""
            },
            "colorscale": [
             [
              0,
              "#0d0887"
             ],
             [
              0.1111111111111111,
              "#46039f"
             ],
             [
              0.2222222222222222,
              "#7201a8"
             ],
             [
              0.3333333333333333,
              "#9c179e"
             ],
             [
              0.4444444444444444,
              "#bd3786"
             ],
             [
              0.5555555555555556,
              "#d8576b"
             ],
             [
              0.6666666666666666,
              "#ed7953"
             ],
             [
              0.7777777777777778,
              "#fb9f3a"
             ],
             [
              0.8888888888888888,
              "#fdca26"
             ],
             [
              1,
              "#f0f921"
             ]
            ],
            "type": "contour"
           }
          ],
          "contourcarpet": [
           {
            "colorbar": {
             "outlinewidth": 0,
             "ticks": ""
            },
            "type": "contourcarpet"
           }
          ],
          "heatmap": [
           {
            "colorbar": {
             "outlinewidth": 0,
             "ticks": ""
            },
            "colorscale": [
             [
              0,
              "#0d0887"
             ],
             [
              0.1111111111111111,
              "#46039f"
             ],
             [
              0.2222222222222222,
              "#7201a8"
             ],
             [
              0.3333333333333333,
              "#9c179e"
             ],
             [
              0.4444444444444444,
              "#bd3786"
             ],
             [
              0.5555555555555556,
              "#d8576b"
             ],
             [
              0.6666666666666666,
              "#ed7953"
             ],
             [
              0.7777777777777778,
              "#fb9f3a"
             ],
             [
              0.8888888888888888,
              "#fdca26"
             ],
             [
              1,
              "#f0f921"
             ]
            ],
            "type": "heatmap"
           }
          ],
          "heatmapgl": [
           {
            "colorbar": {
             "outlinewidth": 0,
             "ticks": ""
            },
            "colorscale": [
             [
              0,
              "#0d0887"
             ],
             [
              0.1111111111111111,
              "#46039f"
             ],
             [
              0.2222222222222222,
              "#7201a8"
             ],
             [
              0.3333333333333333,
              "#9c179e"
             ],
             [
              0.4444444444444444,
              "#bd3786"
             ],
             [
              0.5555555555555556,
              "#d8576b"
             ],
             [
              0.6666666666666666,
              "#ed7953"
             ],
             [
              0.7777777777777778,
              "#fb9f3a"
             ],
             [
              0.8888888888888888,
              "#fdca26"
             ],
             [
              1,
              "#f0f921"
             ]
            ],
            "type": "heatmapgl"
           }
          ],
          "histogram": [
           {
            "marker": {
             "pattern": {
              "fillmode": "overlay",
              "size": 10,
              "solidity": 0.2
             }
            },
            "type": "histogram"
           }
          ],
          "histogram2d": [
           {
            "colorbar": {
             "outlinewidth": 0,
             "ticks": ""
            },
            "colorscale": [
             [
              0,
              "#0d0887"
             ],
             [
              0.1111111111111111,
              "#46039f"
             ],
             [
              0.2222222222222222,
              "#7201a8"
             ],
             [
              0.3333333333333333,
              "#9c179e"
             ],
             [
              0.4444444444444444,
              "#bd3786"
             ],
             [
              0.5555555555555556,
              "#d8576b"
             ],
             [
              0.6666666666666666,
              "#ed7953"
             ],
             [
              0.7777777777777778,
              "#fb9f3a"
             ],
             [
              0.8888888888888888,
              "#fdca26"
             ],
             [
              1,
              "#f0f921"
             ]
            ],
            "type": "histogram2d"
           }
          ],
          "histogram2dcontour": [
           {
            "colorbar": {
             "outlinewidth": 0,
             "ticks": ""
            },
            "colorscale": [
             [
              0,
              "#0d0887"
             ],
             [
              0.1111111111111111,
              "#46039f"
             ],
             [
              0.2222222222222222,
              "#7201a8"
             ],
             [
              0.3333333333333333,
              "#9c179e"
             ],
             [
              0.4444444444444444,
              "#bd3786"
             ],
             [
              0.5555555555555556,
              "#d8576b"
             ],
             [
              0.6666666666666666,
              "#ed7953"
             ],
             [
              0.7777777777777778,
              "#fb9f3a"
             ],
             [
              0.8888888888888888,
              "#fdca26"
             ],
             [
              1,
              "#f0f921"
             ]
            ],
            "type": "histogram2dcontour"
           }
          ],
          "mesh3d": [
           {
            "colorbar": {
             "outlinewidth": 0,
             "ticks": ""
            },
            "type": "mesh3d"
           }
          ],
          "parcoords": [
           {
            "line": {
             "colorbar": {
              "outlinewidth": 0,
              "ticks": ""
             }
            },
            "type": "parcoords"
           }
          ],
          "pie": [
           {
            "automargin": true,
            "type": "pie"
           }
          ],
          "scatter": [
           {
            "fillpattern": {
             "fillmode": "overlay",
             "size": 10,
             "solidity": 0.2
            },
            "type": "scatter"
           }
          ],
          "scatter3d": [
           {
            "line": {
             "colorbar": {
              "outlinewidth": 0,
              "ticks": ""
             }
            },
            "marker": {
             "colorbar": {
              "outlinewidth": 0,
              "ticks": ""
             }
            },
            "type": "scatter3d"
           }
          ],
          "scattercarpet": [
           {
            "marker": {
             "colorbar": {
              "outlinewidth": 0,
              "ticks": ""
             }
            },
            "type": "scattercarpet"
           }
          ],
          "scattergeo": [
           {
            "marker": {
             "colorbar": {
              "outlinewidth": 0,
              "ticks": ""
             }
            },
            "type": "scattergeo"
           }
          ],
          "scattergl": [
           {
            "marker": {
             "colorbar": {
              "outlinewidth": 0,
              "ticks": ""
             }
            },
            "type": "scattergl"
           }
          ],
          "scattermapbox": [
           {
            "marker": {
             "colorbar": {
              "outlinewidth": 0,
              "ticks": ""
             }
            },
            "type": "scattermapbox"
           }
          ],
          "scatterpolar": [
           {
            "marker": {
             "colorbar": {
              "outlinewidth": 0,
              "ticks": ""
             }
            },
            "type": "scatterpolar"
           }
          ],
          "scatterpolargl": [
           {
            "marker": {
             "colorbar": {
              "outlinewidth": 0,
              "ticks": ""
             }
            },
            "type": "scatterpolargl"
           }
          ],
          "scatterternary": [
           {
            "marker": {
             "colorbar": {
              "outlinewidth": 0,
              "ticks": ""
             }
            },
            "type": "scatterternary"
           }
          ],
          "surface": [
           {
            "colorbar": {
             "outlinewidth": 0,
             "ticks": ""
            },
            "colorscale": [
             [
              0,
              "#0d0887"
             ],
             [
              0.1111111111111111,
              "#46039f"
             ],
             [
              0.2222222222222222,
              "#7201a8"
             ],
             [
              0.3333333333333333,
              "#9c179e"
             ],
             [
              0.4444444444444444,
              "#bd3786"
             ],
             [
              0.5555555555555556,
              "#d8576b"
             ],
             [
              0.6666666666666666,
              "#ed7953"
             ],
             [
              0.7777777777777778,
              "#fb9f3a"
             ],
             [
              0.8888888888888888,
              "#fdca26"
             ],
             [
              1,
              "#f0f921"
             ]
            ],
            "type": "surface"
           }
          ],
          "table": [
           {
            "cells": {
             "fill": {
              "color": "#EBF0F8"
             },
             "line": {
              "color": "white"
             }
            },
            "header": {
             "fill": {
              "color": "#C8D4E3"
             },
             "line": {
              "color": "white"
             }
            },
            "type": "table"
           }
          ]
         },
         "layout": {
          "annotationdefaults": {
           "arrowcolor": "#2a3f5f",
           "arrowhead": 0,
           "arrowwidth": 1
          },
          "autotypenumbers": "strict",
          "coloraxis": {
           "colorbar": {
            "outlinewidth": 0,
            "ticks": ""
           }
          },
          "colorscale": {
           "diverging": [
            [
             0,
             "#8e0152"
            ],
            [
             0.1,
             "#c51b7d"
            ],
            [
             0.2,
             "#de77ae"
            ],
            [
             0.3,
             "#f1b6da"
            ],
            [
             0.4,
             "#fde0ef"
            ],
            [
             0.5,
             "#f7f7f7"
            ],
            [
             0.6,
             "#e6f5d0"
            ],
            [
             0.7,
             "#b8e186"
            ],
            [
             0.8,
             "#7fbc41"
            ],
            [
             0.9,
             "#4d9221"
            ],
            [
             1,
             "#276419"
            ]
           ],
           "sequential": [
            [
             0,
             "#0d0887"
            ],
            [
             0.1111111111111111,
             "#46039f"
            ],
            [
             0.2222222222222222,
             "#7201a8"
            ],
            [
             0.3333333333333333,
             "#9c179e"
            ],
            [
             0.4444444444444444,
             "#bd3786"
            ],
            [
             0.5555555555555556,
             "#d8576b"
            ],
            [
             0.6666666666666666,
             "#ed7953"
            ],
            [
             0.7777777777777778,
             "#fb9f3a"
            ],
            [
             0.8888888888888888,
             "#fdca26"
            ],
            [
             1,
             "#f0f921"
            ]
           ],
           "sequentialminus": [
            [
             0,
             "#0d0887"
            ],
            [
             0.1111111111111111,
             "#46039f"
            ],
            [
             0.2222222222222222,
             "#7201a8"
            ],
            [
             0.3333333333333333,
             "#9c179e"
            ],
            [
             0.4444444444444444,
             "#bd3786"
            ],
            [
             0.5555555555555556,
             "#d8576b"
            ],
            [
             0.6666666666666666,
             "#ed7953"
            ],
            [
             0.7777777777777778,
             "#fb9f3a"
            ],
            [
             0.8888888888888888,
             "#fdca26"
            ],
            [
             1,
             "#f0f921"
            ]
           ]
          },
          "colorway": [
           "#636efa",
           "#EF553B",
           "#00cc96",
           "#ab63fa",
           "#FFA15A",
           "#19d3f3",
           "#FF6692",
           "#B6E880",
           "#FF97FF",
           "#FECB52"
          ],
          "font": {
           "color": "#2a3f5f"
          },
          "geo": {
           "bgcolor": "white",
           "lakecolor": "white",
           "landcolor": "#E5ECF6",
           "showlakes": true,
           "showland": true,
           "subunitcolor": "white"
          },
          "hoverlabel": {
           "align": "left"
          },
          "hovermode": "closest",
          "mapbox": {
           "style": "light"
          },
          "paper_bgcolor": "white",
          "plot_bgcolor": "#E5ECF6",
          "polar": {
           "angularaxis": {
            "gridcolor": "white",
            "linecolor": "white",
            "ticks": ""
           },
           "bgcolor": "#E5ECF6",
           "radialaxis": {
            "gridcolor": "white",
            "linecolor": "white",
            "ticks": ""
           }
          },
          "scene": {
           "xaxis": {
            "backgroundcolor": "#E5ECF6",
            "gridcolor": "white",
            "gridwidth": 2,
            "linecolor": "white",
            "showbackground": true,
            "ticks": "",
            "zerolinecolor": "white"
           },
           "yaxis": {
            "backgroundcolor": "#E5ECF6",
            "gridcolor": "white",
            "gridwidth": 2,
            "linecolor": "white",
            "showbackground": true,
            "ticks": "",
            "zerolinecolor": "white"
           },
           "zaxis": {
            "backgroundcolor": "#E5ECF6",
            "gridcolor": "white",
            "gridwidth": 2,
            "linecolor": "white",
            "showbackground": true,
            "ticks": "",
            "zerolinecolor": "white"
           }
          },
          "shapedefaults": {
           "line": {
            "color": "#2a3f5f"
           }
          },
          "ternary": {
           "aaxis": {
            "gridcolor": "white",
            "linecolor": "white",
            "ticks": ""
           },
           "baxis": {
            "gridcolor": "white",
            "linecolor": "white",
            "ticks": ""
           },
           "bgcolor": "#E5ECF6",
           "caxis": {
            "gridcolor": "white",
            "linecolor": "white",
            "ticks": ""
           }
          },
          "title": {
           "x": 0.05
          },
          "xaxis": {
           "automargin": true,
           "gridcolor": "white",
           "linecolor": "white",
           "ticks": "",
           "title": {
            "standoff": 15
           },
           "zerolinecolor": "white",
           "zerolinewidth": 2
          },
          "yaxis": {
           "automargin": true,
           "gridcolor": "white",
           "linecolor": "white",
           "ticks": "",
           "title": {
            "standoff": 15
           },
           "zerolinecolor": "white",
           "zerolinewidth": 2
          }
         }
        },
        "title": {
         "text": "Comments vs Day of Launch"
        },
        "xaxis": {
         "anchor": "y",
         "domain": [
          0,
          1
         ],
         "title": {
          "text": "day"
         }
        },
        "yaxis": {
         "anchor": "x",
         "domain": [
          0,
          1
         ],
         "title": {
          "text": "value"
         }
        }
       }
      }
     },
     "metadata": {},
     "output_type": "display_data"
    }
   ],
   "source": [
    "px.bar(top_posts_df.groupby('day')['commentsCount'].mean().round(0).sort_values(ascending=False),title='Comments vs Day of Launch')"
   ]
  },
  {
   "cell_type": "markdown",
   "metadata": {},
   "source": [
    "**Few trends observed:**\n",
    "* The average votes gained seems to be high on the weekdays rather than on Saturdays and Sundays.\n",
    "* Also it's worth noting that launch of one startup heavily skewed the average votes data\n",
    "\n",
    "*One of the reasons behind this trend may be that people like to enjoy their weekends and are not that active on Product Hunt.*\n",
    "\n",
    "**Also typically, from observation, the launches that do well in the early hours or on the first day of the launch tend to do well throughout. One way to test if this observation holds true is to check the correlation between the votes gained within 24 hours to launch vs total votes gained. But this is not possible as the Product Hunt's GraphQL API only provides total votes at the moment**"
   ]
  },
  {
   "cell_type": "code",
   "execution_count": 19,
   "metadata": {},
   "outputs": [
    {
     "data": {
      "application/vnd.plotly.v1+json": {
       "config": {
        "plotlyServerURL": "https://plot.ly"
       },
       "data": [
        {
         "alignmentgroup": "True",
         "hovertemplate": "variable=count<br>topic_list=%{x}<br>value=%{y}<extra></extra>",
         "legendgroup": "count",
         "marker": {
          "color": "#636efa",
          "pattern": {
           "shape": ""
          }
         },
         "name": "count",
         "offsetgroup": "count",
         "orientation": "v",
         "showlegend": true,
         "textposition": "auto",
         "type": "bar",
         "x": [
          "artificial-intelligence",
          "productivity",
          "developer-tools",
          "marketing",
          "saas",
          "github",
          "design-tools",
          "tech",
          "open-source",
          "chrome-extensions"
         ],
         "xaxis": "x",
         "y": [
          65,
          29,
          24,
          16,
          7,
          6,
          6,
          6,
          5,
          5
         ],
         "yaxis": "y"
        }
       ],
       "layout": {
        "barmode": "relative",
        "legend": {
         "title": {
          "text": "variable"
         },
         "tracegroupgap": 0
        },
        "template": {
         "data": {
          "bar": [
           {
            "error_x": {
             "color": "#2a3f5f"
            },
            "error_y": {
             "color": "#2a3f5f"
            },
            "marker": {
             "line": {
              "color": "#E5ECF6",
              "width": 0.5
             },
             "pattern": {
              "fillmode": "overlay",
              "size": 10,
              "solidity": 0.2
             }
            },
            "type": "bar"
           }
          ],
          "barpolar": [
           {
            "marker": {
             "line": {
              "color": "#E5ECF6",
              "width": 0.5
             },
             "pattern": {
              "fillmode": "overlay",
              "size": 10,
              "solidity": 0.2
             }
            },
            "type": "barpolar"
           }
          ],
          "carpet": [
           {
            "aaxis": {
             "endlinecolor": "#2a3f5f",
             "gridcolor": "white",
             "linecolor": "white",
             "minorgridcolor": "white",
             "startlinecolor": "#2a3f5f"
            },
            "baxis": {
             "endlinecolor": "#2a3f5f",
             "gridcolor": "white",
             "linecolor": "white",
             "minorgridcolor": "white",
             "startlinecolor": "#2a3f5f"
            },
            "type": "carpet"
           }
          ],
          "choropleth": [
           {
            "colorbar": {
             "outlinewidth": 0,
             "ticks": ""
            },
            "type": "choropleth"
           }
          ],
          "contour": [
           {
            "colorbar": {
             "outlinewidth": 0,
             "ticks": ""
            },
            "colorscale": [
             [
              0,
              "#0d0887"
             ],
             [
              0.1111111111111111,
              "#46039f"
             ],
             [
              0.2222222222222222,
              "#7201a8"
             ],
             [
              0.3333333333333333,
              "#9c179e"
             ],
             [
              0.4444444444444444,
              "#bd3786"
             ],
             [
              0.5555555555555556,
              "#d8576b"
             ],
             [
              0.6666666666666666,
              "#ed7953"
             ],
             [
              0.7777777777777778,
              "#fb9f3a"
             ],
             [
              0.8888888888888888,
              "#fdca26"
             ],
             [
              1,
              "#f0f921"
             ]
            ],
            "type": "contour"
           }
          ],
          "contourcarpet": [
           {
            "colorbar": {
             "outlinewidth": 0,
             "ticks": ""
            },
            "type": "contourcarpet"
           }
          ],
          "heatmap": [
           {
            "colorbar": {
             "outlinewidth": 0,
             "ticks": ""
            },
            "colorscale": [
             [
              0,
              "#0d0887"
             ],
             [
              0.1111111111111111,
              "#46039f"
             ],
             [
              0.2222222222222222,
              "#7201a8"
             ],
             [
              0.3333333333333333,
              "#9c179e"
             ],
             [
              0.4444444444444444,
              "#bd3786"
             ],
             [
              0.5555555555555556,
              "#d8576b"
             ],
             [
              0.6666666666666666,
              "#ed7953"
             ],
             [
              0.7777777777777778,
              "#fb9f3a"
             ],
             [
              0.8888888888888888,
              "#fdca26"
             ],
             [
              1,
              "#f0f921"
             ]
            ],
            "type": "heatmap"
           }
          ],
          "heatmapgl": [
           {
            "colorbar": {
             "outlinewidth": 0,
             "ticks": ""
            },
            "colorscale": [
             [
              0,
              "#0d0887"
             ],
             [
              0.1111111111111111,
              "#46039f"
             ],
             [
              0.2222222222222222,
              "#7201a8"
             ],
             [
              0.3333333333333333,
              "#9c179e"
             ],
             [
              0.4444444444444444,
              "#bd3786"
             ],
             [
              0.5555555555555556,
              "#d8576b"
             ],
             [
              0.6666666666666666,
              "#ed7953"
             ],
             [
              0.7777777777777778,
              "#fb9f3a"
             ],
             [
              0.8888888888888888,
              "#fdca26"
             ],
             [
              1,
              "#f0f921"
             ]
            ],
            "type": "heatmapgl"
           }
          ],
          "histogram": [
           {
            "marker": {
             "pattern": {
              "fillmode": "overlay",
              "size": 10,
              "solidity": 0.2
             }
            },
            "type": "histogram"
           }
          ],
          "histogram2d": [
           {
            "colorbar": {
             "outlinewidth": 0,
             "ticks": ""
            },
            "colorscale": [
             [
              0,
              "#0d0887"
             ],
             [
              0.1111111111111111,
              "#46039f"
             ],
             [
              0.2222222222222222,
              "#7201a8"
             ],
             [
              0.3333333333333333,
              "#9c179e"
             ],
             [
              0.4444444444444444,
              "#bd3786"
             ],
             [
              0.5555555555555556,
              "#d8576b"
             ],
             [
              0.6666666666666666,
              "#ed7953"
             ],
             [
              0.7777777777777778,
              "#fb9f3a"
             ],
             [
              0.8888888888888888,
              "#fdca26"
             ],
             [
              1,
              "#f0f921"
             ]
            ],
            "type": "histogram2d"
           }
          ],
          "histogram2dcontour": [
           {
            "colorbar": {
             "outlinewidth": 0,
             "ticks": ""
            },
            "colorscale": [
             [
              0,
              "#0d0887"
             ],
             [
              0.1111111111111111,
              "#46039f"
             ],
             [
              0.2222222222222222,
              "#7201a8"
             ],
             [
              0.3333333333333333,
              "#9c179e"
             ],
             [
              0.4444444444444444,
              "#bd3786"
             ],
             [
              0.5555555555555556,
              "#d8576b"
             ],
             [
              0.6666666666666666,
              "#ed7953"
             ],
             [
              0.7777777777777778,
              "#fb9f3a"
             ],
             [
              0.8888888888888888,
              "#fdca26"
             ],
             [
              1,
              "#f0f921"
             ]
            ],
            "type": "histogram2dcontour"
           }
          ],
          "mesh3d": [
           {
            "colorbar": {
             "outlinewidth": 0,
             "ticks": ""
            },
            "type": "mesh3d"
           }
          ],
          "parcoords": [
           {
            "line": {
             "colorbar": {
              "outlinewidth": 0,
              "ticks": ""
             }
            },
            "type": "parcoords"
           }
          ],
          "pie": [
           {
            "automargin": true,
            "type": "pie"
           }
          ],
          "scatter": [
           {
            "fillpattern": {
             "fillmode": "overlay",
             "size": 10,
             "solidity": 0.2
            },
            "type": "scatter"
           }
          ],
          "scatter3d": [
           {
            "line": {
             "colorbar": {
              "outlinewidth": 0,
              "ticks": ""
             }
            },
            "marker": {
             "colorbar": {
              "outlinewidth": 0,
              "ticks": ""
             }
            },
            "type": "scatter3d"
           }
          ],
          "scattercarpet": [
           {
            "marker": {
             "colorbar": {
              "outlinewidth": 0,
              "ticks": ""
             }
            },
            "type": "scattercarpet"
           }
          ],
          "scattergeo": [
           {
            "marker": {
             "colorbar": {
              "outlinewidth": 0,
              "ticks": ""
             }
            },
            "type": "scattergeo"
           }
          ],
          "scattergl": [
           {
            "marker": {
             "colorbar": {
              "outlinewidth": 0,
              "ticks": ""
             }
            },
            "type": "scattergl"
           }
          ],
          "scattermapbox": [
           {
            "marker": {
             "colorbar": {
              "outlinewidth": 0,
              "ticks": ""
             }
            },
            "type": "scattermapbox"
           }
          ],
          "scatterpolar": [
           {
            "marker": {
             "colorbar": {
              "outlinewidth": 0,
              "ticks": ""
             }
            },
            "type": "scatterpolar"
           }
          ],
          "scatterpolargl": [
           {
            "marker": {
             "colorbar": {
              "outlinewidth": 0,
              "ticks": ""
             }
            },
            "type": "scatterpolargl"
           }
          ],
          "scatterternary": [
           {
            "marker": {
             "colorbar": {
              "outlinewidth": 0,
              "ticks": ""
             }
            },
            "type": "scatterternary"
           }
          ],
          "surface": [
           {
            "colorbar": {
             "outlinewidth": 0,
             "ticks": ""
            },
            "colorscale": [
             [
              0,
              "#0d0887"
             ],
             [
              0.1111111111111111,
              "#46039f"
             ],
             [
              0.2222222222222222,
              "#7201a8"
             ],
             [
              0.3333333333333333,
              "#9c179e"
             ],
             [
              0.4444444444444444,
              "#bd3786"
             ],
             [
              0.5555555555555556,
              "#d8576b"
             ],
             [
              0.6666666666666666,
              "#ed7953"
             ],
             [
              0.7777777777777778,
              "#fb9f3a"
             ],
             [
              0.8888888888888888,
              "#fdca26"
             ],
             [
              1,
              "#f0f921"
             ]
            ],
            "type": "surface"
           }
          ],
          "table": [
           {
            "cells": {
             "fill": {
              "color": "#EBF0F8"
             },
             "line": {
              "color": "white"
             }
            },
            "header": {
             "fill": {
              "color": "#C8D4E3"
             },
             "line": {
              "color": "white"
             }
            },
            "type": "table"
           }
          ]
         },
         "layout": {
          "annotationdefaults": {
           "arrowcolor": "#2a3f5f",
           "arrowhead": 0,
           "arrowwidth": 1
          },
          "autotypenumbers": "strict",
          "coloraxis": {
           "colorbar": {
            "outlinewidth": 0,
            "ticks": ""
           }
          },
          "colorscale": {
           "diverging": [
            [
             0,
             "#8e0152"
            ],
            [
             0.1,
             "#c51b7d"
            ],
            [
             0.2,
             "#de77ae"
            ],
            [
             0.3,
             "#f1b6da"
            ],
            [
             0.4,
             "#fde0ef"
            ],
            [
             0.5,
             "#f7f7f7"
            ],
            [
             0.6,
             "#e6f5d0"
            ],
            [
             0.7,
             "#b8e186"
            ],
            [
             0.8,
             "#7fbc41"
            ],
            [
             0.9,
             "#4d9221"
            ],
            [
             1,
             "#276419"
            ]
           ],
           "sequential": [
            [
             0,
             "#0d0887"
            ],
            [
             0.1111111111111111,
             "#46039f"
            ],
            [
             0.2222222222222222,
             "#7201a8"
            ],
            [
             0.3333333333333333,
             "#9c179e"
            ],
            [
             0.4444444444444444,
             "#bd3786"
            ],
            [
             0.5555555555555556,
             "#d8576b"
            ],
            [
             0.6666666666666666,
             "#ed7953"
            ],
            [
             0.7777777777777778,
             "#fb9f3a"
            ],
            [
             0.8888888888888888,
             "#fdca26"
            ],
            [
             1,
             "#f0f921"
            ]
           ],
           "sequentialminus": [
            [
             0,
             "#0d0887"
            ],
            [
             0.1111111111111111,
             "#46039f"
            ],
            [
             0.2222222222222222,
             "#7201a8"
            ],
            [
             0.3333333333333333,
             "#9c179e"
            ],
            [
             0.4444444444444444,
             "#bd3786"
            ],
            [
             0.5555555555555556,
             "#d8576b"
            ],
            [
             0.6666666666666666,
             "#ed7953"
            ],
            [
             0.7777777777777778,
             "#fb9f3a"
            ],
            [
             0.8888888888888888,
             "#fdca26"
            ],
            [
             1,
             "#f0f921"
            ]
           ]
          },
          "colorway": [
           "#636efa",
           "#EF553B",
           "#00cc96",
           "#ab63fa",
           "#FFA15A",
           "#19d3f3",
           "#FF6692",
           "#B6E880",
           "#FF97FF",
           "#FECB52"
          ],
          "font": {
           "color": "#2a3f5f"
          },
          "geo": {
           "bgcolor": "white",
           "lakecolor": "white",
           "landcolor": "#E5ECF6",
           "showlakes": true,
           "showland": true,
           "subunitcolor": "white"
          },
          "hoverlabel": {
           "align": "left"
          },
          "hovermode": "closest",
          "mapbox": {
           "style": "light"
          },
          "paper_bgcolor": "white",
          "plot_bgcolor": "#E5ECF6",
          "polar": {
           "angularaxis": {
            "gridcolor": "white",
            "linecolor": "white",
            "ticks": ""
           },
           "bgcolor": "#E5ECF6",
           "radialaxis": {
            "gridcolor": "white",
            "linecolor": "white",
            "ticks": ""
           }
          },
          "scene": {
           "xaxis": {
            "backgroundcolor": "#E5ECF6",
            "gridcolor": "white",
            "gridwidth": 2,
            "linecolor": "white",
            "showbackground": true,
            "ticks": "",
            "zerolinecolor": "white"
           },
           "yaxis": {
            "backgroundcolor": "#E5ECF6",
            "gridcolor": "white",
            "gridwidth": 2,
            "linecolor": "white",
            "showbackground": true,
            "ticks": "",
            "zerolinecolor": "white"
           },
           "zaxis": {
            "backgroundcolor": "#E5ECF6",
            "gridcolor": "white",
            "gridwidth": 2,
            "linecolor": "white",
            "showbackground": true,
            "ticks": "",
            "zerolinecolor": "white"
           }
          },
          "shapedefaults": {
           "line": {
            "color": "#2a3f5f"
           }
          },
          "ternary": {
           "aaxis": {
            "gridcolor": "white",
            "linecolor": "white",
            "ticks": ""
           },
           "baxis": {
            "gridcolor": "white",
            "linecolor": "white",
            "ticks": ""
           },
           "bgcolor": "#E5ECF6",
           "caxis": {
            "gridcolor": "white",
            "linecolor": "white",
            "ticks": ""
           }
          },
          "title": {
           "x": 0.05
          },
          "xaxis": {
           "automargin": true,
           "gridcolor": "white",
           "linecolor": "white",
           "ticks": "",
           "title": {
            "standoff": 15
           },
           "zerolinecolor": "white",
           "zerolinewidth": 2
          },
          "yaxis": {
           "automargin": true,
           "gridcolor": "white",
           "linecolor": "white",
           "ticks": "",
           "title": {
            "standoff": 15
           },
           "zerolinecolor": "white",
           "zerolinewidth": 2
          }
         }
        },
        "title": {
         "text": "Topics of Top 100 launches of August"
        },
        "xaxis": {
         "anchor": "y",
         "domain": [
          0,
          1
         ],
         "title": {
          "text": "topic_list"
         }
        },
        "yaxis": {
         "anchor": "x",
         "domain": [
          0,
          1
         ],
         "title": {
          "text": "value"
         }
        }
       }
      }
     },
     "metadata": {},
     "output_type": "display_data"
    }
   ],
   "source": [
    "px.bar(top_posts_df.explode('topic_list')['topic_list'].value_counts()[:10],title = 'Topics of Top 100 launches of August')"
   ]
  },
  {
   "cell_type": "markdown",
   "metadata": {},
   "source": [
    "As expected most (64 of 100) of the top launches in August are related to the AI domain"
   ]
  },
  {
   "cell_type": "markdown",
   "metadata": {},
   "source": [
    "***I have been following product Hunt for a while and one thing that stands out in top performing posts almost always has been the first comment from the maker.***"
   ]
  },
  {
   "cell_type": "markdown",
   "metadata": {},
   "source": [
    "## EDA II"
   ]
  },
  {
   "cell_type": "markdown",
   "metadata": {},
   "source": [
    "Let us take a look at the difference between launches that are voted the most and voted the least in the month of August\n",
    "\n",
    "Here are a few things we can take a look at:\n",
    "* The description of the product/service\n",
    "* First comment by the maker: which provides a detailed overview of how the product works and other details\n",
    "\n",
    "We can use the description to train a classification model to determine whether a launch will be successful based on the number of votes it gets\n",
    "\n",
    "Although product matters the most when it comes to the votes it gets but how the product is marketed also matters"
   ]
  },
  {
   "cell_type": "code",
   "execution_count": 20,
   "metadata": {},
   "outputs": [
    {
     "name": "stdout",
     "output_type": "stream",
     "text": [
      "Wordware is an IDE that enables anyone to build complex AI Agents and applications. Domain experts and engineers can now iterate 20x faster with prebuilt tools, API deployment, tracing, and more. Finally, build high-quality and reliable AI!\n",
      "\n",
      "Me.bot captures and connects your thoughts to understand you better, synthesizing a coach for all your life challenges, from a big career move to a small gloomy moment.\n",
      "\n",
      "Just add our one-line script to your website and know exactly who's visiting your website – get names, emails, and LinkedIn profiles of your anonymous website visitors automatically as soon as they land on your website.\n",
      "\n",
      "Flowith is the AI for deep work. Surpassing traditional chat-based tools, it streamlines tasks on a multi-thread interface powered by a most advanced agent framework. The intuitive canvas and smart framework boost productivity, helping users stay in the flow.\n",
      "\n",
      "Build AI Chatbots in 3 Steps and Train in 3 Clicks. Brainybear scans your website or uploaded files to deliver quick, accurate AI answers to customer queries.\n",
      "\n"
     ]
    }
   ],
   "source": [
    "for i in range(len(top_posts_df[:5])):\n",
    "    print(top_posts_df.loc[i,'description'])\n",
    "    print()"
   ]
  },
  {
   "cell_type": "code",
   "execution_count": 21,
   "metadata": {},
   "outputs": [
    {
     "data": {
      "text/html": [
       "<div>\n",
       "<style scoped>\n",
       "    .dataframe tbody tr th:only-of-type {\n",
       "        vertical-align: middle;\n",
       "    }\n",
       "\n",
       "    .dataframe tbody tr th {\n",
       "        vertical-align: top;\n",
       "    }\n",
       "\n",
       "    .dataframe thead th {\n",
       "        text-align: right;\n",
       "    }\n",
       "</style>\n",
       "<table border=\"1\" class=\"dataframe\">\n",
       "  <thead>\n",
       "    <tr style=\"text-align: right;\">\n",
       "      <th></th>\n",
       "      <th>name</th>\n",
       "      <th>description</th>\n",
       "      <th>url</th>\n",
       "      <th>votesCount</th>\n",
       "      <th>createdAt</th>\n",
       "      <th>tagline</th>\n",
       "      <th>commentsCount</th>\n",
       "      <th>comments</th>\n",
       "      <th>topics</th>\n",
       "      <th>date</th>\n",
       "      <th>day</th>\n",
       "      <th>topic_list</th>\n",
       "    </tr>\n",
       "  </thead>\n",
       "  <tbody>\n",
       "    <tr>\n",
       "      <th>0</th>\n",
       "      <td>MyBranz</td>\n",
       "      <td>Discover authentic reviews and aggregated shop...</td>\n",
       "      <td>https://www.producthunt.com/posts/mybranz-2?ut...</td>\n",
       "      <td>1</td>\n",
       "      <td>2024-08-05T20:09:33Z</td>\n",
       "      <td>Authentic Reviews &amp; Aggregated Shopping Insights</td>\n",
       "      <td>1</td>\n",
       "      <td>{'nodes': [{'body': 'We're thrilled to announc...</td>\n",
       "      <td>{'nodes': [{'slug': 'artificial-intelligence'}...</td>\n",
       "      <td>2024-08-05</td>\n",
       "      <td>Monday</td>\n",
       "      <td>[artificial-intelligence, e-commerce]</td>\n",
       "    </tr>\n",
       "    <tr>\n",
       "      <th>1</th>\n",
       "      <td>Startup Accelerator Program</td>\n",
       "      <td>Startup accelerators provide essential support...</td>\n",
       "      <td>https://www.producthunt.com/posts/startup-acce...</td>\n",
       "      <td>1</td>\n",
       "      <td>2024-08-06T06:40:57Z</td>\n",
       "      <td>Startup Accelerator Program Will Boost Your Bu...</td>\n",
       "      <td>1</td>\n",
       "      <td>{'nodes': [{'body': 'Startup accelerators are ...</td>\n",
       "      <td>{'nodes': [{'slug': 'fintech'}, {'slug': 'inve...</td>\n",
       "      <td>2024-08-06</td>\n",
       "      <td>Tuesday</td>\n",
       "      <td>[fintech, investing, business]</td>\n",
       "    </tr>\n",
       "    <tr>\n",
       "      <th>2</th>\n",
       "      <td>Efficient Solution with Medical Billing</td>\n",
       "      <td>Are you struggling with your practice's billin...</td>\n",
       "      <td>https://www.producthunt.com/posts/efficient-so...</td>\n",
       "      <td>1</td>\n",
       "      <td>2024-08-07T04:42:28Z</td>\n",
       "      <td>medical billing consultant</td>\n",
       "      <td>0</td>\n",
       "      <td>{'nodes': []}</td>\n",
       "      <td>{'nodes': [{'slug': 'medical'}, {'slug': 'cons...</td>\n",
       "      <td>2024-08-07</td>\n",
       "      <td>Wednesday</td>\n",
       "      <td>[medical, consulting, health]</td>\n",
       "    </tr>\n",
       "    <tr>\n",
       "      <th>3</th>\n",
       "      <td>Apps 365</td>\n",
       "      <td>Harmonizing with Microsoft 365, and Showcasing...</td>\n",
       "      <td>https://www.producthunt.com/posts/apps-365?utm...</td>\n",
       "      <td>1</td>\n",
       "      <td>2024-08-07T08:53:06Z</td>\n",
       "      <td>Business &amp; HR Solutions Redefined With AI Auto...</td>\n",
       "      <td>0</td>\n",
       "      <td>{'nodes': []}</td>\n",
       "      <td>{'nodes': [{'slug': 'productivity'}, {'slug': ...</td>\n",
       "      <td>2024-08-07</td>\n",
       "      <td>Wednesday</td>\n",
       "      <td>[productivity, saas]</td>\n",
       "    </tr>\n",
       "    <tr>\n",
       "      <th>4</th>\n",
       "      <td>Cook Book</td>\n",
       "      <td>Cook Book - A simplified, customizable desktop...</td>\n",
       "      <td>https://www.producthunt.com/posts/cook-book?ut...</td>\n",
       "      <td>1</td>\n",
       "      <td>2024-08-06T21:00:32Z</td>\n",
       "      <td>Your Simplified App for Recipes, Meal Plans, G...</td>\n",
       "      <td>1</td>\n",
       "      <td>{'nodes': [{'body': 'Hey Product Hunt! 🎉 We’re...</td>\n",
       "      <td>{'nodes': [{'slug': 'cookbooks'}, {'slug': 'co...</td>\n",
       "      <td>2024-08-06</td>\n",
       "      <td>Tuesday</td>\n",
       "      <td>[cookbooks, cooking, design]</td>\n",
       "    </tr>\n",
       "  </tbody>\n",
       "</table>\n",
       "</div>"
      ],
      "text/plain": [
       "                                       name  \\\n",
       "0                                   MyBranz   \n",
       "1               Startup Accelerator Program   \n",
       "2  Efficient Solution with Medical Billing    \n",
       "3                                  Apps 365   \n",
       "4                                 Cook Book   \n",
       "\n",
       "                                         description  \\\n",
       "0  Discover authentic reviews and aggregated shop...   \n",
       "1  Startup accelerators provide essential support...   \n",
       "2  Are you struggling with your practice's billin...   \n",
       "3  Harmonizing with Microsoft 365, and Showcasing...   \n",
       "4  Cook Book - A simplified, customizable desktop...   \n",
       "\n",
       "                                                 url  votesCount  \\\n",
       "0  https://www.producthunt.com/posts/mybranz-2?ut...           1   \n",
       "1  https://www.producthunt.com/posts/startup-acce...           1   \n",
       "2  https://www.producthunt.com/posts/efficient-so...           1   \n",
       "3  https://www.producthunt.com/posts/apps-365?utm...           1   \n",
       "4  https://www.producthunt.com/posts/cook-book?ut...           1   \n",
       "\n",
       "              createdAt                                            tagline  \\\n",
       "0  2024-08-05T20:09:33Z   Authentic Reviews & Aggregated Shopping Insights   \n",
       "1  2024-08-06T06:40:57Z  Startup Accelerator Program Will Boost Your Bu...   \n",
       "2  2024-08-07T04:42:28Z                         medical billing consultant   \n",
       "3  2024-08-07T08:53:06Z  Business & HR Solutions Redefined With AI Auto...   \n",
       "4  2024-08-06T21:00:32Z  Your Simplified App for Recipes, Meal Plans, G...   \n",
       "\n",
       "   commentsCount                                           comments  \\\n",
       "0              1  {'nodes': [{'body': 'We're thrilled to announc...   \n",
       "1              1  {'nodes': [{'body': 'Startup accelerators are ...   \n",
       "2              0                                      {'nodes': []}   \n",
       "3              0                                      {'nodes': []}   \n",
       "4              1  {'nodes': [{'body': 'Hey Product Hunt! 🎉 We’re...   \n",
       "\n",
       "                                              topics        date        day  \\\n",
       "0  {'nodes': [{'slug': 'artificial-intelligence'}...  2024-08-05     Monday   \n",
       "1  {'nodes': [{'slug': 'fintech'}, {'slug': 'inve...  2024-08-06    Tuesday   \n",
       "2  {'nodes': [{'slug': 'medical'}, {'slug': 'cons...  2024-08-07  Wednesday   \n",
       "3  {'nodes': [{'slug': 'productivity'}, {'slug': ...  2024-08-07  Wednesday   \n",
       "4  {'nodes': [{'slug': 'cookbooks'}, {'slug': 'co...  2024-08-06    Tuesday   \n",
       "\n",
       "                              topic_list  \n",
       "0  [artificial-intelligence, e-commerce]  \n",
       "1         [fintech, investing, business]  \n",
       "2          [medical, consulting, health]  \n",
       "3                   [productivity, saas]  \n",
       "4           [cookbooks, cooking, design]  "
      ]
     },
     "execution_count": 21,
     "metadata": {},
     "output_type": "execute_result"
    }
   ],
   "source": [
    "last_posts_df = pd.DataFrame([last_posts[i]['node'] for i in range(len(top_posts))])\n",
    "last_posts_df['date'] = pd.to_datetime(last_posts_df['createdAt']).dt.date\n",
    "last_posts_df['day'] = pd.to_datetime(last_posts_df['createdAt']).dt.day_name()\n",
    "last_posts_df['topic_list'] = last_posts_df['topics'].apply(lambda x: [j['slug'] for j in x['nodes']])\n",
    "last_posts_df.head()"
   ]
  },
  {
   "cell_type": "code",
   "execution_count": 22,
   "metadata": {},
   "outputs": [
    {
     "name": "stdout",
     "output_type": "stream",
     "text": [
      "Discover authentic reviews and aggregated shopping insights on MyBranz. Our platform ensures transparency with AI-driven review verification, comprehensive review summaries, and brand pledges against fake reviews. Shop smart and informed with MyBranz.\n",
      "\n",
      "Startup accelerators provide essential support for early-stage startups, offering expert mentorship, structured growth plans, access to resources, funding opportunities, and valuable networking. These programs help startups refine their business strategies.\n",
      "\n",
      "Are you struggling with your practice's billing and coding? Medical Billing Consultants offer expert services to streamline your billing processes, ensure accurate coding, and enhance your revenue cycle management.\n",
      "\n",
      "Harmonizing with Microsoft 365, and Showcasing a Mesmerizing UI\n",
      "\n",
      "Cook Book - A simplified, customizable desktop app. - Easy recipe management with beautiful recipe cards. - Organize meals with a dynamic calendar. - Download or share interactive grocery lists. One-time buy for a lifetime of effortless meal planning!\n",
      "\n"
     ]
    }
   ],
   "source": [
    "for i in range(len(last_posts_df[:5])):\n",
    "    print(last_posts_df.loc[i,'description'])\n",
    "    print()"
   ]
  },
  {
   "cell_type": "code",
   "execution_count": 23,
   "metadata": {},
   "outputs": [
    {
     "data": {
      "text/plain": [
       "'👋🏻 Hi Product Hunt makers!\\n\\nI’m Kamil, Head of Growth at Wordware—an IDE for building AI agents. Today, we’re officially launching the Wordware platform, and we’re excited to show the world what we built.\\n\\nIt’s a tool (an IDE) that enables you to quickly build custom AI agents for specific use cases like legal contract generation, marketing content automation, invoice analysis, candidate screening, generating PRDs, and many more. We call applications built on Wordware ‘WordApps’ because you can create them using natural language—in other words, using words (pun intended).\\n\\nOur core belief is that the domain expert—not the engineer—knows what good LLM output looks like. For example, lawyers building legal SaaS need to be deeply involved in the process, and working directly in the codebase or going back-and-forth with engineers isn’t the way to go.\\n\\nMost of our clients are cross-functional teams, including less technical members, who need to collaborate with engineers on LLM applications, such as assessing prompt outputs, and care about the speed of iterations. \\n\\nThese include early-stage startups building AI-first solutions that treat Wordware as their LLM backend, larger corporations that build 100s of prototypes on us, and AI builders creating their own products. From venture partners aiming to be in the top 0.1% of their field by building AI agents to analyze startups and founders, to lawyers scaling their expertise through AI, Wordware is the go-to tool.\\n\\nAnd if you’re technical, then you’ll appreciate Wordware for the speed of building complex AI agents without messy LLM abstractions, as well as our advanced capabilities like loops, conditional logic (IF-Else), structured generation (JSON mode), and custom code execution, allowing you to connect to virtually any API.\\n\\nNote: you must not be afraid of no/low-code tools and simply accept it’s 10x faster than writing everything yourself—not to mention the annoying process of iterations on prompts in the codebase 😉\\n\\nHere’s what you can do with Wordware - example use cases:\\n\\n✍🏻 Custom content generation AI agent: Researches topics and writes SEO-optimized blog posts using online-enabled models and looping through table of contents. It helped created fully automated content execution for many teams.\\n🧠 Invoice processing: Analyzes and processes unstructured invoices efficiently (up to 25k daily by one of our clients!), categorizing them and giving insights on financial data. Not only that, based on the data on the invoices it gives personalized recommendations on where to find cheaper alternatives based on geolocalization.\\n📊 Data querying and reporting: Performs data analysis through natural language commands, queries databases and constructs personalized reports. Users don’t have to be SQL fluent to get information, it can query big databases and save over 10h of work per week.\\n📚 Personalized learning and assessment agent: Prepares learning material personalized to the user’s level and needs by searching Wikipedia or research papers, then prepares quizzes and assesses user answers automatically.\\n✨ Sales enrichment: Searches LinkedIn and the web for information on leads, then updates and enriches your CRM with relevant data. Using different sources we can make sure the provided data is relevant and not hallucinated, making personalized outbound more effective.\\n💬 Meeting summaries: Provides personal voice summaries of all your weekly meetings in a structured manner. Not only that, it also categorizes them by meeting type so you never get lost in the notes.\\n\\nPS: Wordware is the platform behind Audioscribe (<a href=\"https://audioscribe.wordware.ai\" target=\"_blank\" rel=\"nofollow noopener noreferrer\">https://audioscribe.wordware.ai</a>) and Twitter Personality (<a href=\"https://twitter.wordware.ai\" target=\"_blank\" rel=\"nofollow noopener noreferrer\">https://twitter.wordware.ai</a>) projects, our open-source projects that we built to showcase the possibilities of Wordware.\\n\\nPS2: our Twitter Personality app gained 1 million users in the last 4 days - it’s a great showcase of what prompting and building an LLM backend on Wordware can achieve.'"
      ]
     },
     "execution_count": 23,
     "metadata": {},
     "output_type": "execute_result"
    }
   ],
   "source": [
    "top_posts_df.iloc[0]['comments']['nodes'][0]['body']"
   ]
  },
  {
   "cell_type": "code",
   "execution_count": 24,
   "metadata": {},
   "outputs": [
    {
     "name": "stdout",
     "output_type": "stream",
     "text": [
      "👋🏻 Hi Product Hunt makers!\n",
      "\n",
      "I’m Kamil, Head of Growth at Wordware—an IDE for building AI agents. Today, we’re officially launching the Wordware platform, and we’re excited to show the world what we built.\n",
      "\n",
      "It’s a tool (an IDE) that enables you to quickly build custom AI agents for specific use cases like legal contract generation, marketing content automation, invoice analysis, candidate screening, generating PRDs, and many more. We call applications built on Wordware ‘WordApps’ because you can create them using natural language—in other words, using words (pun intended).\n",
      "\n",
      "Our core belief is that the domain expert—not the engineer—knows what good LLM output looks like. For example, lawyers building legal SaaS need to be deeply involved in the process, and working directly in the codebase or going back-and-forth with engineers isn’t the way to go.\n",
      "\n",
      "Most of our clients are cross-functional teams, including less technical members, who need to collaborate with engineers on LLM applications, such as assessing prompt outputs, and care about the speed of iterations. \n",
      "\n",
      "These include early-stage startups building AI-first solutions that treat Wordware as their LLM backend, larger corporations that build 100s of prototypes on us, and AI builders creating their own products. From venture partners aiming to be in the top 0.1% of their field by building AI agents to analyze startups and founders, to lawyers scaling their expertise through AI, Wordware is the go-to tool.\n",
      "\n",
      "And if you’re technical, then you’ll appreciate Wordware for the speed of building complex AI agents without messy LLM abstractions, as well as our advanced capabilities like loops, conditional logic (IF-Else), structured generation (JSON mode), and custom code execution, allowing you to connect to virtually any API.\n",
      "\n",
      "Note: you must not be afraid of no/low-code tools and simply accept it’s 10x faster than writing everything yourself—not to mention the annoying process of iterations on prompts in the codebase 😉\n",
      "\n",
      "Here’s what you can do with Wordware - example use cases:\n",
      "\n",
      "✍🏻 Custom content generation AI agent: Researches topics and writes SEO-optimized blog posts using online-enabled models and looping through table of contents. It helped created fully automated content execution for many teams.\n",
      "🧠 Invoice processing: Analyzes and processes unstructured invoices efficiently (up to 25k daily by one of our clients!), categorizing them and giving insights on financial data. Not only that, based on the data on the invoices it gives personalized recommendations on where to find cheaper alternatives based on geolocalization.\n",
      "📊 Data querying and reporting: Performs data analysis through natural language commands, queries databases and constructs personalized reports. Users don’t have to be SQL fluent to get information, it can query big databases and save over 10h of work per week.\n",
      "📚 Personalized learning and assessment agent: Prepares learning material personalized to the user’s level and needs by searching Wikipedia or research papers, then prepares quizzes and assesses user answers automatically.\n",
      "✨ Sales enrichment: Searches LinkedIn and the web for information on leads, then updates and enriches your CRM with relevant data. Using different sources we can make sure the provided data is relevant and not hallucinated, making personalized outbound more effective.\n",
      "💬 Meeting summaries: Provides personal voice summaries of all your weekly meetings in a structured manner. Not only that, it also categorizes them by meeting type so you never get lost in the notes.\n",
      "\n",
      "PS: Wordware is the platform behind Audioscribe (<a href=\"https://audioscribe.wordware.ai\" target=\"_blank\" rel=\"nofollow noopener noreferrer\">https://audioscribe.wordware.ai</a>) and Twitter Personality (<a href=\"https://twitter.wordware.ai\" target=\"_blank\" rel=\"nofollow noopener noreferrer\">https://twitter.wordware.ai</a>) projects, our open-source projects that we built to showcase the possibilities of Wordware.\n",
      "\n",
      "PS2: our Twitter Personality app gained 1 million users in the last 4 days - it’s a great showcase of what prompting and building an LLM backend on Wordware can achieve.\n"
     ]
    }
   ],
   "source": [
    "print(top_posts_df.iloc[0]['comments']['nodes'][0]['body'])"
   ]
  },
  {
   "cell_type": "code",
   "execution_count": 25,
   "metadata": {},
   "outputs": [
    {
     "name": "stdout",
     "output_type": "stream",
     "text": [
      "Hello, I’m Felix Tao, the CEO of Mindverse. Let me introduce <b>Me.bot</b> to you. It is an app I use everyday, for several hours!\n",
      "\n",
      "Surrounded by centralized AI models, we believe in exploring a path where everyone can <b>train their own personal AI</b>. Everyone deserves an AI defined by them, not by a \"Big Brother.\"\n",
      "\n",
      "<b>Our solution</b>\n",
      "Our product, Me.bot, is designed to be a <b>personalized AI companion</b>. It learns and evolves with you, coaching you based on your unique experiences and interactions. You can easily build your memory archive with Me.bot all-compassing multimodal recognition, and Me.bot will connect the dots of your memories to inspire and support you.\n",
      "\n",
      "<b>Key features</b>\n",
      "🌟<b>Serendipity</b>: Me.bot learns from you, offering inspiration and advice when you need it most.\n",
      "🧠<b>Second Brain</b>: Me.bot helps you understand yourself better and presents its insights into you.\n",
      "💬<b>Speak to Remind</b>: Set reminders with your voice—it's easier than ever.\n",
      "📁<b>Smart Topics</b>: Automatically organized AI folders keep your archives tidy and easy to navigate.\n",
      "\n",
      "We're already seeing Me.bot make a difference. Some users have told us that Me.bot suggested a LinkedIn connection that led to a <b>job opportunity</b>. Others shared that, thanks to Me.bot, they decided to pursue a degree in sociology at the age of 35.\n",
      "\n",
      "Looking ahead, we plan to introduce features like shared memories and a bot community where your personal Me.bot can interact with others.\n",
      "\n",
      "<b>Finally, kudos to @chrismessina who's supported our launch once again!</b>\n",
      "\n",
      "By the way, sign up today to enjoy a <b>30-day reward</b> by completing your new user task!\n"
     ]
    }
   ],
   "source": [
    "print(top_posts_df.iloc[1]['comments']['nodes'][0]['body'])"
   ]
  },
  {
   "cell_type": "code",
   "execution_count": 26,
   "metadata": {},
   "outputs": [
    {
     "data": {
      "text/plain": [
       "[None]"
      ]
     },
     "execution_count": 26,
     "metadata": {},
     "output_type": "execute_result"
    }
   ],
   "source": [
    "[last_posts_df.iloc[12]['comments']['nodes'][0]['body'] if(last_posts_df.iloc[12]['comments']['nodes']) else None]"
   ]
  },
  {
   "cell_type": "code",
   "execution_count": 27,
   "metadata": {},
   "outputs": [],
   "source": [
    "top_first_comments_len = [len(top_posts[i]['node']['comments']['nodes'][0]['body']) for i in range(len(top_posts))]"
   ]
  },
  {
   "cell_type": "code",
   "execution_count": 28,
   "metadata": {},
   "outputs": [
    {
     "data": {
      "application/vnd.plotly.v1+json": {
       "config": {
        "plotlyServerURL": "https://plot.ly"
       },
       "data": [
        {
         "alignmentgroup": "True",
         "bingroup": "x",
         "hovertemplate": "variable=0<br>value=%{x}<br>count=%{y}<extra></extra>",
         "legendgroup": "0",
         "marker": {
          "color": "#636efa",
          "pattern": {
           "shape": ""
          }
         },
         "name": "0",
         "offsetgroup": "0",
         "orientation": "v",
         "showlegend": true,
         "type": "histogram",
         "x": [
          4156,
          1652,
          1661,
          1836,
          1258,
          1850,
          2489,
          831,
          3131,
          1423,
          149,
          1992,
          2194,
          2507,
          719,
          2056,
          1545,
          3273,
          1596,
          1515,
          292,
          2155,
          1511,
          1790,
          1514,
          1817,
          2342,
          527,
          1633,
          74,
          2490,
          97,
          1676,
          1553,
          2770,
          224,
          1787,
          57,
          1691,
          1343,
          707,
          1578,
          1764,
          2763,
          1290,
          13,
          2788,
          1780,
          968,
          1564,
          73,
          141,
          822,
          688,
          884,
          3340,
          2030,
          383,
          3607,
          2341,
          1000,
          1413,
          437,
          253,
          1947,
          3192,
          109,
          2632,
          3274,
          1952,
          940,
          1905,
          2586,
          3025,
          43,
          922,
          3246,
          1908,
          2506,
          3034,
          188,
          1936,
          1513,
          791,
          1311,
          3257,
          372,
          1402,
          2157,
          352,
          800,
          155,
          2004,
          2454,
          2273,
          2745,
          1212,
          1047,
          2420,
          105
         ],
         "xaxis": "x",
         "yaxis": "y"
        }
       ],
       "layout": {
        "barmode": "relative",
        "legend": {
         "title": {
          "text": "variable"
         },
         "tracegroupgap": 0
        },
        "margin": {
         "t": 60
        },
        "template": {
         "data": {
          "bar": [
           {
            "error_x": {
             "color": "#2a3f5f"
            },
            "error_y": {
             "color": "#2a3f5f"
            },
            "marker": {
             "line": {
              "color": "#E5ECF6",
              "width": 0.5
             },
             "pattern": {
              "fillmode": "overlay",
              "size": 10,
              "solidity": 0.2
             }
            },
            "type": "bar"
           }
          ],
          "barpolar": [
           {
            "marker": {
             "line": {
              "color": "#E5ECF6",
              "width": 0.5
             },
             "pattern": {
              "fillmode": "overlay",
              "size": 10,
              "solidity": 0.2
             }
            },
            "type": "barpolar"
           }
          ],
          "carpet": [
           {
            "aaxis": {
             "endlinecolor": "#2a3f5f",
             "gridcolor": "white",
             "linecolor": "white",
             "minorgridcolor": "white",
             "startlinecolor": "#2a3f5f"
            },
            "baxis": {
             "endlinecolor": "#2a3f5f",
             "gridcolor": "white",
             "linecolor": "white",
             "minorgridcolor": "white",
             "startlinecolor": "#2a3f5f"
            },
            "type": "carpet"
           }
          ],
          "choropleth": [
           {
            "colorbar": {
             "outlinewidth": 0,
             "ticks": ""
            },
            "type": "choropleth"
           }
          ],
          "contour": [
           {
            "colorbar": {
             "outlinewidth": 0,
             "ticks": ""
            },
            "colorscale": [
             [
              0,
              "#0d0887"
             ],
             [
              0.1111111111111111,
              "#46039f"
             ],
             [
              0.2222222222222222,
              "#7201a8"
             ],
             [
              0.3333333333333333,
              "#9c179e"
             ],
             [
              0.4444444444444444,
              "#bd3786"
             ],
             [
              0.5555555555555556,
              "#d8576b"
             ],
             [
              0.6666666666666666,
              "#ed7953"
             ],
             [
              0.7777777777777778,
              "#fb9f3a"
             ],
             [
              0.8888888888888888,
              "#fdca26"
             ],
             [
              1,
              "#f0f921"
             ]
            ],
            "type": "contour"
           }
          ],
          "contourcarpet": [
           {
            "colorbar": {
             "outlinewidth": 0,
             "ticks": ""
            },
            "type": "contourcarpet"
           }
          ],
          "heatmap": [
           {
            "colorbar": {
             "outlinewidth": 0,
             "ticks": ""
            },
            "colorscale": [
             [
              0,
              "#0d0887"
             ],
             [
              0.1111111111111111,
              "#46039f"
             ],
             [
              0.2222222222222222,
              "#7201a8"
             ],
             [
              0.3333333333333333,
              "#9c179e"
             ],
             [
              0.4444444444444444,
              "#bd3786"
             ],
             [
              0.5555555555555556,
              "#d8576b"
             ],
             [
              0.6666666666666666,
              "#ed7953"
             ],
             [
              0.7777777777777778,
              "#fb9f3a"
             ],
             [
              0.8888888888888888,
              "#fdca26"
             ],
             [
              1,
              "#f0f921"
             ]
            ],
            "type": "heatmap"
           }
          ],
          "heatmapgl": [
           {
            "colorbar": {
             "outlinewidth": 0,
             "ticks": ""
            },
            "colorscale": [
             [
              0,
              "#0d0887"
             ],
             [
              0.1111111111111111,
              "#46039f"
             ],
             [
              0.2222222222222222,
              "#7201a8"
             ],
             [
              0.3333333333333333,
              "#9c179e"
             ],
             [
              0.4444444444444444,
              "#bd3786"
             ],
             [
              0.5555555555555556,
              "#d8576b"
             ],
             [
              0.6666666666666666,
              "#ed7953"
             ],
             [
              0.7777777777777778,
              "#fb9f3a"
             ],
             [
              0.8888888888888888,
              "#fdca26"
             ],
             [
              1,
              "#f0f921"
             ]
            ],
            "type": "heatmapgl"
           }
          ],
          "histogram": [
           {
            "marker": {
             "pattern": {
              "fillmode": "overlay",
              "size": 10,
              "solidity": 0.2
             }
            },
            "type": "histogram"
           }
          ],
          "histogram2d": [
           {
            "colorbar": {
             "outlinewidth": 0,
             "ticks": ""
            },
            "colorscale": [
             [
              0,
              "#0d0887"
             ],
             [
              0.1111111111111111,
              "#46039f"
             ],
             [
              0.2222222222222222,
              "#7201a8"
             ],
             [
              0.3333333333333333,
              "#9c179e"
             ],
             [
              0.4444444444444444,
              "#bd3786"
             ],
             [
              0.5555555555555556,
              "#d8576b"
             ],
             [
              0.6666666666666666,
              "#ed7953"
             ],
             [
              0.7777777777777778,
              "#fb9f3a"
             ],
             [
              0.8888888888888888,
              "#fdca26"
             ],
             [
              1,
              "#f0f921"
             ]
            ],
            "type": "histogram2d"
           }
          ],
          "histogram2dcontour": [
           {
            "colorbar": {
             "outlinewidth": 0,
             "ticks": ""
            },
            "colorscale": [
             [
              0,
              "#0d0887"
             ],
             [
              0.1111111111111111,
              "#46039f"
             ],
             [
              0.2222222222222222,
              "#7201a8"
             ],
             [
              0.3333333333333333,
              "#9c179e"
             ],
             [
              0.4444444444444444,
              "#bd3786"
             ],
             [
              0.5555555555555556,
              "#d8576b"
             ],
             [
              0.6666666666666666,
              "#ed7953"
             ],
             [
              0.7777777777777778,
              "#fb9f3a"
             ],
             [
              0.8888888888888888,
              "#fdca26"
             ],
             [
              1,
              "#f0f921"
             ]
            ],
            "type": "histogram2dcontour"
           }
          ],
          "mesh3d": [
           {
            "colorbar": {
             "outlinewidth": 0,
             "ticks": ""
            },
            "type": "mesh3d"
           }
          ],
          "parcoords": [
           {
            "line": {
             "colorbar": {
              "outlinewidth": 0,
              "ticks": ""
             }
            },
            "type": "parcoords"
           }
          ],
          "pie": [
           {
            "automargin": true,
            "type": "pie"
           }
          ],
          "scatter": [
           {
            "fillpattern": {
             "fillmode": "overlay",
             "size": 10,
             "solidity": 0.2
            },
            "type": "scatter"
           }
          ],
          "scatter3d": [
           {
            "line": {
             "colorbar": {
              "outlinewidth": 0,
              "ticks": ""
             }
            },
            "marker": {
             "colorbar": {
              "outlinewidth": 0,
              "ticks": ""
             }
            },
            "type": "scatter3d"
           }
          ],
          "scattercarpet": [
           {
            "marker": {
             "colorbar": {
              "outlinewidth": 0,
              "ticks": ""
             }
            },
            "type": "scattercarpet"
           }
          ],
          "scattergeo": [
           {
            "marker": {
             "colorbar": {
              "outlinewidth": 0,
              "ticks": ""
             }
            },
            "type": "scattergeo"
           }
          ],
          "scattergl": [
           {
            "marker": {
             "colorbar": {
              "outlinewidth": 0,
              "ticks": ""
             }
            },
            "type": "scattergl"
           }
          ],
          "scattermapbox": [
           {
            "marker": {
             "colorbar": {
              "outlinewidth": 0,
              "ticks": ""
             }
            },
            "type": "scattermapbox"
           }
          ],
          "scatterpolar": [
           {
            "marker": {
             "colorbar": {
              "outlinewidth": 0,
              "ticks": ""
             }
            },
            "type": "scatterpolar"
           }
          ],
          "scatterpolargl": [
           {
            "marker": {
             "colorbar": {
              "outlinewidth": 0,
              "ticks": ""
             }
            },
            "type": "scatterpolargl"
           }
          ],
          "scatterternary": [
           {
            "marker": {
             "colorbar": {
              "outlinewidth": 0,
              "ticks": ""
             }
            },
            "type": "scatterternary"
           }
          ],
          "surface": [
           {
            "colorbar": {
             "outlinewidth": 0,
             "ticks": ""
            },
            "colorscale": [
             [
              0,
              "#0d0887"
             ],
             [
              0.1111111111111111,
              "#46039f"
             ],
             [
              0.2222222222222222,
              "#7201a8"
             ],
             [
              0.3333333333333333,
              "#9c179e"
             ],
             [
              0.4444444444444444,
              "#bd3786"
             ],
             [
              0.5555555555555556,
              "#d8576b"
             ],
             [
              0.6666666666666666,
              "#ed7953"
             ],
             [
              0.7777777777777778,
              "#fb9f3a"
             ],
             [
              0.8888888888888888,
              "#fdca26"
             ],
             [
              1,
              "#f0f921"
             ]
            ],
            "type": "surface"
           }
          ],
          "table": [
           {
            "cells": {
             "fill": {
              "color": "#EBF0F8"
             },
             "line": {
              "color": "white"
             }
            },
            "header": {
             "fill": {
              "color": "#C8D4E3"
             },
             "line": {
              "color": "white"
             }
            },
            "type": "table"
           }
          ]
         },
         "layout": {
          "annotationdefaults": {
           "arrowcolor": "#2a3f5f",
           "arrowhead": 0,
           "arrowwidth": 1
          },
          "autotypenumbers": "strict",
          "coloraxis": {
           "colorbar": {
            "outlinewidth": 0,
            "ticks": ""
           }
          },
          "colorscale": {
           "diverging": [
            [
             0,
             "#8e0152"
            ],
            [
             0.1,
             "#c51b7d"
            ],
            [
             0.2,
             "#de77ae"
            ],
            [
             0.3,
             "#f1b6da"
            ],
            [
             0.4,
             "#fde0ef"
            ],
            [
             0.5,
             "#f7f7f7"
            ],
            [
             0.6,
             "#e6f5d0"
            ],
            [
             0.7,
             "#b8e186"
            ],
            [
             0.8,
             "#7fbc41"
            ],
            [
             0.9,
             "#4d9221"
            ],
            [
             1,
             "#276419"
            ]
           ],
           "sequential": [
            [
             0,
             "#0d0887"
            ],
            [
             0.1111111111111111,
             "#46039f"
            ],
            [
             0.2222222222222222,
             "#7201a8"
            ],
            [
             0.3333333333333333,
             "#9c179e"
            ],
            [
             0.4444444444444444,
             "#bd3786"
            ],
            [
             0.5555555555555556,
             "#d8576b"
            ],
            [
             0.6666666666666666,
             "#ed7953"
            ],
            [
             0.7777777777777778,
             "#fb9f3a"
            ],
            [
             0.8888888888888888,
             "#fdca26"
            ],
            [
             1,
             "#f0f921"
            ]
           ],
           "sequentialminus": [
            [
             0,
             "#0d0887"
            ],
            [
             0.1111111111111111,
             "#46039f"
            ],
            [
             0.2222222222222222,
             "#7201a8"
            ],
            [
             0.3333333333333333,
             "#9c179e"
            ],
            [
             0.4444444444444444,
             "#bd3786"
            ],
            [
             0.5555555555555556,
             "#d8576b"
            ],
            [
             0.6666666666666666,
             "#ed7953"
            ],
            [
             0.7777777777777778,
             "#fb9f3a"
            ],
            [
             0.8888888888888888,
             "#fdca26"
            ],
            [
             1,
             "#f0f921"
            ]
           ]
          },
          "colorway": [
           "#636efa",
           "#EF553B",
           "#00cc96",
           "#ab63fa",
           "#FFA15A",
           "#19d3f3",
           "#FF6692",
           "#B6E880",
           "#FF97FF",
           "#FECB52"
          ],
          "font": {
           "color": "#2a3f5f"
          },
          "geo": {
           "bgcolor": "white",
           "lakecolor": "white",
           "landcolor": "#E5ECF6",
           "showlakes": true,
           "showland": true,
           "subunitcolor": "white"
          },
          "hoverlabel": {
           "align": "left"
          },
          "hovermode": "closest",
          "mapbox": {
           "style": "light"
          },
          "paper_bgcolor": "white",
          "plot_bgcolor": "#E5ECF6",
          "polar": {
           "angularaxis": {
            "gridcolor": "white",
            "linecolor": "white",
            "ticks": ""
           },
           "bgcolor": "#E5ECF6",
           "radialaxis": {
            "gridcolor": "white",
            "linecolor": "white",
            "ticks": ""
           }
          },
          "scene": {
           "xaxis": {
            "backgroundcolor": "#E5ECF6",
            "gridcolor": "white",
            "gridwidth": 2,
            "linecolor": "white",
            "showbackground": true,
            "ticks": "",
            "zerolinecolor": "white"
           },
           "yaxis": {
            "backgroundcolor": "#E5ECF6",
            "gridcolor": "white",
            "gridwidth": 2,
            "linecolor": "white",
            "showbackground": true,
            "ticks": "",
            "zerolinecolor": "white"
           },
           "zaxis": {
            "backgroundcolor": "#E5ECF6",
            "gridcolor": "white",
            "gridwidth": 2,
            "linecolor": "white",
            "showbackground": true,
            "ticks": "",
            "zerolinecolor": "white"
           }
          },
          "shapedefaults": {
           "line": {
            "color": "#2a3f5f"
           }
          },
          "ternary": {
           "aaxis": {
            "gridcolor": "white",
            "linecolor": "white",
            "ticks": ""
           },
           "baxis": {
            "gridcolor": "white",
            "linecolor": "white",
            "ticks": ""
           },
           "bgcolor": "#E5ECF6",
           "caxis": {
            "gridcolor": "white",
            "linecolor": "white",
            "ticks": ""
           }
          },
          "title": {
           "x": 0.05
          },
          "xaxis": {
           "automargin": true,
           "gridcolor": "white",
           "linecolor": "white",
           "ticks": "",
           "title": {
            "standoff": 15
           },
           "zerolinecolor": "white",
           "zerolinewidth": 2
          },
          "yaxis": {
           "automargin": true,
           "gridcolor": "white",
           "linecolor": "white",
           "ticks": "",
           "title": {
            "standoff": 15
           },
           "zerolinecolor": "white",
           "zerolinewidth": 2
          }
         }
        },
        "xaxis": {
         "anchor": "y",
         "domain": [
          0,
          1
         ],
         "title": {
          "text": "value"
         }
        },
        "yaxis": {
         "anchor": "x",
         "domain": [
          0,
          1
         ],
         "title": {
          "text": "count"
         }
        }
       }
      }
     },
     "metadata": {},
     "output_type": "display_data"
    }
   ],
   "source": [
    "px.histogram(top_first_comments_len)"
   ]
  },
  {
   "cell_type": "code",
   "execution_count": 29,
   "metadata": {},
   "outputs": [
    {
     "data": {
      "text/plain": [
       "1595.18"
      ]
     },
     "execution_count": 29,
     "metadata": {},
     "output_type": "execute_result"
    }
   ],
   "source": [
    "np.array(top_first_comments_len).mean()"
   ]
  },
  {
   "cell_type": "code",
   "execution_count": 30,
   "metadata": {},
   "outputs": [],
   "source": [
    "last_first_comments_len=[len(last_posts[i]['node']['comments']['nodes'][0]['body']) \n",
    " if last_posts[i]['node']['comments']['nodes'] else 0\n",
    " for i in range(len(last_posts))]"
   ]
  },
  {
   "cell_type": "code",
   "execution_count": 31,
   "metadata": {},
   "outputs": [
    {
     "data": {
      "application/vnd.plotly.v1+json": {
       "config": {
        "plotlyServerURL": "https://plot.ly"
       },
       "data": [
        {
         "alignmentgroup": "True",
         "bingroup": "x",
         "hovertemplate": "variable=0<br>value=%{x}<br>count=%{y}<extra></extra>",
         "legendgroup": "0",
         "marker": {
          "color": "#636efa",
          "pattern": {
           "shape": ""
          }
         },
         "name": "0",
         "offsetgroup": "0",
         "orientation": "v",
         "showlegend": true,
         "type": "histogram",
         "x": [
          234,
          268,
          0,
          0,
          1780,
          0,
          1151,
          0,
          328,
          0,
          0,
          823,
          0,
          0,
          0,
          0,
          239,
          0,
          15,
          0,
          318,
          0,
          1303,
          129,
          470,
          275,
          0,
          508,
          0,
          0,
          0,
          390,
          147,
          0,
          124,
          491,
          411,
          1353,
          0,
          101,
          34,
          90,
          2148,
          0,
          662,
          0,
          1076,
          0,
          0,
          1855,
          589,
          644,
          0,
          0,
          198,
          372,
          78,
          85,
          40,
          356,
          1370,
          198,
          128,
          393,
          48,
          0,
          908,
          58,
          393,
          837,
          29,
          114,
          1534,
          0,
          112,
          296,
          3256,
          0,
          0,
          171,
          0,
          0,
          242,
          103,
          36,
          288,
          0,
          304,
          0,
          70,
          0,
          866,
          1737,
          319,
          99,
          0,
          24,
          754,
          1598,
          299
         ],
         "xaxis": "x",
         "yaxis": "y"
        }
       ],
       "layout": {
        "barmode": "relative",
        "legend": {
         "title": {
          "text": "variable"
         },
         "tracegroupgap": 0
        },
        "margin": {
         "t": 60
        },
        "template": {
         "data": {
          "bar": [
           {
            "error_x": {
             "color": "#2a3f5f"
            },
            "error_y": {
             "color": "#2a3f5f"
            },
            "marker": {
             "line": {
              "color": "#E5ECF6",
              "width": 0.5
             },
             "pattern": {
              "fillmode": "overlay",
              "size": 10,
              "solidity": 0.2
             }
            },
            "type": "bar"
           }
          ],
          "barpolar": [
           {
            "marker": {
             "line": {
              "color": "#E5ECF6",
              "width": 0.5
             },
             "pattern": {
              "fillmode": "overlay",
              "size": 10,
              "solidity": 0.2
             }
            },
            "type": "barpolar"
           }
          ],
          "carpet": [
           {
            "aaxis": {
             "endlinecolor": "#2a3f5f",
             "gridcolor": "white",
             "linecolor": "white",
             "minorgridcolor": "white",
             "startlinecolor": "#2a3f5f"
            },
            "baxis": {
             "endlinecolor": "#2a3f5f",
             "gridcolor": "white",
             "linecolor": "white",
             "minorgridcolor": "white",
             "startlinecolor": "#2a3f5f"
            },
            "type": "carpet"
           }
          ],
          "choropleth": [
           {
            "colorbar": {
             "outlinewidth": 0,
             "ticks": ""
            },
            "type": "choropleth"
           }
          ],
          "contour": [
           {
            "colorbar": {
             "outlinewidth": 0,
             "ticks": ""
            },
            "colorscale": [
             [
              0,
              "#0d0887"
             ],
             [
              0.1111111111111111,
              "#46039f"
             ],
             [
              0.2222222222222222,
              "#7201a8"
             ],
             [
              0.3333333333333333,
              "#9c179e"
             ],
             [
              0.4444444444444444,
              "#bd3786"
             ],
             [
              0.5555555555555556,
              "#d8576b"
             ],
             [
              0.6666666666666666,
              "#ed7953"
             ],
             [
              0.7777777777777778,
              "#fb9f3a"
             ],
             [
              0.8888888888888888,
              "#fdca26"
             ],
             [
              1,
              "#f0f921"
             ]
            ],
            "type": "contour"
           }
          ],
          "contourcarpet": [
           {
            "colorbar": {
             "outlinewidth": 0,
             "ticks": ""
            },
            "type": "contourcarpet"
           }
          ],
          "heatmap": [
           {
            "colorbar": {
             "outlinewidth": 0,
             "ticks": ""
            },
            "colorscale": [
             [
              0,
              "#0d0887"
             ],
             [
              0.1111111111111111,
              "#46039f"
             ],
             [
              0.2222222222222222,
              "#7201a8"
             ],
             [
              0.3333333333333333,
              "#9c179e"
             ],
             [
              0.4444444444444444,
              "#bd3786"
             ],
             [
              0.5555555555555556,
              "#d8576b"
             ],
             [
              0.6666666666666666,
              "#ed7953"
             ],
             [
              0.7777777777777778,
              "#fb9f3a"
             ],
             [
              0.8888888888888888,
              "#fdca26"
             ],
             [
              1,
              "#f0f921"
             ]
            ],
            "type": "heatmap"
           }
          ],
          "heatmapgl": [
           {
            "colorbar": {
             "outlinewidth": 0,
             "ticks": ""
            },
            "colorscale": [
             [
              0,
              "#0d0887"
             ],
             [
              0.1111111111111111,
              "#46039f"
             ],
             [
              0.2222222222222222,
              "#7201a8"
             ],
             [
              0.3333333333333333,
              "#9c179e"
             ],
             [
              0.4444444444444444,
              "#bd3786"
             ],
             [
              0.5555555555555556,
              "#d8576b"
             ],
             [
              0.6666666666666666,
              "#ed7953"
             ],
             [
              0.7777777777777778,
              "#fb9f3a"
             ],
             [
              0.8888888888888888,
              "#fdca26"
             ],
             [
              1,
              "#f0f921"
             ]
            ],
            "type": "heatmapgl"
           }
          ],
          "histogram": [
           {
            "marker": {
             "pattern": {
              "fillmode": "overlay",
              "size": 10,
              "solidity": 0.2
             }
            },
            "type": "histogram"
           }
          ],
          "histogram2d": [
           {
            "colorbar": {
             "outlinewidth": 0,
             "ticks": ""
            },
            "colorscale": [
             [
              0,
              "#0d0887"
             ],
             [
              0.1111111111111111,
              "#46039f"
             ],
             [
              0.2222222222222222,
              "#7201a8"
             ],
             [
              0.3333333333333333,
              "#9c179e"
             ],
             [
              0.4444444444444444,
              "#bd3786"
             ],
             [
              0.5555555555555556,
              "#d8576b"
             ],
             [
              0.6666666666666666,
              "#ed7953"
             ],
             [
              0.7777777777777778,
              "#fb9f3a"
             ],
             [
              0.8888888888888888,
              "#fdca26"
             ],
             [
              1,
              "#f0f921"
             ]
            ],
            "type": "histogram2d"
           }
          ],
          "histogram2dcontour": [
           {
            "colorbar": {
             "outlinewidth": 0,
             "ticks": ""
            },
            "colorscale": [
             [
              0,
              "#0d0887"
             ],
             [
              0.1111111111111111,
              "#46039f"
             ],
             [
              0.2222222222222222,
              "#7201a8"
             ],
             [
              0.3333333333333333,
              "#9c179e"
             ],
             [
              0.4444444444444444,
              "#bd3786"
             ],
             [
              0.5555555555555556,
              "#d8576b"
             ],
             [
              0.6666666666666666,
              "#ed7953"
             ],
             [
              0.7777777777777778,
              "#fb9f3a"
             ],
             [
              0.8888888888888888,
              "#fdca26"
             ],
             [
              1,
              "#f0f921"
             ]
            ],
            "type": "histogram2dcontour"
           }
          ],
          "mesh3d": [
           {
            "colorbar": {
             "outlinewidth": 0,
             "ticks": ""
            },
            "type": "mesh3d"
           }
          ],
          "parcoords": [
           {
            "line": {
             "colorbar": {
              "outlinewidth": 0,
              "ticks": ""
             }
            },
            "type": "parcoords"
           }
          ],
          "pie": [
           {
            "automargin": true,
            "type": "pie"
           }
          ],
          "scatter": [
           {
            "fillpattern": {
             "fillmode": "overlay",
             "size": 10,
             "solidity": 0.2
            },
            "type": "scatter"
           }
          ],
          "scatter3d": [
           {
            "line": {
             "colorbar": {
              "outlinewidth": 0,
              "ticks": ""
             }
            },
            "marker": {
             "colorbar": {
              "outlinewidth": 0,
              "ticks": ""
             }
            },
            "type": "scatter3d"
           }
          ],
          "scattercarpet": [
           {
            "marker": {
             "colorbar": {
              "outlinewidth": 0,
              "ticks": ""
             }
            },
            "type": "scattercarpet"
           }
          ],
          "scattergeo": [
           {
            "marker": {
             "colorbar": {
              "outlinewidth": 0,
              "ticks": ""
             }
            },
            "type": "scattergeo"
           }
          ],
          "scattergl": [
           {
            "marker": {
             "colorbar": {
              "outlinewidth": 0,
              "ticks": ""
             }
            },
            "type": "scattergl"
           }
          ],
          "scattermapbox": [
           {
            "marker": {
             "colorbar": {
              "outlinewidth": 0,
              "ticks": ""
             }
            },
            "type": "scattermapbox"
           }
          ],
          "scatterpolar": [
           {
            "marker": {
             "colorbar": {
              "outlinewidth": 0,
              "ticks": ""
             }
            },
            "type": "scatterpolar"
           }
          ],
          "scatterpolargl": [
           {
            "marker": {
             "colorbar": {
              "outlinewidth": 0,
              "ticks": ""
             }
            },
            "type": "scatterpolargl"
           }
          ],
          "scatterternary": [
           {
            "marker": {
             "colorbar": {
              "outlinewidth": 0,
              "ticks": ""
             }
            },
            "type": "scatterternary"
           }
          ],
          "surface": [
           {
            "colorbar": {
             "outlinewidth": 0,
             "ticks": ""
            },
            "colorscale": [
             [
              0,
              "#0d0887"
             ],
             [
              0.1111111111111111,
              "#46039f"
             ],
             [
              0.2222222222222222,
              "#7201a8"
             ],
             [
              0.3333333333333333,
              "#9c179e"
             ],
             [
              0.4444444444444444,
              "#bd3786"
             ],
             [
              0.5555555555555556,
              "#d8576b"
             ],
             [
              0.6666666666666666,
              "#ed7953"
             ],
             [
              0.7777777777777778,
              "#fb9f3a"
             ],
             [
              0.8888888888888888,
              "#fdca26"
             ],
             [
              1,
              "#f0f921"
             ]
            ],
            "type": "surface"
           }
          ],
          "table": [
           {
            "cells": {
             "fill": {
              "color": "#EBF0F8"
             },
             "line": {
              "color": "white"
             }
            },
            "header": {
             "fill": {
              "color": "#C8D4E3"
             },
             "line": {
              "color": "white"
             }
            },
            "type": "table"
           }
          ]
         },
         "layout": {
          "annotationdefaults": {
           "arrowcolor": "#2a3f5f",
           "arrowhead": 0,
           "arrowwidth": 1
          },
          "autotypenumbers": "strict",
          "coloraxis": {
           "colorbar": {
            "outlinewidth": 0,
            "ticks": ""
           }
          },
          "colorscale": {
           "diverging": [
            [
             0,
             "#8e0152"
            ],
            [
             0.1,
             "#c51b7d"
            ],
            [
             0.2,
             "#de77ae"
            ],
            [
             0.3,
             "#f1b6da"
            ],
            [
             0.4,
             "#fde0ef"
            ],
            [
             0.5,
             "#f7f7f7"
            ],
            [
             0.6,
             "#e6f5d0"
            ],
            [
             0.7,
             "#b8e186"
            ],
            [
             0.8,
             "#7fbc41"
            ],
            [
             0.9,
             "#4d9221"
            ],
            [
             1,
             "#276419"
            ]
           ],
           "sequential": [
            [
             0,
             "#0d0887"
            ],
            [
             0.1111111111111111,
             "#46039f"
            ],
            [
             0.2222222222222222,
             "#7201a8"
            ],
            [
             0.3333333333333333,
             "#9c179e"
            ],
            [
             0.4444444444444444,
             "#bd3786"
            ],
            [
             0.5555555555555556,
             "#d8576b"
            ],
            [
             0.6666666666666666,
             "#ed7953"
            ],
            [
             0.7777777777777778,
             "#fb9f3a"
            ],
            [
             0.8888888888888888,
             "#fdca26"
            ],
            [
             1,
             "#f0f921"
            ]
           ],
           "sequentialminus": [
            [
             0,
             "#0d0887"
            ],
            [
             0.1111111111111111,
             "#46039f"
            ],
            [
             0.2222222222222222,
             "#7201a8"
            ],
            [
             0.3333333333333333,
             "#9c179e"
            ],
            [
             0.4444444444444444,
             "#bd3786"
            ],
            [
             0.5555555555555556,
             "#d8576b"
            ],
            [
             0.6666666666666666,
             "#ed7953"
            ],
            [
             0.7777777777777778,
             "#fb9f3a"
            ],
            [
             0.8888888888888888,
             "#fdca26"
            ],
            [
             1,
             "#f0f921"
            ]
           ]
          },
          "colorway": [
           "#636efa",
           "#EF553B",
           "#00cc96",
           "#ab63fa",
           "#FFA15A",
           "#19d3f3",
           "#FF6692",
           "#B6E880",
           "#FF97FF",
           "#FECB52"
          ],
          "font": {
           "color": "#2a3f5f"
          },
          "geo": {
           "bgcolor": "white",
           "lakecolor": "white",
           "landcolor": "#E5ECF6",
           "showlakes": true,
           "showland": true,
           "subunitcolor": "white"
          },
          "hoverlabel": {
           "align": "left"
          },
          "hovermode": "closest",
          "mapbox": {
           "style": "light"
          },
          "paper_bgcolor": "white",
          "plot_bgcolor": "#E5ECF6",
          "polar": {
           "angularaxis": {
            "gridcolor": "white",
            "linecolor": "white",
            "ticks": ""
           },
           "bgcolor": "#E5ECF6",
           "radialaxis": {
            "gridcolor": "white",
            "linecolor": "white",
            "ticks": ""
           }
          },
          "scene": {
           "xaxis": {
            "backgroundcolor": "#E5ECF6",
            "gridcolor": "white",
            "gridwidth": 2,
            "linecolor": "white",
            "showbackground": true,
            "ticks": "",
            "zerolinecolor": "white"
           },
           "yaxis": {
            "backgroundcolor": "#E5ECF6",
            "gridcolor": "white",
            "gridwidth": 2,
            "linecolor": "white",
            "showbackground": true,
            "ticks": "",
            "zerolinecolor": "white"
           },
           "zaxis": {
            "backgroundcolor": "#E5ECF6",
            "gridcolor": "white",
            "gridwidth": 2,
            "linecolor": "white",
            "showbackground": true,
            "ticks": "",
            "zerolinecolor": "white"
           }
          },
          "shapedefaults": {
           "line": {
            "color": "#2a3f5f"
           }
          },
          "ternary": {
           "aaxis": {
            "gridcolor": "white",
            "linecolor": "white",
            "ticks": ""
           },
           "baxis": {
            "gridcolor": "white",
            "linecolor": "white",
            "ticks": ""
           },
           "bgcolor": "#E5ECF6",
           "caxis": {
            "gridcolor": "white",
            "linecolor": "white",
            "ticks": ""
           }
          },
          "title": {
           "x": 0.05
          },
          "xaxis": {
           "automargin": true,
           "gridcolor": "white",
           "linecolor": "white",
           "ticks": "",
           "title": {
            "standoff": 15
           },
           "zerolinecolor": "white",
           "zerolinewidth": 2
          },
          "yaxis": {
           "automargin": true,
           "gridcolor": "white",
           "linecolor": "white",
           "ticks": "",
           "title": {
            "standoff": 15
           },
           "zerolinecolor": "white",
           "zerolinewidth": 2
          }
         }
        },
        "xaxis": {
         "anchor": "y",
         "domain": [
          0,
          1
         ],
         "title": {
          "text": "value"
         }
        },
        "yaxis": {
         "anchor": "x",
         "domain": [
          0,
          1
         ],
         "title": {
          "text": "count"
         }
        }
       }
      }
     },
     "metadata": {},
     "output_type": "display_data"
    }
   ],
   "source": [
    "px.histogram(last_first_comments_len)"
   ]
  },
  {
   "cell_type": "markdown",
   "metadata": {},
   "source": [
    "*As we can see from couple of example from both types of posts, the first comment from the maker is very detailed in top performing launches whereas the first comments in case of the launches with least amount of votes the comment is not very detailed and sometimes there is no comment from the maker*"
   ]
  },
  {
   "cell_type": "markdown",
   "metadata": {},
   "source": [
    "## Classification Model"
   ]
  },
  {
   "cell_type": "code",
   "execution_count": 41,
   "metadata": {},
   "outputs": [
    {
     "data": {
      "text/html": [
       "<div>\n",
       "<style scoped>\n",
       "    .dataframe tbody tr th:only-of-type {\n",
       "        vertical-align: middle;\n",
       "    }\n",
       "\n",
       "    .dataframe tbody tr th {\n",
       "        vertical-align: top;\n",
       "    }\n",
       "\n",
       "    .dataframe thead th {\n",
       "        text-align: right;\n",
       "    }\n",
       "</style>\n",
       "<table border=\"1\" class=\"dataframe\">\n",
       "  <thead>\n",
       "    <tr style=\"text-align: right;\">\n",
       "      <th></th>\n",
       "      <th>Unnamed: 0</th>\n",
       "      <th>name</th>\n",
       "      <th>description</th>\n",
       "      <th>url</th>\n",
       "      <th>votesCount</th>\n",
       "      <th>createdAt</th>\n",
       "      <th>tagline</th>\n",
       "      <th>commentsCount</th>\n",
       "      <th>comments</th>\n",
       "      <th>topics</th>\n",
       "    </tr>\n",
       "  </thead>\n",
       "  <tbody>\n",
       "    <tr>\n",
       "      <th>0</th>\n",
       "      <td>0</td>\n",
       "      <td>Not Diamond</td>\n",
       "      <td>Not Diamond isn’t like other chatbots you’ve u...</td>\n",
       "      <td>https://www.producthunt.com/posts/not-diamond?...</td>\n",
       "      <td>691</td>\n",
       "      <td>2024-08-01T07:01:00Z</td>\n",
       "      <td>The last chatbot you’ll ever need</td>\n",
       "      <td>219</td>\n",
       "      <td>{'nodes': [{'body': 'Hey Product Hunt!\\r\\n\\r\\n...</td>\n",
       "      <td>{'nodes': [{'slug': 'developer-tools'}, {'slug...</td>\n",
       "    </tr>\n",
       "    <tr>\n",
       "      <th>1</th>\n",
       "      <td>1</td>\n",
       "      <td>Clarity</td>\n",
       "      <td>Clarity is purpose-built for founder-led sales...</td>\n",
       "      <td>https://www.producthunt.com/posts/clarity-9f37...</td>\n",
       "      <td>545</td>\n",
       "      <td>2024-08-01T07:01:00Z</td>\n",
       "      <td>A meeting recorder for founder-led sales</td>\n",
       "      <td>199</td>\n",
       "      <td>{'nodes': [{'body': \"Congrats on the launch Au...</td>\n",
       "      <td>{'nodes': [{'slug': 'productivity'}, {'slug': ...</td>\n",
       "    </tr>\n",
       "    <tr>\n",
       "      <th>2</th>\n",
       "      <td>2</td>\n",
       "      <td>Mito Health</td>\n",
       "      <td>Mito Health uses blood work at regular labs to...</td>\n",
       "      <td>https://www.producthunt.com/posts/mito-health?...</td>\n",
       "      <td>358</td>\n",
       "      <td>2024-08-01T07:01:00Z</td>\n",
       "      <td>Better insights from bloodwork</td>\n",
       "      <td>117</td>\n",
       "      <td>{'nodes': [{'body': 'Hi Product Hunt! 👋 \\n\\nWe...</td>\n",
       "      <td>{'nodes': [{'slug': 'health-fitness'}, {'slug'...</td>\n",
       "    </tr>\n",
       "    <tr>\n",
       "      <th>3</th>\n",
       "      <td>3</td>\n",
       "      <td>EduWiz.AI</td>\n",
       "      <td>Improve your writing effortlessly with EduWiz....</td>\n",
       "      <td>https://www.producthunt.com/posts/eduwiz-ai?ut...</td>\n",
       "      <td>292</td>\n",
       "      <td>2024-08-01T07:01:00Z</td>\n",
       "      <td>Write magical paperwork in seconds with AI</td>\n",
       "      <td>105</td>\n",
       "      <td>{'nodes': [{'body': 'Hey, Product Hunt! 👋\\n\\nI...</td>\n",
       "      <td>{'nodes': [{'slug': 'writing'}, {'slug': 'educ...</td>\n",
       "    </tr>\n",
       "    <tr>\n",
       "      <th>4</th>\n",
       "      <td>4</td>\n",
       "      <td>Mind Visuals</td>\n",
       "      <td>Stay in your creator zone and edit videos in s...</td>\n",
       "      <td>https://www.producthunt.com/posts/mind-visuals...</td>\n",
       "      <td>278</td>\n",
       "      <td>2024-08-01T07:01:00Z</td>\n",
       "      <td>Drag and drop animations for creators</td>\n",
       "      <td>61</td>\n",
       "      <td>{'nodes': [{'body': 'Mind Visuals is now live!...</td>\n",
       "      <td>{'nodes': [{'slug': 'design-tools'}, {'slug': ...</td>\n",
       "    </tr>\n",
       "  </tbody>\n",
       "</table>\n",
       "</div>"
      ],
      "text/plain": [
       "   Unnamed: 0          name  \\\n",
       "0           0   Not Diamond   \n",
       "1           1       Clarity   \n",
       "2           2   Mito Health   \n",
       "3           3     EduWiz.AI   \n",
       "4           4  Mind Visuals   \n",
       "\n",
       "                                         description  \\\n",
       "0  Not Diamond isn’t like other chatbots you’ve u...   \n",
       "1  Clarity is purpose-built for founder-led sales...   \n",
       "2  Mito Health uses blood work at regular labs to...   \n",
       "3  Improve your writing effortlessly with EduWiz....   \n",
       "4  Stay in your creator zone and edit videos in s...   \n",
       "\n",
       "                                                 url  votesCount  \\\n",
       "0  https://www.producthunt.com/posts/not-diamond?...         691   \n",
       "1  https://www.producthunt.com/posts/clarity-9f37...         545   \n",
       "2  https://www.producthunt.com/posts/mito-health?...         358   \n",
       "3  https://www.producthunt.com/posts/eduwiz-ai?ut...         292   \n",
       "4  https://www.producthunt.com/posts/mind-visuals...         278   \n",
       "\n",
       "              createdAt                                     tagline  \\\n",
       "0  2024-08-01T07:01:00Z           The last chatbot you’ll ever need   \n",
       "1  2024-08-01T07:01:00Z    A meeting recorder for founder-led sales   \n",
       "2  2024-08-01T07:01:00Z              Better insights from bloodwork   \n",
       "3  2024-08-01T07:01:00Z  Write magical paperwork in seconds with AI   \n",
       "4  2024-08-01T07:01:00Z       Drag and drop animations for creators   \n",
       "\n",
       "   commentsCount                                           comments  \\\n",
       "0            219  {'nodes': [{'body': 'Hey Product Hunt!\\r\\n\\r\\n...   \n",
       "1            199  {'nodes': [{'body': \"Congrats on the launch Au...   \n",
       "2            117  {'nodes': [{'body': 'Hi Product Hunt! 👋 \\n\\nWe...   \n",
       "3            105  {'nodes': [{'body': 'Hey, Product Hunt! 👋\\n\\nI...   \n",
       "4             61  {'nodes': [{'body': 'Mind Visuals is now live!...   \n",
       "\n",
       "                                              topics  \n",
       "0  {'nodes': [{'slug': 'developer-tools'}, {'slug...  \n",
       "1  {'nodes': [{'slug': 'productivity'}, {'slug': ...  \n",
       "2  {'nodes': [{'slug': 'health-fitness'}, {'slug'...  \n",
       "3  {'nodes': [{'slug': 'writing'}, {'slug': 'educ...  \n",
       "4  {'nodes': [{'slug': 'design-tools'}, {'slug': ...  "
      ]
     },
     "execution_count": 41,
     "metadata": {},
     "output_type": "execute_result"
    }
   ],
   "source": [
    "df = pd.read_csv('PH_posts_data.csv')\n",
    "df.head()"
   ]
  },
  {
   "cell_type": "code",
   "execution_count": 42,
   "metadata": {},
   "outputs": [
    {
     "data": {
      "text/html": [
       "<div>\n",
       "<style scoped>\n",
       "    .dataframe tbody tr th:only-of-type {\n",
       "        vertical-align: middle;\n",
       "    }\n",
       "\n",
       "    .dataframe tbody tr th {\n",
       "        vertical-align: top;\n",
       "    }\n",
       "\n",
       "    .dataframe thead th {\n",
       "        text-align: right;\n",
       "    }\n",
       "</style>\n",
       "<table border=\"1\" class=\"dataframe\">\n",
       "  <thead>\n",
       "    <tr style=\"text-align: right;\">\n",
       "      <th></th>\n",
       "      <th>name</th>\n",
       "      <th>description</th>\n",
       "      <th>url</th>\n",
       "      <th>votesCount</th>\n",
       "      <th>createdAt</th>\n",
       "      <th>tagline</th>\n",
       "      <th>commentsCount</th>\n",
       "      <th>comments</th>\n",
       "      <th>topics</th>\n",
       "      <th>Date</th>\n",
       "      <th>day</th>\n",
       "      <th>topic_list</th>\n",
       "    </tr>\n",
       "  </thead>\n",
       "  <tbody>\n",
       "    <tr>\n",
       "      <th>0</th>\n",
       "      <td>Not Diamond</td>\n",
       "      <td>Not Diamond isn’t like other chatbots you’ve u...</td>\n",
       "      <td>https://www.producthunt.com/posts/not-diamond?...</td>\n",
       "      <td>691</td>\n",
       "      <td>2024-08-01T07:01:00Z</td>\n",
       "      <td>The last chatbot you’ll ever need</td>\n",
       "      <td>219</td>\n",
       "      <td>{'nodes': [{'body': 'Hey Product Hunt!\\r\\n\\r\\n...</td>\n",
       "      <td>{'nodes': [{'slug': 'developer-tools'}, {'slug...</td>\n",
       "      <td>2024-08-01</td>\n",
       "      <td>Thursday</td>\n",
       "      <td>[developer-tools, artificial-intelligence, bots]</td>\n",
       "    </tr>\n",
       "    <tr>\n",
       "      <th>1</th>\n",
       "      <td>Clarity</td>\n",
       "      <td>Clarity is purpose-built for founder-led sales...</td>\n",
       "      <td>https://www.producthunt.com/posts/clarity-9f37...</td>\n",
       "      <td>545</td>\n",
       "      <td>2024-08-01T07:01:00Z</td>\n",
       "      <td>A meeting recorder for founder-led sales</td>\n",
       "      <td>199</td>\n",
       "      <td>{'nodes': [{'body': \"Congrats on the launch Au...</td>\n",
       "      <td>{'nodes': [{'slug': 'productivity'}, {'slug': ...</td>\n",
       "      <td>2024-08-01</td>\n",
       "      <td>Thursday</td>\n",
       "      <td>[productivity, sales, artificial-intelligence]</td>\n",
       "    </tr>\n",
       "    <tr>\n",
       "      <th>2</th>\n",
       "      <td>Mito Health</td>\n",
       "      <td>Mito Health uses blood work at regular labs to...</td>\n",
       "      <td>https://www.producthunt.com/posts/mito-health?...</td>\n",
       "      <td>358</td>\n",
       "      <td>2024-08-01T07:01:00Z</td>\n",
       "      <td>Better insights from bloodwork</td>\n",
       "      <td>117</td>\n",
       "      <td>{'nodes': [{'body': 'Hi Product Hunt! 👋 \\n\\nWe...</td>\n",
       "      <td>{'nodes': [{'slug': 'health-fitness'}, {'slug'...</td>\n",
       "      <td>2024-08-01</td>\n",
       "      <td>Thursday</td>\n",
       "      <td>[health-fitness, artificial-intelligence, life...</td>\n",
       "    </tr>\n",
       "    <tr>\n",
       "      <th>3</th>\n",
       "      <td>EduWiz.AI</td>\n",
       "      <td>Improve your writing effortlessly with EduWiz....</td>\n",
       "      <td>https://www.producthunt.com/posts/eduwiz-ai?ut...</td>\n",
       "      <td>292</td>\n",
       "      <td>2024-08-01T07:01:00Z</td>\n",
       "      <td>Write magical paperwork in seconds with AI</td>\n",
       "      <td>105</td>\n",
       "      <td>{'nodes': [{'body': 'Hey, Product Hunt! 👋\\n\\nI...</td>\n",
       "      <td>{'nodes': [{'slug': 'writing'}, {'slug': 'educ...</td>\n",
       "      <td>2024-08-01</td>\n",
       "      <td>Thursday</td>\n",
       "      <td>[writing, education, artificial-intelligence]</td>\n",
       "    </tr>\n",
       "    <tr>\n",
       "      <th>4</th>\n",
       "      <td>Mind Visuals</td>\n",
       "      <td>Stay in your creator zone and edit videos in s...</td>\n",
       "      <td>https://www.producthunt.com/posts/mind-visuals...</td>\n",
       "      <td>278</td>\n",
       "      <td>2024-08-01T07:01:00Z</td>\n",
       "      <td>Drag and drop animations for creators</td>\n",
       "      <td>61</td>\n",
       "      <td>{'nodes': [{'body': 'Mind Visuals is now live!...</td>\n",
       "      <td>{'nodes': [{'slug': 'design-tools'}, {'slug': ...</td>\n",
       "      <td>2024-08-01</td>\n",
       "      <td>Thursday</td>\n",
       "      <td>[design-tools, marketing, video]</td>\n",
       "    </tr>\n",
       "  </tbody>\n",
       "</table>\n",
       "</div>"
      ],
      "text/plain": [
       "           name                                        description  \\\n",
       "0   Not Diamond  Not Diamond isn’t like other chatbots you’ve u...   \n",
       "1       Clarity  Clarity is purpose-built for founder-led sales...   \n",
       "2   Mito Health  Mito Health uses blood work at regular labs to...   \n",
       "3     EduWiz.AI  Improve your writing effortlessly with EduWiz....   \n",
       "4  Mind Visuals  Stay in your creator zone and edit videos in s...   \n",
       "\n",
       "                                                 url  votesCount  \\\n",
       "0  https://www.producthunt.com/posts/not-diamond?...         691   \n",
       "1  https://www.producthunt.com/posts/clarity-9f37...         545   \n",
       "2  https://www.producthunt.com/posts/mito-health?...         358   \n",
       "3  https://www.producthunt.com/posts/eduwiz-ai?ut...         292   \n",
       "4  https://www.producthunt.com/posts/mind-visuals...         278   \n",
       "\n",
       "              createdAt                                     tagline  \\\n",
       "0  2024-08-01T07:01:00Z           The last chatbot you’ll ever need   \n",
       "1  2024-08-01T07:01:00Z    A meeting recorder for founder-led sales   \n",
       "2  2024-08-01T07:01:00Z              Better insights from bloodwork   \n",
       "3  2024-08-01T07:01:00Z  Write magical paperwork in seconds with AI   \n",
       "4  2024-08-01T07:01:00Z       Drag and drop animations for creators   \n",
       "\n",
       "   commentsCount                                           comments  \\\n",
       "0            219  {'nodes': [{'body': 'Hey Product Hunt!\\r\\n\\r\\n...   \n",
       "1            199  {'nodes': [{'body': \"Congrats on the launch Au...   \n",
       "2            117  {'nodes': [{'body': 'Hi Product Hunt! 👋 \\n\\nWe...   \n",
       "3            105  {'nodes': [{'body': 'Hey, Product Hunt! 👋\\n\\nI...   \n",
       "4             61  {'nodes': [{'body': 'Mind Visuals is now live!...   \n",
       "\n",
       "                                              topics        Date       day  \\\n",
       "0  {'nodes': [{'slug': 'developer-tools'}, {'slug...  2024-08-01  Thursday   \n",
       "1  {'nodes': [{'slug': 'productivity'}, {'slug': ...  2024-08-01  Thursday   \n",
       "2  {'nodes': [{'slug': 'health-fitness'}, {'slug'...  2024-08-01  Thursday   \n",
       "3  {'nodes': [{'slug': 'writing'}, {'slug': 'educ...  2024-08-01  Thursday   \n",
       "4  {'nodes': [{'slug': 'design-tools'}, {'slug': ...  2024-08-01  Thursday   \n",
       "\n",
       "                                          topic_list  \n",
       "0   [developer-tools, artificial-intelligence, bots]  \n",
       "1     [productivity, sales, artificial-intelligence]  \n",
       "2  [health-fitness, artificial-intelligence, life...  \n",
       "3      [writing, education, artificial-intelligence]  \n",
       "4                   [design-tools, marketing, video]  "
      ]
     },
     "execution_count": 42,
     "metadata": {},
     "output_type": "execute_result"
    }
   ],
   "source": [
    "df.drop('Unnamed: 0',axis=1,inplace=True)\n",
    "df['Date'] = pd.to_datetime(df['createdAt']).dt.date\n",
    "# df['date'] = pd.to_datetime(df['createdAt']).dt.date\n",
    "df['day'] = pd.to_datetime(df['createdAt']).dt.day_name()\n",
    "df['topic_list'] = df['topics'].apply(lambda x: [j['slug'] for j in ast.literal_eval(x)['nodes']])\n",
    "df.head()"
   ]
  },
  {
   "cell_type": "code",
   "execution_count": 43,
   "metadata": {},
   "outputs": [
    {
     "data": {
      "application/vnd.plotly.v1+json": {
       "config": {
        "plotlyServerURL": "https://plot.ly"
       },
       "data": [
        {
         "alignmentgroup": "True",
         "hovertemplate": "variable=%{x}<br>value=%{y}<extra></extra>",
         "legendgroup": "",
         "marker": {
          "color": "#636efa"
         },
         "name": "",
         "notched": false,
         "offsetgroup": "",
         "orientation": "v",
         "showlegend": false,
         "type": "box",
         "x": [
          "votesCount",
          "votesCount",
          "votesCount",
          "votesCount",
          "votesCount",
          "votesCount",
          "votesCount",
          "votesCount",
          "votesCount",
          "votesCount",
          "votesCount",
          "votesCount",
          "votesCount",
          "votesCount",
          "votesCount",
          "votesCount",
          "votesCount",
          "votesCount",
          "votesCount",
          "votesCount",
          "votesCount",
          "votesCount",
          "votesCount",
          "votesCount",
          "votesCount",
          "votesCount",
          "votesCount",
          "votesCount",
          "votesCount",
          "votesCount",
          "votesCount",
          "votesCount",
          "votesCount",
          "votesCount",
          "votesCount",
          "votesCount",
          "votesCount",
          "votesCount",
          "votesCount",
          "votesCount",
          "votesCount",
          "votesCount",
          "votesCount",
          "votesCount",
          "votesCount",
          "votesCount",
          "votesCount",
          "votesCount",
          "votesCount",
          "votesCount",
          "votesCount",
          "votesCount",
          "votesCount",
          "votesCount",
          "votesCount",
          "votesCount",
          "votesCount",
          "votesCount",
          "votesCount",
          "votesCount",
          "votesCount",
          "votesCount",
          "votesCount",
          "votesCount",
          "votesCount",
          "votesCount",
          "votesCount",
          "votesCount",
          "votesCount",
          "votesCount",
          "votesCount",
          "votesCount",
          "votesCount",
          "votesCount",
          "votesCount",
          "votesCount",
          "votesCount",
          "votesCount",
          "votesCount",
          "votesCount",
          "votesCount",
          "votesCount",
          "votesCount",
          "votesCount",
          "votesCount",
          "votesCount",
          "votesCount",
          "votesCount",
          "votesCount",
          "votesCount",
          "votesCount",
          "votesCount",
          "votesCount",
          "votesCount",
          "votesCount",
          "votesCount",
          "votesCount",
          "votesCount",
          "votesCount",
          "votesCount",
          "votesCount",
          "votesCount",
          "votesCount",
          "votesCount",
          "votesCount",
          "votesCount",
          "votesCount",
          "votesCount",
          "votesCount",
          "votesCount",
          "votesCount",
          "votesCount",
          "votesCount",
          "votesCount",
          "votesCount",
          "votesCount",
          "votesCount",
          "votesCount",
          "votesCount",
          "votesCount",
          "votesCount",
          "votesCount",
          "votesCount",
          "votesCount",
          "votesCount",
          "votesCount",
          "votesCount",
          "votesCount",
          "votesCount",
          "votesCount",
          "votesCount",
          "votesCount",
          "votesCount",
          "votesCount",
          "votesCount",
          "votesCount",
          "votesCount",
          "votesCount",
          "votesCount",
          "votesCount",
          "votesCount",
          "votesCount",
          "votesCount",
          "votesCount",
          "votesCount",
          "votesCount",
          "votesCount",
          "votesCount",
          "votesCount",
          "votesCount",
          "votesCount",
          "votesCount",
          "votesCount",
          "votesCount",
          "votesCount",
          "votesCount",
          "votesCount",
          "votesCount",
          "votesCount",
          "votesCount",
          "votesCount",
          "votesCount",
          "votesCount",
          "votesCount",
          "votesCount",
          "votesCount",
          "votesCount",
          "votesCount",
          "votesCount",
          "votesCount",
          "votesCount",
          "votesCount",
          "votesCount",
          "votesCount",
          "votesCount",
          "votesCount",
          "votesCount",
          "votesCount",
          "votesCount",
          "votesCount",
          "votesCount",
          "votesCount",
          "votesCount",
          "votesCount",
          "votesCount",
          "votesCount",
          "votesCount",
          "votesCount",
          "votesCount",
          "votesCount",
          "votesCount",
          "votesCount",
          "votesCount",
          "votesCount",
          "votesCount",
          "votesCount",
          "votesCount",
          "votesCount",
          "votesCount",
          "votesCount",
          "votesCount",
          "votesCount",
          "votesCount",
          "votesCount",
          "votesCount",
          "votesCount",
          "votesCount",
          "votesCount",
          "votesCount",
          "votesCount",
          "votesCount",
          "votesCount",
          "votesCount",
          "votesCount",
          "votesCount",
          "votesCount",
          "votesCount",
          "votesCount",
          "votesCount",
          "votesCount",
          "votesCount",
          "votesCount",
          "votesCount",
          "votesCount",
          "votesCount",
          "votesCount",
          "votesCount",
          "votesCount",
          "votesCount",
          "votesCount",
          "votesCount",
          "votesCount",
          "votesCount",
          "votesCount",
          "votesCount",
          "votesCount",
          "votesCount",
          "votesCount",
          "votesCount",
          "votesCount",
          "votesCount",
          "votesCount",
          "votesCount",
          "votesCount",
          "votesCount",
          "votesCount",
          "votesCount",
          "votesCount",
          "votesCount",
          "votesCount",
          "votesCount",
          "votesCount",
          "votesCount",
          "votesCount",
          "votesCount",
          "votesCount",
          "votesCount",
          "votesCount",
          "votesCount",
          "votesCount",
          "votesCount",
          "votesCount",
          "votesCount",
          "votesCount",
          "votesCount",
          "votesCount",
          "votesCount",
          "votesCount",
          "votesCount",
          "votesCount",
          "votesCount",
          "votesCount",
          "votesCount",
          "votesCount",
          "votesCount",
          "votesCount",
          "votesCount",
          "votesCount",
          "votesCount",
          "votesCount",
          "votesCount",
          "votesCount",
          "votesCount",
          "votesCount",
          "votesCount",
          "votesCount",
          "votesCount",
          "votesCount",
          "votesCount",
          "votesCount",
          "votesCount",
          "votesCount",
          "votesCount",
          "votesCount",
          "votesCount",
          "votesCount",
          "votesCount",
          "votesCount",
          "votesCount",
          "votesCount",
          "votesCount",
          "votesCount",
          "votesCount",
          "votesCount",
          "votesCount",
          "votesCount",
          "votesCount",
          "votesCount",
          "votesCount",
          "votesCount",
          "votesCount",
          "votesCount",
          "votesCount",
          "votesCount",
          "votesCount",
          "votesCount",
          "votesCount",
          "votesCount",
          "votesCount",
          "votesCount",
          "votesCount",
          "votesCount",
          "votesCount",
          "votesCount",
          "votesCount",
          "votesCount",
          "votesCount",
          "votesCount",
          "votesCount",
          "votesCount",
          "votesCount",
          "votesCount",
          "votesCount",
          "votesCount",
          "votesCount",
          "votesCount",
          "votesCount",
          "votesCount",
          "votesCount",
          "votesCount",
          "votesCount",
          "votesCount",
          "votesCount",
          "votesCount",
          "votesCount",
          "votesCount",
          "votesCount",
          "votesCount",
          "votesCount",
          "votesCount",
          "votesCount",
          "votesCount",
          "votesCount",
          "votesCount",
          "votesCount",
          "votesCount",
          "votesCount",
          "votesCount",
          "votesCount",
          "votesCount",
          "votesCount",
          "votesCount",
          "votesCount",
          "votesCount",
          "votesCount",
          "votesCount",
          "votesCount",
          "votesCount",
          "votesCount",
          "votesCount",
          "votesCount",
          "votesCount",
          "votesCount",
          "votesCount",
          "votesCount",
          "votesCount",
          "votesCount",
          "votesCount",
          "votesCount",
          "votesCount",
          "votesCount",
          "votesCount",
          "votesCount",
          "votesCount",
          "votesCount",
          "votesCount",
          "votesCount",
          "votesCount",
          "votesCount",
          "votesCount",
          "votesCount",
          "votesCount",
          "votesCount",
          "votesCount",
          "votesCount",
          "votesCount",
          "votesCount",
          "votesCount",
          "votesCount",
          "votesCount",
          "votesCount",
          "votesCount",
          "votesCount",
          "votesCount",
          "votesCount",
          "votesCount",
          "votesCount",
          "votesCount",
          "votesCount",
          "votesCount",
          "votesCount",
          "votesCount",
          "votesCount",
          "votesCount",
          "votesCount",
          "votesCount",
          "votesCount",
          "votesCount",
          "votesCount",
          "votesCount",
          "votesCount",
          "votesCount",
          "votesCount",
          "votesCount",
          "votesCount",
          "votesCount",
          "votesCount",
          "votesCount",
          "votesCount",
          "votesCount",
          "votesCount",
          "votesCount",
          "votesCount",
          "votesCount",
          "votesCount",
          "votesCount",
          "votesCount",
          "votesCount",
          "votesCount",
          "votesCount",
          "votesCount",
          "votesCount",
          "votesCount",
          "votesCount",
          "votesCount",
          "votesCount",
          "votesCount",
          "votesCount",
          "votesCount",
          "votesCount",
          "votesCount",
          "votesCount",
          "votesCount",
          "votesCount",
          "votesCount",
          "votesCount",
          "votesCount",
          "votesCount",
          "votesCount",
          "votesCount",
          "votesCount",
          "votesCount",
          "votesCount",
          "votesCount",
          "votesCount",
          "votesCount",
          "votesCount",
          "votesCount",
          "votesCount",
          "votesCount",
          "votesCount",
          "votesCount",
          "votesCount",
          "votesCount",
          "votesCount",
          "votesCount",
          "votesCount",
          "votesCount",
          "votesCount",
          "votesCount",
          "votesCount",
          "votesCount",
          "votesCount",
          "votesCount",
          "votesCount",
          "votesCount",
          "votesCount",
          "votesCount",
          "votesCount",
          "votesCount",
          "votesCount",
          "votesCount",
          "votesCount",
          "votesCount",
          "votesCount",
          "votesCount",
          "votesCount",
          "votesCount",
          "votesCount",
          "votesCount",
          "votesCount",
          "votesCount",
          "votesCount",
          "votesCount",
          "votesCount",
          "votesCount",
          "votesCount",
          "votesCount",
          "votesCount",
          "votesCount",
          "votesCount",
          "votesCount",
          "votesCount",
          "votesCount",
          "votesCount",
          "votesCount",
          "votesCount",
          "votesCount",
          "votesCount",
          "votesCount",
          "votesCount",
          "votesCount",
          "votesCount",
          "votesCount",
          "votesCount",
          "votesCount",
          "votesCount",
          "votesCount",
          "votesCount",
          "votesCount",
          "votesCount",
          "votesCount",
          "votesCount",
          "votesCount",
          "votesCount",
          "votesCount",
          "votesCount",
          "votesCount",
          "votesCount",
          "votesCount",
          "votesCount",
          "votesCount",
          "votesCount",
          "votesCount",
          "votesCount",
          "votesCount",
          "votesCount",
          "votesCount",
          "votesCount",
          "votesCount",
          "votesCount",
          "votesCount",
          "votesCount",
          "votesCount",
          "votesCount",
          "votesCount",
          "votesCount",
          "votesCount",
          "votesCount",
          "votesCount",
          "votesCount",
          "votesCount",
          "votesCount",
          "votesCount",
          "votesCount",
          "votesCount",
          "votesCount",
          "votesCount",
          "votesCount",
          "votesCount",
          "votesCount",
          "votesCount",
          "votesCount",
          "votesCount",
          "votesCount",
          "votesCount",
          "votesCount",
          "votesCount",
          "votesCount",
          "votesCount",
          "votesCount",
          "votesCount",
          "votesCount",
          "votesCount",
          "votesCount",
          "votesCount",
          "votesCount",
          "votesCount",
          "votesCount",
          "votesCount",
          "votesCount",
          "votesCount",
          "votesCount",
          "votesCount",
          "votesCount",
          "votesCount",
          "votesCount",
          "votesCount",
          "votesCount",
          "votesCount",
          "votesCount",
          "votesCount",
          "votesCount",
          "votesCount",
          "votesCount",
          "votesCount",
          "votesCount",
          "votesCount",
          "votesCount",
          "votesCount",
          "votesCount",
          "votesCount",
          "votesCount",
          "votesCount",
          "votesCount",
          "votesCount",
          "votesCount",
          "votesCount",
          "votesCount",
          "votesCount",
          "votesCount",
          "votesCount",
          "votesCount",
          "votesCount",
          "votesCount",
          "votesCount",
          "votesCount",
          "votesCount",
          "votesCount",
          "votesCount",
          "votesCount",
          "votesCount",
          "votesCount",
          "votesCount",
          "votesCount",
          "votesCount",
          "votesCount",
          "votesCount",
          "votesCount",
          "votesCount",
          "votesCount",
          "votesCount",
          "votesCount",
          "votesCount",
          "votesCount",
          "votesCount",
          "votesCount",
          "votesCount",
          "votesCount",
          "votesCount",
          "votesCount",
          "votesCount",
          "votesCount",
          "votesCount",
          "votesCount",
          "votesCount",
          "votesCount",
          "votesCount",
          "votesCount",
          "votesCount",
          "votesCount",
          "votesCount",
          "votesCount",
          "votesCount",
          "votesCount",
          "votesCount",
          "votesCount",
          "votesCount",
          "votesCount",
          "votesCount",
          "votesCount",
          "votesCount",
          "votesCount",
          "votesCount",
          "votesCount",
          "votesCount",
          "votesCount",
          "votesCount",
          "votesCount",
          "votesCount",
          "votesCount",
          "votesCount",
          "votesCount",
          "votesCount",
          "votesCount",
          "votesCount",
          "votesCount",
          "votesCount",
          "votesCount",
          "votesCount",
          "votesCount",
          "votesCount",
          "votesCount",
          "votesCount",
          "votesCount",
          "votesCount",
          "votesCount",
          "votesCount",
          "votesCount",
          "votesCount",
          "votesCount",
          "votesCount",
          "votesCount",
          "votesCount",
          "votesCount",
          "votesCount",
          "votesCount",
          "votesCount",
          "votesCount",
          "votesCount",
          "votesCount",
          "votesCount",
          "votesCount",
          "votesCount",
          "votesCount",
          "votesCount",
          "votesCount",
          "votesCount",
          "votesCount",
          "votesCount",
          "votesCount",
          "votesCount",
          "votesCount",
          "votesCount",
          "votesCount",
          "votesCount",
          "votesCount",
          "votesCount",
          "votesCount",
          "votesCount",
          "votesCount",
          "votesCount",
          "votesCount",
          "votesCount",
          "votesCount",
          "votesCount",
          "votesCount",
          "votesCount",
          "votesCount",
          "votesCount",
          "votesCount",
          "votesCount",
          "votesCount",
          "votesCount",
          "votesCount",
          "votesCount",
          "votesCount",
          "votesCount",
          "votesCount",
          "votesCount",
          "votesCount",
          "votesCount",
          "votesCount",
          "votesCount",
          "votesCount",
          "votesCount",
          "votesCount",
          "votesCount",
          "votesCount",
          "votesCount",
          "votesCount",
          "votesCount",
          "votesCount",
          "votesCount",
          "votesCount",
          "votesCount",
          "votesCount",
          "votesCount",
          "votesCount",
          "votesCount",
          "votesCount",
          "votesCount",
          "votesCount",
          "votesCount",
          "votesCount",
          "votesCount",
          "votesCount",
          "votesCount",
          "votesCount",
          "votesCount",
          "votesCount",
          "votesCount",
          "votesCount",
          "votesCount",
          "votesCount",
          "votesCount",
          "votesCount",
          "votesCount",
          "votesCount",
          "votesCount",
          "votesCount",
          "votesCount",
          "votesCount",
          "votesCount",
          "votesCount",
          "votesCount",
          "votesCount",
          "votesCount",
          "votesCount",
          "votesCount",
          "votesCount",
          "votesCount",
          "votesCount",
          "votesCount",
          "votesCount",
          "votesCount",
          "votesCount",
          "votesCount",
          "votesCount",
          "votesCount",
          "votesCount",
          "votesCount",
          "votesCount",
          "votesCount",
          "votesCount",
          "votesCount",
          "votesCount",
          "votesCount",
          "votesCount",
          "votesCount",
          "votesCount",
          "votesCount",
          "votesCount",
          "votesCount",
          "votesCount",
          "votesCount",
          "votesCount",
          "votesCount",
          "votesCount",
          "votesCount",
          "votesCount",
          "votesCount",
          "votesCount",
          "votesCount",
          "votesCount",
          "votesCount",
          "votesCount",
          "votesCount",
          "votesCount",
          "votesCount",
          "votesCount",
          "votesCount",
          "votesCount",
          "votesCount",
          "votesCount",
          "votesCount",
          "votesCount",
          "votesCount",
          "votesCount",
          "votesCount",
          "votesCount",
          "votesCount",
          "votesCount",
          "votesCount",
          "votesCount",
          "votesCount",
          "votesCount",
          "votesCount",
          "votesCount",
          "votesCount",
          "votesCount",
          "votesCount",
          "votesCount",
          "votesCount",
          "votesCount",
          "votesCount",
          "votesCount",
          "votesCount",
          "votesCount",
          "votesCount",
          "votesCount",
          "votesCount",
          "votesCount",
          "votesCount",
          "votesCount",
          "votesCount",
          "votesCount",
          "votesCount",
          "votesCount",
          "votesCount",
          "votesCount",
          "votesCount",
          "votesCount",
          "votesCount",
          "votesCount",
          "votesCount",
          "votesCount",
          "votesCount",
          "votesCount",
          "votesCount",
          "votesCount",
          "votesCount",
          "votesCount",
          "votesCount",
          "votesCount",
          "votesCount",
          "votesCount",
          "votesCount",
          "votesCount",
          "votesCount",
          "votesCount",
          "votesCount",
          "votesCount",
          "votesCount",
          "votesCount",
          "votesCount",
          "votesCount",
          "votesCount",
          "votesCount",
          "votesCount",
          "votesCount",
          "votesCount",
          "votesCount",
          "votesCount",
          "votesCount",
          "votesCount",
          "votesCount",
          "votesCount",
          "votesCount",
          "votesCount",
          "votesCount",
          "votesCount",
          "votesCount",
          "votesCount",
          "votesCount",
          "votesCount",
          "votesCount",
          "votesCount",
          "votesCount",
          "votesCount",
          "votesCount",
          "votesCount",
          "votesCount",
          "votesCount",
          "votesCount",
          "votesCount",
          "votesCount",
          "votesCount",
          "votesCount",
          "votesCount",
          "votesCount",
          "votesCount",
          "votesCount",
          "votesCount",
          "votesCount",
          "votesCount",
          "votesCount",
          "votesCount",
          "votesCount",
          "votesCount",
          "votesCount",
          "votesCount",
          "votesCount",
          "votesCount",
          "votesCount",
          "votesCount",
          "votesCount",
          "votesCount",
          "votesCount",
          "votesCount",
          "votesCount",
          "votesCount",
          "votesCount",
          "votesCount",
          "votesCount",
          "votesCount",
          "votesCount",
          "votesCount",
          "votesCount",
          "votesCount",
          "votesCount",
          "votesCount",
          "votesCount",
          "votesCount",
          "votesCount",
          "votesCount",
          "votesCount",
          "votesCount",
          "votesCount",
          "votesCount",
          "votesCount",
          "votesCount",
          "votesCount",
          "votesCount",
          "votesCount",
          "votesCount",
          "votesCount",
          "votesCount",
          "votesCount",
          "votesCount",
          "votesCount",
          "votesCount",
          "votesCount",
          "votesCount",
          "votesCount",
          "votesCount",
          "votesCount",
          "votesCount",
          "votesCount",
          "votesCount",
          "votesCount",
          "votesCount",
          "votesCount",
          "votesCount",
          "votesCount",
          "votesCount",
          "votesCount",
          "votesCount",
          "votesCount",
          "votesCount",
          "votesCount",
          "votesCount",
          "votesCount",
          "votesCount",
          "votesCount",
          "votesCount",
          "votesCount",
          "votesCount",
          "votesCount",
          "votesCount",
          "votesCount",
          "votesCount",
          "votesCount",
          "votesCount",
          "votesCount",
          "votesCount",
          "votesCount",
          "votesCount",
          "votesCount",
          "votesCount",
          "votesCount",
          "votesCount",
          "votesCount",
          "votesCount",
          "votesCount",
          "votesCount",
          "votesCount",
          "votesCount",
          "votesCount",
          "votesCount",
          "votesCount",
          "votesCount",
          "votesCount",
          "votesCount",
          "votesCount",
          "votesCount",
          "votesCount",
          "votesCount",
          "votesCount",
          "votesCount",
          "votesCount",
          "votesCount",
          "votesCount",
          "votesCount",
          "votesCount",
          "votesCount",
          "votesCount",
          "votesCount",
          "votesCount",
          "votesCount",
          "votesCount",
          "votesCount",
          "votesCount",
          "votesCount",
          "votesCount",
          "votesCount",
          "votesCount",
          "votesCount",
          "votesCount",
          "votesCount",
          "votesCount",
          "votesCount",
          "votesCount",
          "votesCount",
          "votesCount",
          "votesCount",
          "votesCount",
          "votesCount",
          "votesCount",
          "votesCount",
          "votesCount",
          "votesCount",
          "votesCount",
          "votesCount",
          "votesCount",
          "votesCount",
          "votesCount",
          "votesCount",
          "votesCount",
          "votesCount",
          "votesCount",
          "votesCount",
          "votesCount",
          "votesCount",
          "votesCount",
          "votesCount",
          "votesCount",
          "votesCount",
          "votesCount",
          "votesCount",
          "votesCount",
          "votesCount",
          "votesCount",
          "votesCount",
          "votesCount",
          "votesCount",
          "votesCount",
          "votesCount",
          "votesCount",
          "votesCount",
          "votesCount",
          "votesCount",
          "votesCount",
          "votesCount",
          "votesCount",
          "votesCount",
          "votesCount",
          "votesCount",
          "votesCount",
          "votesCount",
          "votesCount",
          "votesCount",
          "votesCount",
          "votesCount",
          "votesCount",
          "votesCount",
          "votesCount",
          "votesCount",
          "votesCount",
          "votesCount",
          "votesCount",
          "votesCount",
          "votesCount",
          "votesCount",
          "votesCount",
          "votesCount",
          "votesCount",
          "votesCount",
          "votesCount",
          "votesCount",
          "votesCount",
          "votesCount",
          "votesCount",
          "votesCount",
          "votesCount",
          "votesCount",
          "votesCount",
          "votesCount",
          "votesCount",
          "votesCount",
          "votesCount",
          "votesCount",
          "votesCount",
          "votesCount",
          "votesCount",
          "votesCount",
          "votesCount",
          "votesCount",
          "votesCount",
          "votesCount",
          "votesCount",
          "votesCount",
          "votesCount",
          "votesCount",
          "votesCount",
          "votesCount",
          "votesCount",
          "votesCount",
          "votesCount",
          "votesCount",
          "votesCount",
          "votesCount",
          "votesCount",
          "votesCount",
          "votesCount",
          "votesCount",
          "votesCount",
          "votesCount",
          "votesCount",
          "votesCount",
          "votesCount",
          "votesCount",
          "votesCount",
          "votesCount",
          "votesCount",
          "votesCount",
          "votesCount",
          "votesCount",
          "votesCount",
          "votesCount",
          "votesCount",
          "votesCount",
          "votesCount",
          "votesCount",
          "votesCount",
          "votesCount",
          "votesCount",
          "votesCount",
          "votesCount",
          "votesCount",
          "votesCount",
          "votesCount",
          "votesCount",
          "votesCount",
          "votesCount",
          "votesCount",
          "votesCount",
          "votesCount",
          "votesCount",
          "votesCount",
          "votesCount",
          "votesCount",
          "votesCount",
          "votesCount",
          "votesCount",
          "votesCount",
          "votesCount",
          "votesCount",
          "votesCount",
          "votesCount",
          "votesCount",
          "votesCount",
          "votesCount",
          "votesCount",
          "votesCount",
          "votesCount",
          "votesCount",
          "votesCount",
          "votesCount",
          "votesCount",
          "votesCount",
          "votesCount",
          "votesCount",
          "votesCount",
          "votesCount",
          "votesCount",
          "votesCount",
          "votesCount",
          "votesCount",
          "votesCount",
          "votesCount",
          "votesCount",
          "votesCount",
          "votesCount",
          "votesCount",
          "votesCount",
          "votesCount",
          "votesCount",
          "votesCount",
          "votesCount",
          "votesCount",
          "votesCount",
          "votesCount",
          "votesCount",
          "votesCount",
          "votesCount",
          "votesCount",
          "votesCount",
          "votesCount",
          "votesCount",
          "votesCount",
          "votesCount",
          "votesCount",
          "votesCount",
          "votesCount",
          "votesCount",
          "votesCount",
          "votesCount",
          "votesCount",
          "votesCount",
          "votesCount",
          "votesCount",
          "votesCount",
          "votesCount",
          "votesCount",
          "votesCount",
          "votesCount",
          "votesCount",
          "votesCount",
          "votesCount",
          "votesCount",
          "votesCount",
          "votesCount",
          "votesCount",
          "votesCount",
          "votesCount",
          "votesCount",
          "votesCount",
          "votesCount",
          "votesCount",
          "votesCount",
          "votesCount",
          "votesCount",
          "votesCount",
          "votesCount",
          "votesCount",
          "votesCount",
          "votesCount",
          "votesCount",
          "votesCount",
          "votesCount",
          "votesCount",
          "votesCount",
          "votesCount",
          "votesCount",
          "votesCount",
          "votesCount",
          "votesCount",
          "votesCount",
          "votesCount",
          "votesCount",
          "votesCount",
          "votesCount",
          "votesCount",
          "votesCount",
          "votesCount",
          "votesCount",
          "votesCount",
          "votesCount",
          "votesCount",
          "votesCount",
          "votesCount",
          "votesCount",
          "votesCount",
          "votesCount",
          "votesCount",
          "votesCount",
          "votesCount",
          "votesCount",
          "votesCount",
          "votesCount",
          "votesCount",
          "votesCount",
          "votesCount",
          "votesCount",
          "votesCount",
          "votesCount",
          "votesCount",
          "votesCount",
          "votesCount",
          "votesCount",
          "votesCount",
          "votesCount",
          "votesCount",
          "votesCount",
          "votesCount",
          "votesCount",
          "votesCount",
          "votesCount",
          "votesCount",
          "votesCount",
          "votesCount",
          "votesCount",
          "votesCount",
          "votesCount",
          "votesCount",
          "votesCount",
          "votesCount",
          "votesCount",
          "votesCount",
          "votesCount",
          "votesCount",
          "votesCount",
          "votesCount",
          "votesCount",
          "votesCount",
          "votesCount",
          "votesCount",
          "votesCount",
          "votesCount",
          "votesCount",
          "votesCount",
          "votesCount",
          "votesCount",
          "votesCount",
          "votesCount",
          "votesCount",
          "votesCount",
          "votesCount",
          "votesCount",
          "votesCount",
          "votesCount",
          "votesCount",
          "votesCount",
          "votesCount",
          "votesCount",
          "votesCount",
          "votesCount",
          "votesCount",
          "votesCount",
          "votesCount",
          "votesCount",
          "votesCount",
          "votesCount",
          "votesCount",
          "votesCount",
          "votesCount",
          "votesCount",
          "votesCount",
          "votesCount",
          "votesCount",
          "votesCount",
          "votesCount",
          "votesCount",
          "votesCount",
          "votesCount",
          "votesCount",
          "votesCount",
          "votesCount",
          "votesCount",
          "votesCount",
          "votesCount",
          "votesCount",
          "votesCount",
          "votesCount",
          "votesCount",
          "votesCount",
          "votesCount",
          "votesCount",
          "votesCount",
          "votesCount",
          "votesCount",
          "votesCount",
          "votesCount",
          "votesCount",
          "votesCount",
          "votesCount",
          "votesCount",
          "votesCount",
          "votesCount",
          "votesCount",
          "votesCount",
          "votesCount",
          "votesCount",
          "votesCount",
          "votesCount",
          "votesCount",
          "votesCount",
          "votesCount",
          "votesCount",
          "votesCount",
          "votesCount",
          "votesCount",
          "votesCount",
          "votesCount",
          "votesCount",
          "votesCount",
          "votesCount",
          "votesCount",
          "votesCount",
          "votesCount",
          "votesCount",
          "votesCount",
          "votesCount",
          "votesCount",
          "votesCount",
          "votesCount",
          "votesCount",
          "votesCount",
          "votesCount",
          "votesCount",
          "votesCount",
          "votesCount",
          "votesCount",
          "votesCount",
          "votesCount",
          "votesCount",
          "votesCount",
          "votesCount",
          "votesCount",
          "votesCount",
          "votesCount",
          "votesCount",
          "votesCount",
          "votesCount",
          "votesCount",
          "votesCount",
          "votesCount",
          "votesCount",
          "votesCount",
          "votesCount",
          "votesCount",
          "votesCount",
          "votesCount",
          "votesCount",
          "votesCount",
          "votesCount",
          "votesCount",
          "votesCount",
          "votesCount",
          "votesCount",
          "votesCount",
          "votesCount",
          "votesCount",
          "votesCount",
          "votesCount",
          "votesCount",
          "votesCount",
          "votesCount",
          "votesCount",
          "votesCount",
          "votesCount",
          "votesCount",
          "votesCount",
          "votesCount",
          "votesCount",
          "votesCount",
          "votesCount",
          "votesCount",
          "votesCount",
          "votesCount",
          "votesCount",
          "votesCount",
          "votesCount",
          "votesCount",
          "votesCount",
          "votesCount",
          "votesCount",
          "votesCount",
          "votesCount",
          "votesCount",
          "votesCount",
          "votesCount",
          "votesCount",
          "votesCount",
          "votesCount",
          "votesCount",
          "votesCount",
          "votesCount",
          "votesCount",
          "votesCount",
          "votesCount",
          "votesCount",
          "votesCount",
          "votesCount",
          "votesCount",
          "votesCount",
          "votesCount",
          "votesCount",
          "votesCount",
          "votesCount",
          "votesCount",
          "votesCount",
          "votesCount",
          "votesCount",
          "votesCount",
          "votesCount",
          "votesCount",
          "votesCount",
          "votesCount",
          "votesCount",
          "votesCount",
          "votesCount",
          "votesCount",
          "votesCount",
          "votesCount",
          "votesCount",
          "votesCount",
          "votesCount",
          "votesCount",
          "votesCount",
          "votesCount",
          "votesCount",
          "votesCount",
          "votesCount",
          "votesCount",
          "votesCount",
          "votesCount",
          "votesCount",
          "votesCount",
          "votesCount",
          "votesCount",
          "votesCount",
          "votesCount",
          "votesCount",
          "votesCount",
          "votesCount",
          "votesCount",
          "votesCount",
          "votesCount",
          "votesCount",
          "votesCount",
          "votesCount",
          "votesCount",
          "votesCount",
          "votesCount",
          "votesCount",
          "votesCount",
          "votesCount",
          "votesCount",
          "votesCount",
          "votesCount",
          "votesCount",
          "votesCount",
          "votesCount",
          "votesCount",
          "votesCount",
          "votesCount",
          "votesCount",
          "votesCount",
          "votesCount",
          "votesCount",
          "votesCount",
          "votesCount",
          "votesCount",
          "votesCount",
          "votesCount",
          "votesCount",
          "votesCount",
          "votesCount",
          "votesCount",
          "votesCount",
          "votesCount",
          "votesCount",
          "votesCount",
          "votesCount",
          "votesCount",
          "votesCount",
          "votesCount",
          "votesCount",
          "votesCount",
          "votesCount",
          "votesCount",
          "votesCount",
          "votesCount",
          "votesCount",
          "votesCount",
          "votesCount",
          "votesCount",
          "votesCount",
          "votesCount",
          "votesCount",
          "votesCount",
          "votesCount",
          "votesCount",
          "votesCount",
          "votesCount",
          "votesCount",
          "votesCount",
          "votesCount",
          "votesCount",
          "votesCount",
          "votesCount",
          "votesCount",
          "votesCount",
          "votesCount",
          "votesCount",
          "votesCount",
          "votesCount",
          "votesCount",
          "votesCount",
          "votesCount",
          "votesCount",
          "votesCount",
          "votesCount",
          "votesCount",
          "votesCount",
          "votesCount",
          "votesCount",
          "votesCount",
          "votesCount",
          "votesCount",
          "votesCount",
          "votesCount",
          "votesCount",
          "votesCount",
          "votesCount",
          "votesCount",
          "votesCount",
          "votesCount",
          "votesCount",
          "votesCount",
          "votesCount",
          "votesCount",
          "votesCount",
          "votesCount",
          "votesCount",
          "votesCount",
          "votesCount",
          "votesCount",
          "votesCount",
          "votesCount",
          "votesCount",
          "votesCount",
          "votesCount",
          "votesCount",
          "votesCount",
          "votesCount",
          "votesCount",
          "votesCount",
          "votesCount",
          "votesCount",
          "votesCount",
          "votesCount",
          "votesCount",
          "votesCount",
          "votesCount",
          "votesCount",
          "votesCount",
          "votesCount",
          "votesCount",
          "votesCount",
          "votesCount",
          "votesCount",
          "votesCount",
          "votesCount",
          "votesCount",
          "votesCount",
          "votesCount",
          "votesCount",
          "votesCount",
          "votesCount",
          "votesCount",
          "votesCount",
          "votesCount",
          "votesCount",
          "votesCount",
          "votesCount",
          "votesCount",
          "votesCount",
          "votesCount",
          "votesCount",
          "votesCount",
          "votesCount",
          "votesCount",
          "votesCount",
          "votesCount",
          "votesCount",
          "votesCount",
          "votesCount",
          "votesCount",
          "votesCount",
          "votesCount",
          "votesCount",
          "votesCount",
          "votesCount",
          "votesCount",
          "votesCount",
          "votesCount",
          "votesCount",
          "votesCount",
          "votesCount",
          "votesCount",
          "votesCount",
          "votesCount",
          "votesCount",
          "votesCount",
          "votesCount",
          "votesCount",
          "votesCount",
          "votesCount",
          "votesCount",
          "votesCount",
          "votesCount",
          "votesCount",
          "votesCount",
          "votesCount",
          "votesCount",
          "votesCount",
          "votesCount",
          "votesCount",
          "votesCount",
          "votesCount",
          "votesCount",
          "votesCount",
          "votesCount",
          "votesCount",
          "votesCount",
          "votesCount",
          "votesCount",
          "votesCount",
          "votesCount",
          "votesCount",
          "votesCount",
          "votesCount",
          "votesCount",
          "votesCount",
          "votesCount",
          "votesCount",
          "votesCount",
          "votesCount",
          "votesCount",
          "votesCount",
          "votesCount",
          "votesCount",
          "votesCount",
          "votesCount",
          "votesCount",
          "votesCount",
          "votesCount",
          "votesCount",
          "votesCount",
          "votesCount",
          "votesCount",
          "votesCount",
          "votesCount",
          "votesCount",
          "votesCount",
          "votesCount",
          "votesCount",
          "votesCount",
          "votesCount",
          "votesCount",
          "votesCount",
          "votesCount",
          "votesCount",
          "votesCount",
          "votesCount",
          "votesCount",
          "votesCount",
          "votesCount",
          "votesCount",
          "votesCount",
          "votesCount",
          "votesCount",
          "votesCount",
          "votesCount",
          "votesCount",
          "votesCount",
          "votesCount",
          "votesCount",
          "votesCount",
          "votesCount",
          "votesCount",
          "votesCount",
          "votesCount",
          "votesCount",
          "votesCount",
          "votesCount",
          "votesCount",
          "votesCount",
          "votesCount",
          "votesCount",
          "votesCount",
          "votesCount",
          "votesCount",
          "votesCount",
          "votesCount",
          "votesCount",
          "votesCount",
          "votesCount",
          "votesCount",
          "votesCount",
          "votesCount",
          "votesCount",
          "votesCount",
          "votesCount",
          "votesCount",
          "votesCount",
          "votesCount",
          "votesCount",
          "votesCount",
          "votesCount",
          "votesCount",
          "votesCount",
          "votesCount",
          "votesCount",
          "votesCount",
          "votesCount",
          "votesCount"
         ],
         "x0": " ",
         "xaxis": "x",
         "y": [
          691,
          545,
          358,
          292,
          278,
          266,
          216,
          180,
          174,
          167,
          157,
          156,
          152,
          137,
          133,
          133,
          127,
          121,
          121,
          111,
          96,
          94,
          91,
          88,
          86,
          83,
          81,
          76,
          65,
          60,
          59,
          50,
          46,
          44,
          40,
          38,
          36,
          32,
          31,
          28,
          25,
          25,
          23,
          22,
          22,
          21,
          20,
          20,
          20,
          20,
          19,
          18,
          17,
          17,
          17,
          16,
          16,
          16,
          15,
          15,
          7399,
          816,
          453,
          406,
          299,
          276,
          204,
          205,
          188,
          159,
          148,
          148,
          140,
          118,
          117,
          115,
          104,
          93,
          92,
          81,
          79,
          69,
          65,
          54,
          36,
          34,
          34,
          32,
          28,
          27,
          26,
          24,
          23,
          18,
          17,
          17,
          15,
          14,
          14,
          14,
          13,
          12,
          12,
          12,
          11,
          11,
          11,
          11,
          10,
          10,
          10,
          10,
          10,
          10,
          10,
          10,
          10,
          10,
          9,
          9,
          1068,
          472,
          382,
          305,
          273,
          199,
          172,
          125,
          117,
          112,
          111,
          110,
          103,
          98,
          96,
          92,
          88,
          87,
          80,
          69,
          65,
          62,
          42,
          38,
          28,
          26,
          26,
          24,
          20,
          19,
          18,
          15,
          15,
          13,
          13,
          13,
          12,
          11,
          10,
          10,
          9,
          9,
          8,
          8,
          8,
          8,
          8,
          8,
          7,
          7,
          7,
          7,
          7,
          7,
          7,
          7,
          7,
          7,
          7,
          7,
          469,
          459,
          374,
          284,
          236,
          149,
          146,
          130,
          125,
          114,
          98,
          84,
          27,
          27,
          26,
          24,
          20,
          17,
          16,
          16,
          15,
          15,
          15,
          14,
          14,
          13,
          12,
          12,
          11,
          11,
          11,
          11,
          11,
          10,
          10,
          10,
          10,
          10,
          9,
          9,
          9,
          9,
          8,
          8,
          8,
          8,
          8,
          8,
          8,
          8,
          7,
          7,
          7,
          7,
          7,
          7,
          7,
          7,
          6,
          6,
          971,
          470,
          442,
          364,
          354,
          239,
          206,
          202,
          195,
          179,
          215,
          170,
          148,
          148,
          131,
          129,
          123,
          112,
          107,
          105,
          101,
          98,
          84,
          82,
          81,
          81,
          75,
          74,
          74,
          69,
          68,
          64,
          63,
          61,
          45,
          45,
          44,
          42,
          37,
          36,
          36,
          33,
          31,
          24,
          23,
          21,
          20,
          20,
          18,
          17,
          14,
          13,
          10,
          10,
          8,
          8,
          7,
          7,
          7,
          7,
          2787,
          1405,
          1308,
          1227,
          651,
          421,
          283,
          267,
          256,
          236,
          173,
          171,
          172,
          147,
          140,
          138,
          134,
          127,
          124,
          116,
          89,
          87,
          87,
          83,
          74,
          70,
          68,
          68,
          67,
          67,
          67,
          66,
          65,
          65,
          63,
          62,
          60,
          60,
          58,
          57,
          55,
          54,
          51,
          50,
          46,
          40,
          33,
          24,
          23,
          23,
          21,
          19,
          14,
          13,
          13,
          13,
          11,
          11,
          10,
          10,
          1483,
          694,
          580,
          453,
          402,
          383,
          259,
          246,
          208,
          207,
          201,
          198,
          178,
          142,
          140,
          139,
          115,
          106,
          105,
          97,
          96,
          95,
          91,
          89,
          89,
          89,
          83,
          83,
          82,
          82,
          74,
          73,
          69,
          66,
          66,
          65,
          61,
          61,
          58,
          58,
          55,
          43,
          41,
          35,
          23,
          21,
          20,
          19,
          18,
          16,
          16,
          13,
          12,
          11,
          9,
          9,
          8,
          8,
          8,
          7,
          845,
          707,
          574,
          460,
          391,
          272,
          245,
          184,
          169,
          163,
          146,
          144,
          133,
          131,
          129,
          122,
          119,
          102,
          102,
          97,
          91,
          90,
          89,
          88,
          88,
          84,
          82,
          82,
          79,
          74,
          71,
          66,
          66,
          66,
          66,
          45,
          42,
          40,
          35,
          29,
          29,
          28,
          27,
          24,
          22,
          22,
          21,
          20,
          20,
          18,
          18,
          18,
          17,
          17,
          17,
          16,
          16,
          15,
          15,
          13,
          930,
          465,
          419,
          405,
          368,
          452,
          211,
          187,
          173,
          170,
          161,
          138,
          138,
          130,
          124,
          119,
          113,
          42,
          37,
          33,
          28,
          26,
          25,
          23,
          22,
          22,
          21,
          20,
          18,
          18,
          16,
          15,
          15,
          14,
          13,
          13,
          12,
          11,
          11,
          11,
          11,
          10,
          10,
          10,
          10,
          10,
          10,
          10,
          10,
          10,
          9,
          9,
          9,
          9,
          9,
          9,
          9,
          9,
          9,
          9,
          690,
          504,
          423,
          303,
          265,
          186,
          147,
          139,
          132,
          121,
          100,
          98,
          96,
          92,
          89,
          86,
          68,
          59,
          51,
          38,
          33,
          29,
          12,
          11,
          10,
          10,
          10,
          10,
          10,
          10,
          9,
          9,
          9,
          8,
          8,
          8,
          8,
          7,
          7,
          7,
          7,
          7,
          6,
          6,
          6,
          6,
          6,
          6,
          6,
          6,
          5,
          5,
          4,
          4,
          4,
          4,
          4,
          4,
          4,
          4,
          755,
          533,
          474,
          429,
          306,
          246,
          227,
          186,
          147,
          129,
          40,
          37,
          29,
          22,
          21,
          16,
          15,
          15,
          13,
          13,
          12,
          12,
          12,
          12,
          12,
          11,
          11,
          11,
          11,
          11,
          11,
          11,
          10,
          10,
          10,
          10,
          10,
          10,
          10,
          9,
          9,
          9,
          9,
          9,
          9,
          9,
          8,
          8,
          8,
          8,
          8,
          8,
          8,
          8,
          8,
          8,
          7,
          7,
          7,
          7,
          1206,
          649,
          481,
          432,
          353,
          306,
          276,
          170,
          166,
          155,
          134,
          121,
          116,
          112,
          105,
          99,
          84,
          77,
          68,
          67,
          54,
          46,
          45,
          40,
          34,
          33,
          32,
          29,
          26,
          26,
          26,
          25,
          23,
          22,
          20,
          19,
          19,
          18,
          18,
          18,
          16,
          14,
          14,
          14,
          14,
          13,
          13,
          13,
          13,
          13,
          13,
          13,
          12,
          12,
          12,
          11,
          11,
          11,
          11,
          10,
          853,
          995,
          660,
          512,
          500,
          318,
          266,
          261,
          252,
          245,
          233,
          177,
          160,
          146,
          121,
          118,
          112,
          109,
          100,
          98,
          98,
          98,
          97,
          97,
          94,
          88,
          85,
          82,
          80,
          77,
          73,
          72,
          70,
          66,
          61,
          59,
          51,
          45,
          36,
          30,
          30,
          29,
          28,
          28,
          27,
          25,
          24,
          23,
          22,
          21,
          19,
          18,
          17,
          17,
          15,
          14,
          14,
          14,
          14,
          14,
          823,
          655,
          576,
          371,
          291,
          231,
          287,
          156,
          155,
          139,
          127,
          124,
          117,
          112,
          93,
          73,
          58,
          52,
          47,
          39,
          35,
          33,
          31,
          26,
          25,
          25,
          24,
          22,
          21,
          21,
          20,
          20,
          20,
          19,
          18,
          18,
          16,
          16,
          15,
          14,
          14,
          14,
          13,
          13,
          13,
          13,
          12,
          12,
          12,
          11,
          11,
          11,
          11,
          10,
          10,
          10,
          10,
          10,
          9,
          9,
          842,
          724,
          514,
          494,
          386,
          320,
          255,
          234,
          197,
          180,
          159,
          159,
          157,
          150,
          146,
          132,
          126,
          116,
          116,
          115,
          115,
          107,
          93,
          88,
          81,
          76,
          73,
          67,
          63,
          54,
          53,
          46,
          40,
          36,
          35,
          35,
          26,
          24,
          23,
          22,
          22,
          21,
          20,
          20,
          18,
          17,
          16,
          16,
          15,
          15,
          14,
          14,
          14,
          13,
          13,
          13,
          13,
          13,
          12,
          12,
          1011,
          929,
          574,
          398,
          331,
          284,
          201,
          188,
          180,
          169,
          151,
          121,
          109,
          74,
          66,
          51,
          49,
          41,
          41,
          39,
          31,
          23,
          22,
          19,
          17,
          17,
          16,
          15,
          15,
          15,
          14,
          14,
          13,
          12,
          12,
          12,
          12,
          11,
          11,
          11,
          11,
          11,
          11,
          11,
          11,
          10,
          10,
          10,
          10,
          10,
          10,
          10,
          10,
          10,
          10,
          10,
          10,
          9,
          9,
          9,
          1019,
          882,
          638,
          439,
          325,
          135,
          134,
          114,
          106,
          105,
          99,
          91,
          83,
          63,
          48,
          47,
          34,
          29,
          25,
          23,
          23,
          21,
          18,
          17,
          16,
          15,
          15,
          15,
          14,
          14,
          14,
          13,
          13,
          13,
          13,
          12,
          12,
          11,
          11,
          11,
          11,
          11,
          10,
          10,
          10,
          10,
          10,
          9,
          9,
          9,
          9,
          9,
          9,
          9,
          9,
          9,
          9,
          8,
          8,
          8,
          947,
          583,
          317,
          268,
          220,
          164,
          163,
          148,
          125,
          123,
          113,
          111,
          69,
          26,
          23,
          23,
          22,
          21,
          20,
          20,
          20,
          19,
          18,
          18,
          17,
          17,
          17,
          17,
          16,
          16,
          15,
          15,
          14,
          14,
          14,
          14,
          14,
          14,
          14,
          14,
          14,
          14,
          14,
          14,
          14,
          13,
          13,
          13,
          13,
          12,
          12,
          12,
          12,
          11,
          11,
          11,
          11,
          11,
          11,
          10,
          892,
          826,
          617,
          565,
          547,
          388,
          376,
          356,
          305,
          199,
          196,
          190,
          183,
          162,
          162,
          140,
          136,
          128,
          127,
          126,
          125,
          123,
          112,
          103,
          96,
          80,
          78,
          74,
          70,
          69,
          64,
          62,
          56,
          54,
          50,
          49,
          36,
          36,
          32,
          30,
          26,
          24,
          24,
          23,
          21,
          20,
          20,
          18,
          18,
          17,
          15,
          15,
          15,
          15,
          15,
          15,
          15,
          14,
          14,
          13,
          1088,
          671,
          797,
          637,
          451,
          446,
          488,
          307,
          277,
          276,
          275,
          260,
          214,
          170,
          170,
          169,
          164,
          153,
          146,
          143,
          126,
          121,
          117,
          116,
          114,
          112,
          100,
          98,
          91,
          87,
          87,
          84,
          84,
          79,
          79,
          78,
          78,
          78,
          77,
          74,
          70,
          69,
          58,
          57,
          52,
          51,
          50,
          50,
          48,
          47,
          40,
          32,
          27,
          26,
          26,
          25,
          25,
          21,
          21,
          20,
          1227,
          510,
          421,
          355,
          317,
          308,
          273,
          218,
          214,
          173,
          172,
          169,
          151,
          148,
          139,
          133,
          120,
          92,
          91,
          85,
          83,
          81,
          72,
          60,
          57,
          52,
          51,
          42,
          35,
          33,
          32,
          32,
          30,
          27,
          23,
          23,
          19,
          18,
          18,
          17,
          16,
          16,
          15,
          15,
          14,
          14,
          14,
          14,
          14,
          14,
          13,
          13,
          13,
          12,
          12,
          12,
          12,
          12,
          12,
          12,
          1059,
          903,
          761,
          456,
          361,
          281,
          302,
          254,
          253,
          237,
          228,
          199,
          184,
          165,
          142,
          133,
          128,
          128,
          124,
          117,
          108,
          103,
          103,
          98,
          91,
          79,
          78,
          46,
          44,
          34,
          30,
          28,
          28,
          28,
          26,
          24,
          24,
          23,
          22,
          21,
          21,
          21,
          21,
          20,
          20,
          19,
          19,
          19,
          18,
          18,
          17,
          17,
          17,
          16,
          16,
          16,
          16,
          16,
          16,
          16,
          790,
          548,
          354,
          288,
          244,
          228,
          199,
          198,
          184,
          177,
          168,
          162,
          162,
          158,
          152,
          144,
          138,
          125,
          119,
          110,
          103,
          102,
          55,
          45,
          41,
          41,
          40,
          35,
          23,
          22,
          22,
          22,
          22,
          22,
          21,
          21,
          21,
          20,
          20,
          19,
          19,
          18,
          18,
          17,
          17,
          17,
          17,
          16,
          16,
          16,
          16,
          15,
          15,
          15,
          15,
          15,
          15,
          15,
          15,
          15,
          447,
          442,
          300,
          270,
          226,
          178,
          166,
          132,
          118,
          117,
          112,
          110,
          109,
          107,
          64,
          53,
          43,
          32,
          31,
          30,
          29,
          29,
          28,
          27,
          23,
          23,
          22,
          22,
          22,
          21,
          21,
          20,
          19,
          19,
          18,
          18,
          18,
          18,
          17,
          17,
          17,
          17,
          17,
          17,
          17,
          16,
          16,
          16,
          15,
          15,
          15,
          14,
          14,
          14,
          13,
          13,
          12,
          12,
          12,
          12,
          693,
          407,
          398,
          307,
          235,
          154,
          153,
          137,
          127,
          126,
          117,
          113,
          105,
          104,
          102,
          97,
          96,
          71,
          68,
          43,
          39,
          35,
          32,
          31,
          31,
          29,
          29,
          27,
          23,
          23,
          23,
          23,
          23,
          23,
          22,
          22,
          22,
          20,
          20,
          19,
          19,
          18,
          17,
          17,
          17,
          17,
          17,
          17,
          16,
          16,
          16,
          16,
          15,
          15,
          15,
          14,
          14,
          14,
          14,
          14,
          1425,
          1222,
          601,
          468,
          342,
          307,
          257,
          237,
          174,
          172,
          168,
          150,
          147,
          137,
          137,
          137,
          134,
          113,
          107,
          101,
          100,
          95,
          91,
          86,
          84,
          83,
          80,
          76,
          74,
          68,
          67,
          54,
          48,
          32,
          32,
          32,
          28,
          27,
          27,
          25,
          24,
          24,
          24,
          22,
          22,
          20,
          20,
          20,
          19,
          19,
          18,
          18,
          18,
          18,
          17,
          17,
          16,
          16,
          16,
          16,
          1624,
          648,
          618,
          434,
          408,
          357,
          341,
          288,
          268,
          228,
          214,
          190,
          184,
          181,
          162,
          157,
          153,
          135,
          124,
          124,
          121,
          114,
          105,
          104,
          101,
          101,
          91,
          88,
          88,
          84,
          84,
          81,
          80,
          80,
          80,
          77,
          70,
          60,
          59,
          57,
          51,
          49,
          45,
          41,
          40,
          35,
          31,
          27,
          26,
          26,
          25,
          25,
          25,
          22,
          21,
          20,
          19,
          19,
          19,
          18,
          1001,
          914,
          652,
          646,
          354,
          316,
          283,
          239,
          204,
          202,
          184,
          180,
          169,
          154,
          150,
          142,
          131,
          126,
          125,
          123,
          115,
          101,
          84,
          83,
          73,
          72,
          68,
          67,
          64,
          60,
          59,
          44,
          40,
          38,
          37,
          33,
          31,
          31,
          28,
          28,
          28,
          27,
          26,
          23,
          23,
          21,
          20,
          20,
          20,
          20,
          20,
          20,
          20,
          20,
          19,
          19,
          19,
          19,
          19,
          19,
          999,
          971,
          623,
          474,
          413,
          251,
          239,
          221,
          219,
          216,
          184,
          180,
          180,
          159,
          151,
          149,
          145,
          140,
          130,
          123,
          112,
          105,
          90,
          81,
          81,
          79,
          76,
          72,
          66,
          65,
          61,
          56,
          54,
          54,
          50,
          48,
          48,
          43,
          32,
          31,
          29,
          26,
          25,
          24,
          24,
          23,
          23,
          20,
          19,
          18,
          18,
          17,
          17,
          17,
          17,
          16,
          16,
          16,
          15,
          15,
          702,
          582,
          419,
          349,
          311,
          256,
          202,
          200,
          182,
          181,
          178,
          172,
          159,
          145,
          90,
          84,
          64,
          61,
          41,
          37,
          35,
          34,
          34,
          33,
          29,
          28,
          28,
          25,
          25,
          24,
          23,
          21,
          21,
          21,
          20,
          20,
          20,
          19,
          19,
          18,
          18,
          18,
          17,
          17,
          17,
          17,
          16,
          15,
          15,
          15,
          15,
          14,
          14,
          14,
          14,
          14,
          13,
          13,
          13,
          13,
          605,
          367,
          353,
          247,
          200,
          155,
          152,
          136,
          133,
          130,
          116,
          98,
          74,
          52,
          48,
          46,
          34,
          20,
          18,
          18,
          17,
          17,
          17,
          15,
          14,
          14,
          14,
          13,
          13,
          12,
          12,
          12,
          12,
          11,
          11,
          11,
          11,
          11,
          11,
          11,
          10,
          10,
          10,
          10,
          10,
          9,
          9,
          9,
          9,
          9,
          9,
          9,
          9,
          9,
          9,
          8,
          8,
          8,
          8,
          8
         ],
         "y0": " ",
         "yaxis": "y"
        }
       ],
       "layout": {
        "boxmode": "group",
        "legend": {
         "tracegroupgap": 0
        },
        "margin": {
         "t": 60
        },
        "template": {
         "data": {
          "bar": [
           {
            "error_x": {
             "color": "#2a3f5f"
            },
            "error_y": {
             "color": "#2a3f5f"
            },
            "marker": {
             "line": {
              "color": "#E5ECF6",
              "width": 0.5
             },
             "pattern": {
              "fillmode": "overlay",
              "size": 10,
              "solidity": 0.2
             }
            },
            "type": "bar"
           }
          ],
          "barpolar": [
           {
            "marker": {
             "line": {
              "color": "#E5ECF6",
              "width": 0.5
             },
             "pattern": {
              "fillmode": "overlay",
              "size": 10,
              "solidity": 0.2
             }
            },
            "type": "barpolar"
           }
          ],
          "carpet": [
           {
            "aaxis": {
             "endlinecolor": "#2a3f5f",
             "gridcolor": "white",
             "linecolor": "white",
             "minorgridcolor": "white",
             "startlinecolor": "#2a3f5f"
            },
            "baxis": {
             "endlinecolor": "#2a3f5f",
             "gridcolor": "white",
             "linecolor": "white",
             "minorgridcolor": "white",
             "startlinecolor": "#2a3f5f"
            },
            "type": "carpet"
           }
          ],
          "choropleth": [
           {
            "colorbar": {
             "outlinewidth": 0,
             "ticks": ""
            },
            "type": "choropleth"
           }
          ],
          "contour": [
           {
            "colorbar": {
             "outlinewidth": 0,
             "ticks": ""
            },
            "colorscale": [
             [
              0,
              "#0d0887"
             ],
             [
              0.1111111111111111,
              "#46039f"
             ],
             [
              0.2222222222222222,
              "#7201a8"
             ],
             [
              0.3333333333333333,
              "#9c179e"
             ],
             [
              0.4444444444444444,
              "#bd3786"
             ],
             [
              0.5555555555555556,
              "#d8576b"
             ],
             [
              0.6666666666666666,
              "#ed7953"
             ],
             [
              0.7777777777777778,
              "#fb9f3a"
             ],
             [
              0.8888888888888888,
              "#fdca26"
             ],
             [
              1,
              "#f0f921"
             ]
            ],
            "type": "contour"
           }
          ],
          "contourcarpet": [
           {
            "colorbar": {
             "outlinewidth": 0,
             "ticks": ""
            },
            "type": "contourcarpet"
           }
          ],
          "heatmap": [
           {
            "colorbar": {
             "outlinewidth": 0,
             "ticks": ""
            },
            "colorscale": [
             [
              0,
              "#0d0887"
             ],
             [
              0.1111111111111111,
              "#46039f"
             ],
             [
              0.2222222222222222,
              "#7201a8"
             ],
             [
              0.3333333333333333,
              "#9c179e"
             ],
             [
              0.4444444444444444,
              "#bd3786"
             ],
             [
              0.5555555555555556,
              "#d8576b"
             ],
             [
              0.6666666666666666,
              "#ed7953"
             ],
             [
              0.7777777777777778,
              "#fb9f3a"
             ],
             [
              0.8888888888888888,
              "#fdca26"
             ],
             [
              1,
              "#f0f921"
             ]
            ],
            "type": "heatmap"
           }
          ],
          "heatmapgl": [
           {
            "colorbar": {
             "outlinewidth": 0,
             "ticks": ""
            },
            "colorscale": [
             [
              0,
              "#0d0887"
             ],
             [
              0.1111111111111111,
              "#46039f"
             ],
             [
              0.2222222222222222,
              "#7201a8"
             ],
             [
              0.3333333333333333,
              "#9c179e"
             ],
             [
              0.4444444444444444,
              "#bd3786"
             ],
             [
              0.5555555555555556,
              "#d8576b"
             ],
             [
              0.6666666666666666,
              "#ed7953"
             ],
             [
              0.7777777777777778,
              "#fb9f3a"
             ],
             [
              0.8888888888888888,
              "#fdca26"
             ],
             [
              1,
              "#f0f921"
             ]
            ],
            "type": "heatmapgl"
           }
          ],
          "histogram": [
           {
            "marker": {
             "pattern": {
              "fillmode": "overlay",
              "size": 10,
              "solidity": 0.2
             }
            },
            "type": "histogram"
           }
          ],
          "histogram2d": [
           {
            "colorbar": {
             "outlinewidth": 0,
             "ticks": ""
            },
            "colorscale": [
             [
              0,
              "#0d0887"
             ],
             [
              0.1111111111111111,
              "#46039f"
             ],
             [
              0.2222222222222222,
              "#7201a8"
             ],
             [
              0.3333333333333333,
              "#9c179e"
             ],
             [
              0.4444444444444444,
              "#bd3786"
             ],
             [
              0.5555555555555556,
              "#d8576b"
             ],
             [
              0.6666666666666666,
              "#ed7953"
             ],
             [
              0.7777777777777778,
              "#fb9f3a"
             ],
             [
              0.8888888888888888,
              "#fdca26"
             ],
             [
              1,
              "#f0f921"
             ]
            ],
            "type": "histogram2d"
           }
          ],
          "histogram2dcontour": [
           {
            "colorbar": {
             "outlinewidth": 0,
             "ticks": ""
            },
            "colorscale": [
             [
              0,
              "#0d0887"
             ],
             [
              0.1111111111111111,
              "#46039f"
             ],
             [
              0.2222222222222222,
              "#7201a8"
             ],
             [
              0.3333333333333333,
              "#9c179e"
             ],
             [
              0.4444444444444444,
              "#bd3786"
             ],
             [
              0.5555555555555556,
              "#d8576b"
             ],
             [
              0.6666666666666666,
              "#ed7953"
             ],
             [
              0.7777777777777778,
              "#fb9f3a"
             ],
             [
              0.8888888888888888,
              "#fdca26"
             ],
             [
              1,
              "#f0f921"
             ]
            ],
            "type": "histogram2dcontour"
           }
          ],
          "mesh3d": [
           {
            "colorbar": {
             "outlinewidth": 0,
             "ticks": ""
            },
            "type": "mesh3d"
           }
          ],
          "parcoords": [
           {
            "line": {
             "colorbar": {
              "outlinewidth": 0,
              "ticks": ""
             }
            },
            "type": "parcoords"
           }
          ],
          "pie": [
           {
            "automargin": true,
            "type": "pie"
           }
          ],
          "scatter": [
           {
            "fillpattern": {
             "fillmode": "overlay",
             "size": 10,
             "solidity": 0.2
            },
            "type": "scatter"
           }
          ],
          "scatter3d": [
           {
            "line": {
             "colorbar": {
              "outlinewidth": 0,
              "ticks": ""
             }
            },
            "marker": {
             "colorbar": {
              "outlinewidth": 0,
              "ticks": ""
             }
            },
            "type": "scatter3d"
           }
          ],
          "scattercarpet": [
           {
            "marker": {
             "colorbar": {
              "outlinewidth": 0,
              "ticks": ""
             }
            },
            "type": "scattercarpet"
           }
          ],
          "scattergeo": [
           {
            "marker": {
             "colorbar": {
              "outlinewidth": 0,
              "ticks": ""
             }
            },
            "type": "scattergeo"
           }
          ],
          "scattergl": [
           {
            "marker": {
             "colorbar": {
              "outlinewidth": 0,
              "ticks": ""
             }
            },
            "type": "scattergl"
           }
          ],
          "scattermapbox": [
           {
            "marker": {
             "colorbar": {
              "outlinewidth": 0,
              "ticks": ""
             }
            },
            "type": "scattermapbox"
           }
          ],
          "scatterpolar": [
           {
            "marker": {
             "colorbar": {
              "outlinewidth": 0,
              "ticks": ""
             }
            },
            "type": "scatterpolar"
           }
          ],
          "scatterpolargl": [
           {
            "marker": {
             "colorbar": {
              "outlinewidth": 0,
              "ticks": ""
             }
            },
            "type": "scatterpolargl"
           }
          ],
          "scatterternary": [
           {
            "marker": {
             "colorbar": {
              "outlinewidth": 0,
              "ticks": ""
             }
            },
            "type": "scatterternary"
           }
          ],
          "surface": [
           {
            "colorbar": {
             "outlinewidth": 0,
             "ticks": ""
            },
            "colorscale": [
             [
              0,
              "#0d0887"
             ],
             [
              0.1111111111111111,
              "#46039f"
             ],
             [
              0.2222222222222222,
              "#7201a8"
             ],
             [
              0.3333333333333333,
              "#9c179e"
             ],
             [
              0.4444444444444444,
              "#bd3786"
             ],
             [
              0.5555555555555556,
              "#d8576b"
             ],
             [
              0.6666666666666666,
              "#ed7953"
             ],
             [
              0.7777777777777778,
              "#fb9f3a"
             ],
             [
              0.8888888888888888,
              "#fdca26"
             ],
             [
              1,
              "#f0f921"
             ]
            ],
            "type": "surface"
           }
          ],
          "table": [
           {
            "cells": {
             "fill": {
              "color": "#EBF0F8"
             },
             "line": {
              "color": "white"
             }
            },
            "header": {
             "fill": {
              "color": "#C8D4E3"
             },
             "line": {
              "color": "white"
             }
            },
            "type": "table"
           }
          ]
         },
         "layout": {
          "annotationdefaults": {
           "arrowcolor": "#2a3f5f",
           "arrowhead": 0,
           "arrowwidth": 1
          },
          "autotypenumbers": "strict",
          "coloraxis": {
           "colorbar": {
            "outlinewidth": 0,
            "ticks": ""
           }
          },
          "colorscale": {
           "diverging": [
            [
             0,
             "#8e0152"
            ],
            [
             0.1,
             "#c51b7d"
            ],
            [
             0.2,
             "#de77ae"
            ],
            [
             0.3,
             "#f1b6da"
            ],
            [
             0.4,
             "#fde0ef"
            ],
            [
             0.5,
             "#f7f7f7"
            ],
            [
             0.6,
             "#e6f5d0"
            ],
            [
             0.7,
             "#b8e186"
            ],
            [
             0.8,
             "#7fbc41"
            ],
            [
             0.9,
             "#4d9221"
            ],
            [
             1,
             "#276419"
            ]
           ],
           "sequential": [
            [
             0,
             "#0d0887"
            ],
            [
             0.1111111111111111,
             "#46039f"
            ],
            [
             0.2222222222222222,
             "#7201a8"
            ],
            [
             0.3333333333333333,
             "#9c179e"
            ],
            [
             0.4444444444444444,
             "#bd3786"
            ],
            [
             0.5555555555555556,
             "#d8576b"
            ],
            [
             0.6666666666666666,
             "#ed7953"
            ],
            [
             0.7777777777777778,
             "#fb9f3a"
            ],
            [
             0.8888888888888888,
             "#fdca26"
            ],
            [
             1,
             "#f0f921"
            ]
           ],
           "sequentialminus": [
            [
             0,
             "#0d0887"
            ],
            [
             0.1111111111111111,
             "#46039f"
            ],
            [
             0.2222222222222222,
             "#7201a8"
            ],
            [
             0.3333333333333333,
             "#9c179e"
            ],
            [
             0.4444444444444444,
             "#bd3786"
            ],
            [
             0.5555555555555556,
             "#d8576b"
            ],
            [
             0.6666666666666666,
             "#ed7953"
            ],
            [
             0.7777777777777778,
             "#fb9f3a"
            ],
            [
             0.8888888888888888,
             "#fdca26"
            ],
            [
             1,
             "#f0f921"
            ]
           ]
          },
          "colorway": [
           "#636efa",
           "#EF553B",
           "#00cc96",
           "#ab63fa",
           "#FFA15A",
           "#19d3f3",
           "#FF6692",
           "#B6E880",
           "#FF97FF",
           "#FECB52"
          ],
          "font": {
           "color": "#2a3f5f"
          },
          "geo": {
           "bgcolor": "white",
           "lakecolor": "white",
           "landcolor": "#E5ECF6",
           "showlakes": true,
           "showland": true,
           "subunitcolor": "white"
          },
          "hoverlabel": {
           "align": "left"
          },
          "hovermode": "closest",
          "mapbox": {
           "style": "light"
          },
          "paper_bgcolor": "white",
          "plot_bgcolor": "#E5ECF6",
          "polar": {
           "angularaxis": {
            "gridcolor": "white",
            "linecolor": "white",
            "ticks": ""
           },
           "bgcolor": "#E5ECF6",
           "radialaxis": {
            "gridcolor": "white",
            "linecolor": "white",
            "ticks": ""
           }
          },
          "scene": {
           "xaxis": {
            "backgroundcolor": "#E5ECF6",
            "gridcolor": "white",
            "gridwidth": 2,
            "linecolor": "white",
            "showbackground": true,
            "ticks": "",
            "zerolinecolor": "white"
           },
           "yaxis": {
            "backgroundcolor": "#E5ECF6",
            "gridcolor": "white",
            "gridwidth": 2,
            "linecolor": "white",
            "showbackground": true,
            "ticks": "",
            "zerolinecolor": "white"
           },
           "zaxis": {
            "backgroundcolor": "#E5ECF6",
            "gridcolor": "white",
            "gridwidth": 2,
            "linecolor": "white",
            "showbackground": true,
            "ticks": "",
            "zerolinecolor": "white"
           }
          },
          "shapedefaults": {
           "line": {
            "color": "#2a3f5f"
           }
          },
          "ternary": {
           "aaxis": {
            "gridcolor": "white",
            "linecolor": "white",
            "ticks": ""
           },
           "baxis": {
            "gridcolor": "white",
            "linecolor": "white",
            "ticks": ""
           },
           "bgcolor": "#E5ECF6",
           "caxis": {
            "gridcolor": "white",
            "linecolor": "white",
            "ticks": ""
           }
          },
          "title": {
           "x": 0.05
          },
          "xaxis": {
           "automargin": true,
           "gridcolor": "white",
           "linecolor": "white",
           "ticks": "",
           "title": {
            "standoff": 15
           },
           "zerolinecolor": "white",
           "zerolinewidth": 2
          },
          "yaxis": {
           "automargin": true,
           "gridcolor": "white",
           "linecolor": "white",
           "ticks": "",
           "title": {
            "standoff": 15
           },
           "zerolinecolor": "white",
           "zerolinewidth": 2
          }
         }
        },
        "xaxis": {
         "anchor": "y",
         "domain": [
          0,
          1
         ],
         "title": {
          "text": "variable"
         }
        },
        "yaxis": {
         "anchor": "x",
         "domain": [
          0,
          1
         ],
         "title": {
          "text": "value"
         }
        }
       }
      }
     },
     "metadata": {},
     "output_type": "display_data"
    }
   ],
   "source": [
    "px.box(df['votesCount'])"
   ]
  },
  {
   "cell_type": "markdown",
   "metadata": {},
   "source": [
    "Generally anything above 200 upvotes on Product Hunt has a chance of becoming product of the day and 200-300 upvotes is considered a good lauch."
   ]
  },
  {
   "cell_type": "code",
   "execution_count": 44,
   "metadata": {},
   "outputs": [
    {
     "data": {
      "text/plain": [
       "(239, 12)"
      ]
     },
     "execution_count": 44,
     "metadata": {},
     "output_type": "execute_result"
    }
   ],
   "source": [
    "df[df['votesCount']>200].shape"
   ]
  },
  {
   "cell_type": "code",
   "execution_count": 45,
   "metadata": {},
   "outputs": [],
   "source": [
    "def categorize_votes(vote):\n",
    "    if vote > 150:\n",
    "        return 'Success'\n",
    "    elif vote > 50:\n",
    "        return 'Average'\n",
    "    else:\n",
    "        return 'low'\n",
    "\n",
    "df['vote_category'] = df['votesCount'].apply(categorize_votes)"
   ]
  },
  {
   "cell_type": "code",
   "execution_count": 46,
   "metadata": {},
   "outputs": [],
   "source": [
    "first_comments=[ast.literal_eval(df['comments'][i])['nodes'][0]['body'] \n",
    " if len(ast.literal_eval(df['comments'][i])['nodes']) else None\n",
    " for i in range(len(df))]"
   ]
  },
  {
   "cell_type": "code",
   "execution_count": 47,
   "metadata": {},
   "outputs": [],
   "source": [
    "df['first_comments'] = first_comments\n",
    "df['first_comments_len']=[len(first_comments[i]) if first_comments[i] else 0 for i in range(len(df['first_comments']))]"
   ]
  },
  {
   "cell_type": "code",
   "execution_count": 48,
   "metadata": {},
   "outputs": [
    {
     "data": {
      "text/plain": [
       "[{'slug': 'developer-tools'},\n",
       " {'slug': 'artificial-intelligence'},\n",
       " {'slug': 'bots'}]"
      ]
     },
     "execution_count": 48,
     "metadata": {},
     "output_type": "execute_result"
    }
   ],
   "source": [
    "ast.literal_eval(df['topics'][0])['nodes']"
   ]
  },
  {
   "cell_type": "code",
   "execution_count": 49,
   "metadata": {},
   "outputs": [
    {
     "data": {
      "text/html": [
       "<div>\n",
       "<style scoped>\n",
       "    .dataframe tbody tr th:only-of-type {\n",
       "        vertical-align: middle;\n",
       "    }\n",
       "\n",
       "    .dataframe tbody tr th {\n",
       "        vertical-align: top;\n",
       "    }\n",
       "\n",
       "    .dataframe thead th {\n",
       "        text-align: right;\n",
       "    }\n",
       "</style>\n",
       "<table border=\"1\" class=\"dataframe\">\n",
       "  <thead>\n",
       "    <tr style=\"text-align: right;\">\n",
       "      <th></th>\n",
       "      <th>votesCount</th>\n",
       "      <th>commentsCount</th>\n",
       "      <th>first_comments_len</th>\n",
       "    </tr>\n",
       "  </thead>\n",
       "  <tbody>\n",
       "    <tr>\n",
       "      <th>votesCount</th>\n",
       "      <td>1.000000</td>\n",
       "      <td>0.701128</td>\n",
       "      <td>0.246992</td>\n",
       "    </tr>\n",
       "    <tr>\n",
       "      <th>commentsCount</th>\n",
       "      <td>0.701128</td>\n",
       "      <td>1.000000</td>\n",
       "      <td>0.298725</td>\n",
       "    </tr>\n",
       "    <tr>\n",
       "      <th>first_comments_len</th>\n",
       "      <td>0.246992</td>\n",
       "      <td>0.298725</td>\n",
       "      <td>1.000000</td>\n",
       "    </tr>\n",
       "  </tbody>\n",
       "</table>\n",
       "</div>"
      ],
      "text/plain": [
       "                    votesCount  commentsCount  first_comments_len\n",
       "votesCount            1.000000       0.701128            0.246992\n",
       "commentsCount         0.701128       1.000000            0.298725\n",
       "first_comments_len    0.246992       0.298725            1.000000"
      ]
     },
     "execution_count": 49,
     "metadata": {},
     "output_type": "execute_result"
    }
   ],
   "source": [
    "df[['votesCount','commentsCount','first_comments_len']].corr()"
   ]
  },
  {
   "cell_type": "code",
   "execution_count": 50,
   "metadata": {},
   "outputs": [
    {
     "data": {
      "text/plain": [
       "295"
      ]
     },
     "execution_count": 50,
     "metadata": {},
     "output_type": "execute_result"
    }
   ],
   "source": [
    "len(list(sorted(set(df['topic_list'].explode().values))))"
   ]
  },
  {
   "cell_type": "code",
   "execution_count": 51,
   "metadata": {},
   "outputs": [],
   "source": [
    "mlb = MultiLabelBinarizer()\n",
    "topics_one_hot = mlb.fit_transform(df['topic_list'])"
   ]
  },
  {
   "cell_type": "code",
   "execution_count": 52,
   "metadata": {},
   "outputs": [
    {
     "data": {
      "application/vnd.plotly.v1+json": {
       "config": {
        "plotlyServerURL": "https://plot.ly"
       },
       "data": [
        {
         "alignmentgroup": "True",
         "bingroup": "x",
         "hovertemplate": "variable=0<br>value=%{x}<br>count=%{y}<extra></extra>",
         "legendgroup": "0",
         "marker": {
          "color": "#636efa",
          "pattern": {
           "shape": ""
          }
         },
         "name": "0",
         "offsetgroup": "0",
         "orientation": "v",
         "showlegend": true,
         "type": "histogram",
         "x": [
          240,
          168,
          219,
          259,
          158,
          254,
          238,
          256,
          193,
          257,
          260,
          260,
          230,
          260,
          123,
          202,
          234,
          253,
          228,
          217,
          156,
          183,
          211,
          247,
          215,
          227,
          228,
          47,
          133,
          242,
          257,
          258,
          153,
          256,
          258,
          212,
          213,
          168,
          128,
          254,
          241,
          144,
          250,
          252,
          187,
          247,
          241,
          254,
          224,
          248,
          245,
          194,
          253,
          259,
          256,
          254,
          177,
          249,
          247,
          210,
          150,
          237,
          236,
          170,
          203,
          260,
          254,
          227,
          231,
          224,
          225,
          247,
          229,
          86,
          253,
          131,
          257,
          249,
          220,
          259,
          216,
          150,
          175,
          257,
          258,
          254,
          258,
          255,
          249,
          253,
          227,
          246,
          259,
          202,
          222,
          260,
          238,
          149,
          221,
          240
         ],
         "xaxis": "x",
         "yaxis": "y"
        }
       ],
       "layout": {
        "barmode": "relative",
        "legend": {
         "title": {
          "text": "variable"
         },
         "tracegroupgap": 0
        },
        "margin": {
         "t": 60
        },
        "template": {
         "data": {
          "bar": [
           {
            "error_x": {
             "color": "#2a3f5f"
            },
            "error_y": {
             "color": "#2a3f5f"
            },
            "marker": {
             "line": {
              "color": "#E5ECF6",
              "width": 0.5
             },
             "pattern": {
              "fillmode": "overlay",
              "size": 10,
              "solidity": 0.2
             }
            },
            "type": "bar"
           }
          ],
          "barpolar": [
           {
            "marker": {
             "line": {
              "color": "#E5ECF6",
              "width": 0.5
             },
             "pattern": {
              "fillmode": "overlay",
              "size": 10,
              "solidity": 0.2
             }
            },
            "type": "barpolar"
           }
          ],
          "carpet": [
           {
            "aaxis": {
             "endlinecolor": "#2a3f5f",
             "gridcolor": "white",
             "linecolor": "white",
             "minorgridcolor": "white",
             "startlinecolor": "#2a3f5f"
            },
            "baxis": {
             "endlinecolor": "#2a3f5f",
             "gridcolor": "white",
             "linecolor": "white",
             "minorgridcolor": "white",
             "startlinecolor": "#2a3f5f"
            },
            "type": "carpet"
           }
          ],
          "choropleth": [
           {
            "colorbar": {
             "outlinewidth": 0,
             "ticks": ""
            },
            "type": "choropleth"
           }
          ],
          "contour": [
           {
            "colorbar": {
             "outlinewidth": 0,
             "ticks": ""
            },
            "colorscale": [
             [
              0,
              "#0d0887"
             ],
             [
              0.1111111111111111,
              "#46039f"
             ],
             [
              0.2222222222222222,
              "#7201a8"
             ],
             [
              0.3333333333333333,
              "#9c179e"
             ],
             [
              0.4444444444444444,
              "#bd3786"
             ],
             [
              0.5555555555555556,
              "#d8576b"
             ],
             [
              0.6666666666666666,
              "#ed7953"
             ],
             [
              0.7777777777777778,
              "#fb9f3a"
             ],
             [
              0.8888888888888888,
              "#fdca26"
             ],
             [
              1,
              "#f0f921"
             ]
            ],
            "type": "contour"
           }
          ],
          "contourcarpet": [
           {
            "colorbar": {
             "outlinewidth": 0,
             "ticks": ""
            },
            "type": "contourcarpet"
           }
          ],
          "heatmap": [
           {
            "colorbar": {
             "outlinewidth": 0,
             "ticks": ""
            },
            "colorscale": [
             [
              0,
              "#0d0887"
             ],
             [
              0.1111111111111111,
              "#46039f"
             ],
             [
              0.2222222222222222,
              "#7201a8"
             ],
             [
              0.3333333333333333,
              "#9c179e"
             ],
             [
              0.4444444444444444,
              "#bd3786"
             ],
             [
              0.5555555555555556,
              "#d8576b"
             ],
             [
              0.6666666666666666,
              "#ed7953"
             ],
             [
              0.7777777777777778,
              "#fb9f3a"
             ],
             [
              0.8888888888888888,
              "#fdca26"
             ],
             [
              1,
              "#f0f921"
             ]
            ],
            "type": "heatmap"
           }
          ],
          "heatmapgl": [
           {
            "colorbar": {
             "outlinewidth": 0,
             "ticks": ""
            },
            "colorscale": [
             [
              0,
              "#0d0887"
             ],
             [
              0.1111111111111111,
              "#46039f"
             ],
             [
              0.2222222222222222,
              "#7201a8"
             ],
             [
              0.3333333333333333,
              "#9c179e"
             ],
             [
              0.4444444444444444,
              "#bd3786"
             ],
             [
              0.5555555555555556,
              "#d8576b"
             ],
             [
              0.6666666666666666,
              "#ed7953"
             ],
             [
              0.7777777777777778,
              "#fb9f3a"
             ],
             [
              0.8888888888888888,
              "#fdca26"
             ],
             [
              1,
              "#f0f921"
             ]
            ],
            "type": "heatmapgl"
           }
          ],
          "histogram": [
           {
            "marker": {
             "pattern": {
              "fillmode": "overlay",
              "size": 10,
              "solidity": 0.2
             }
            },
            "type": "histogram"
           }
          ],
          "histogram2d": [
           {
            "colorbar": {
             "outlinewidth": 0,
             "ticks": ""
            },
            "colorscale": [
             [
              0,
              "#0d0887"
             ],
             [
              0.1111111111111111,
              "#46039f"
             ],
             [
              0.2222222222222222,
              "#7201a8"
             ],
             [
              0.3333333333333333,
              "#9c179e"
             ],
             [
              0.4444444444444444,
              "#bd3786"
             ],
             [
              0.5555555555555556,
              "#d8576b"
             ],
             [
              0.6666666666666666,
              "#ed7953"
             ],
             [
              0.7777777777777778,
              "#fb9f3a"
             ],
             [
              0.8888888888888888,
              "#fdca26"
             ],
             [
              1,
              "#f0f921"
             ]
            ],
            "type": "histogram2d"
           }
          ],
          "histogram2dcontour": [
           {
            "colorbar": {
             "outlinewidth": 0,
             "ticks": ""
            },
            "colorscale": [
             [
              0,
              "#0d0887"
             ],
             [
              0.1111111111111111,
              "#46039f"
             ],
             [
              0.2222222222222222,
              "#7201a8"
             ],
             [
              0.3333333333333333,
              "#9c179e"
             ],
             [
              0.4444444444444444,
              "#bd3786"
             ],
             [
              0.5555555555555556,
              "#d8576b"
             ],
             [
              0.6666666666666666,
              "#ed7953"
             ],
             [
              0.7777777777777778,
              "#fb9f3a"
             ],
             [
              0.8888888888888888,
              "#fdca26"
             ],
             [
              1,
              "#f0f921"
             ]
            ],
            "type": "histogram2dcontour"
           }
          ],
          "mesh3d": [
           {
            "colorbar": {
             "outlinewidth": 0,
             "ticks": ""
            },
            "type": "mesh3d"
           }
          ],
          "parcoords": [
           {
            "line": {
             "colorbar": {
              "outlinewidth": 0,
              "ticks": ""
             }
            },
            "type": "parcoords"
           }
          ],
          "pie": [
           {
            "automargin": true,
            "type": "pie"
           }
          ],
          "scatter": [
           {
            "fillpattern": {
             "fillmode": "overlay",
             "size": 10,
             "solidity": 0.2
            },
            "type": "scatter"
           }
          ],
          "scatter3d": [
           {
            "line": {
             "colorbar": {
              "outlinewidth": 0,
              "ticks": ""
             }
            },
            "marker": {
             "colorbar": {
              "outlinewidth": 0,
              "ticks": ""
             }
            },
            "type": "scatter3d"
           }
          ],
          "scattercarpet": [
           {
            "marker": {
             "colorbar": {
              "outlinewidth": 0,
              "ticks": ""
             }
            },
            "type": "scattercarpet"
           }
          ],
          "scattergeo": [
           {
            "marker": {
             "colorbar": {
              "outlinewidth": 0,
              "ticks": ""
             }
            },
            "type": "scattergeo"
           }
          ],
          "scattergl": [
           {
            "marker": {
             "colorbar": {
              "outlinewidth": 0,
              "ticks": ""
             }
            },
            "type": "scattergl"
           }
          ],
          "scattermapbox": [
           {
            "marker": {
             "colorbar": {
              "outlinewidth": 0,
              "ticks": ""
             }
            },
            "type": "scattermapbox"
           }
          ],
          "scatterpolar": [
           {
            "marker": {
             "colorbar": {
              "outlinewidth": 0,
              "ticks": ""
             }
            },
            "type": "scatterpolar"
           }
          ],
          "scatterpolargl": [
           {
            "marker": {
             "colorbar": {
              "outlinewidth": 0,
              "ticks": ""
             }
            },
            "type": "scatterpolargl"
           }
          ],
          "scatterternary": [
           {
            "marker": {
             "colorbar": {
              "outlinewidth": 0,
              "ticks": ""
             }
            },
            "type": "scatterternary"
           }
          ],
          "surface": [
           {
            "colorbar": {
             "outlinewidth": 0,
             "ticks": ""
            },
            "colorscale": [
             [
              0,
              "#0d0887"
             ],
             [
              0.1111111111111111,
              "#46039f"
             ],
             [
              0.2222222222222222,
              "#7201a8"
             ],
             [
              0.3333333333333333,
              "#9c179e"
             ],
             [
              0.4444444444444444,
              "#bd3786"
             ],
             [
              0.5555555555555556,
              "#d8576b"
             ],
             [
              0.6666666666666666,
              "#ed7953"
             ],
             [
              0.7777777777777778,
              "#fb9f3a"
             ],
             [
              0.8888888888888888,
              "#fdca26"
             ],
             [
              1,
              "#f0f921"
             ]
            ],
            "type": "surface"
           }
          ],
          "table": [
           {
            "cells": {
             "fill": {
              "color": "#EBF0F8"
             },
             "line": {
              "color": "white"
             }
            },
            "header": {
             "fill": {
              "color": "#C8D4E3"
             },
             "line": {
              "color": "white"
             }
            },
            "type": "table"
           }
          ]
         },
         "layout": {
          "annotationdefaults": {
           "arrowcolor": "#2a3f5f",
           "arrowhead": 0,
           "arrowwidth": 1
          },
          "autotypenumbers": "strict",
          "coloraxis": {
           "colorbar": {
            "outlinewidth": 0,
            "ticks": ""
           }
          },
          "colorscale": {
           "diverging": [
            [
             0,
             "#8e0152"
            ],
            [
             0.1,
             "#c51b7d"
            ],
            [
             0.2,
             "#de77ae"
            ],
            [
             0.3,
             "#f1b6da"
            ],
            [
             0.4,
             "#fde0ef"
            ],
            [
             0.5,
             "#f7f7f7"
            ],
            [
             0.6,
             "#e6f5d0"
            ],
            [
             0.7,
             "#b8e186"
            ],
            [
             0.8,
             "#7fbc41"
            ],
            [
             0.9,
             "#4d9221"
            ],
            [
             1,
             "#276419"
            ]
           ],
           "sequential": [
            [
             0,
             "#0d0887"
            ],
            [
             0.1111111111111111,
             "#46039f"
            ],
            [
             0.2222222222222222,
             "#7201a8"
            ],
            [
             0.3333333333333333,
             "#9c179e"
            ],
            [
             0.4444444444444444,
             "#bd3786"
            ],
            [
             0.5555555555555556,
             "#d8576b"
            ],
            [
             0.6666666666666666,
             "#ed7953"
            ],
            [
             0.7777777777777778,
             "#fb9f3a"
            ],
            [
             0.8888888888888888,
             "#fdca26"
            ],
            [
             1,
             "#f0f921"
            ]
           ],
           "sequentialminus": [
            [
             0,
             "#0d0887"
            ],
            [
             0.1111111111111111,
             "#46039f"
            ],
            [
             0.2222222222222222,
             "#7201a8"
            ],
            [
             0.3333333333333333,
             "#9c179e"
            ],
            [
             0.4444444444444444,
             "#bd3786"
            ],
            [
             0.5555555555555556,
             "#d8576b"
            ],
            [
             0.6666666666666666,
             "#ed7953"
            ],
            [
             0.7777777777777778,
             "#fb9f3a"
            ],
            [
             0.8888888888888888,
             "#fdca26"
            ],
            [
             1,
             "#f0f921"
            ]
           ]
          },
          "colorway": [
           "#636efa",
           "#EF553B",
           "#00cc96",
           "#ab63fa",
           "#FFA15A",
           "#19d3f3",
           "#FF6692",
           "#B6E880",
           "#FF97FF",
           "#FECB52"
          ],
          "font": {
           "color": "#2a3f5f"
          },
          "geo": {
           "bgcolor": "white",
           "lakecolor": "white",
           "landcolor": "#E5ECF6",
           "showlakes": true,
           "showland": true,
           "subunitcolor": "white"
          },
          "hoverlabel": {
           "align": "left"
          },
          "hovermode": "closest",
          "mapbox": {
           "style": "light"
          },
          "paper_bgcolor": "white",
          "plot_bgcolor": "#E5ECF6",
          "polar": {
           "angularaxis": {
            "gridcolor": "white",
            "linecolor": "white",
            "ticks": ""
           },
           "bgcolor": "#E5ECF6",
           "radialaxis": {
            "gridcolor": "white",
            "linecolor": "white",
            "ticks": ""
           }
          },
          "scene": {
           "xaxis": {
            "backgroundcolor": "#E5ECF6",
            "gridcolor": "white",
            "gridwidth": 2,
            "linecolor": "white",
            "showbackground": true,
            "ticks": "",
            "zerolinecolor": "white"
           },
           "yaxis": {
            "backgroundcolor": "#E5ECF6",
            "gridcolor": "white",
            "gridwidth": 2,
            "linecolor": "white",
            "showbackground": true,
            "ticks": "",
            "zerolinecolor": "white"
           },
           "zaxis": {
            "backgroundcolor": "#E5ECF6",
            "gridcolor": "white",
            "gridwidth": 2,
            "linecolor": "white",
            "showbackground": true,
            "ticks": "",
            "zerolinecolor": "white"
           }
          },
          "shapedefaults": {
           "line": {
            "color": "#2a3f5f"
           }
          },
          "ternary": {
           "aaxis": {
            "gridcolor": "white",
            "linecolor": "white",
            "ticks": ""
           },
           "baxis": {
            "gridcolor": "white",
            "linecolor": "white",
            "ticks": ""
           },
           "bgcolor": "#E5ECF6",
           "caxis": {
            "gridcolor": "white",
            "linecolor": "white",
            "ticks": ""
           }
          },
          "title": {
           "x": 0.05
          },
          "xaxis": {
           "automargin": true,
           "gridcolor": "white",
           "linecolor": "white",
           "ticks": "",
           "title": {
            "standoff": 15
           },
           "zerolinecolor": "white",
           "zerolinewidth": 2
          },
          "yaxis": {
           "automargin": true,
           "gridcolor": "white",
           "linecolor": "white",
           "ticks": "",
           "title": {
            "standoff": 15
           },
           "zerolinecolor": "white",
           "zerolinewidth": 2
          }
         }
        },
        "xaxis": {
         "anchor": "y",
         "domain": [
          0,
          1
         ],
         "title": {
          "text": "value"
         }
        },
        "yaxis": {
         "anchor": "x",
         "domain": [
          0,
          1
         ],
         "title": {
          "text": "count"
         }
        }
       }
      }
     },
     "metadata": {},
     "output_type": "display_data"
    }
   ],
   "source": [
    "px.histogram([len(top_posts_df['description'][i]) for i in range(len(top_posts_df))])"
   ]
  },
  {
   "cell_type": "code",
   "execution_count": 53,
   "metadata": {},
   "outputs": [
    {
     "data": {
      "application/vnd.plotly.v1+json": {
       "config": {
        "plotlyServerURL": "https://plot.ly"
       },
       "data": [
        {
         "alignmentgroup": "True",
         "bingroup": "x",
         "hovertemplate": "variable=0<br>value=%{x}<br>count=%{y}<extra></extra>",
         "legendgroup": "0",
         "marker": {
          "color": "#636efa",
          "pattern": {
           "shape": ""
          }
         },
         "name": "0",
         "offsetgroup": "0",
         "orientation": "v",
         "showlegend": true,
         "type": "histogram",
         "x": [
          251,
          257,
          214,
          63,
          251,
          257,
          258,
          45,
          126,
          231,
          203,
          165,
          107,
          141,
          152,
          217,
          142,
          243,
          248,
          240,
          242,
          33,
          253,
          159,
          148,
          170,
          238,
          230,
          258,
          259,
          110,
          235,
          241,
          238,
          235,
          140,
          104,
          162,
          85,
          240,
          233,
          105,
          260,
          209,
          253,
          182,
          255,
          88,
          155,
          231,
          156,
          181,
          25,
          154,
          222,
          153,
          165,
          38,
          141,
          182,
          231,
          195,
          195,
          105,
          71,
          253,
          220,
          89,
          260,
          101,
          125,
          242,
          255,
          59,
          108,
          127,
          164,
          187,
          117,
          181,
          233,
          159,
          203,
          247,
          36,
          257,
          212,
          216,
          130,
          240,
          142,
          157,
          259,
          49,
          193,
          142,
          158,
          258,
          238,
          252
         ],
         "xaxis": "x",
         "yaxis": "y"
        }
       ],
       "layout": {
        "barmode": "relative",
        "legend": {
         "title": {
          "text": "variable"
         },
         "tracegroupgap": 0
        },
        "margin": {
         "t": 60
        },
        "template": {
         "data": {
          "bar": [
           {
            "error_x": {
             "color": "#2a3f5f"
            },
            "error_y": {
             "color": "#2a3f5f"
            },
            "marker": {
             "line": {
              "color": "#E5ECF6",
              "width": 0.5
             },
             "pattern": {
              "fillmode": "overlay",
              "size": 10,
              "solidity": 0.2
             }
            },
            "type": "bar"
           }
          ],
          "barpolar": [
           {
            "marker": {
             "line": {
              "color": "#E5ECF6",
              "width": 0.5
             },
             "pattern": {
              "fillmode": "overlay",
              "size": 10,
              "solidity": 0.2
             }
            },
            "type": "barpolar"
           }
          ],
          "carpet": [
           {
            "aaxis": {
             "endlinecolor": "#2a3f5f",
             "gridcolor": "white",
             "linecolor": "white",
             "minorgridcolor": "white",
             "startlinecolor": "#2a3f5f"
            },
            "baxis": {
             "endlinecolor": "#2a3f5f",
             "gridcolor": "white",
             "linecolor": "white",
             "minorgridcolor": "white",
             "startlinecolor": "#2a3f5f"
            },
            "type": "carpet"
           }
          ],
          "choropleth": [
           {
            "colorbar": {
             "outlinewidth": 0,
             "ticks": ""
            },
            "type": "choropleth"
           }
          ],
          "contour": [
           {
            "colorbar": {
             "outlinewidth": 0,
             "ticks": ""
            },
            "colorscale": [
             [
              0,
              "#0d0887"
             ],
             [
              0.1111111111111111,
              "#46039f"
             ],
             [
              0.2222222222222222,
              "#7201a8"
             ],
             [
              0.3333333333333333,
              "#9c179e"
             ],
             [
              0.4444444444444444,
              "#bd3786"
             ],
             [
              0.5555555555555556,
              "#d8576b"
             ],
             [
              0.6666666666666666,
              "#ed7953"
             ],
             [
              0.7777777777777778,
              "#fb9f3a"
             ],
             [
              0.8888888888888888,
              "#fdca26"
             ],
             [
              1,
              "#f0f921"
             ]
            ],
            "type": "contour"
           }
          ],
          "contourcarpet": [
           {
            "colorbar": {
             "outlinewidth": 0,
             "ticks": ""
            },
            "type": "contourcarpet"
           }
          ],
          "heatmap": [
           {
            "colorbar": {
             "outlinewidth": 0,
             "ticks": ""
            },
            "colorscale": [
             [
              0,
              "#0d0887"
             ],
             [
              0.1111111111111111,
              "#46039f"
             ],
             [
              0.2222222222222222,
              "#7201a8"
             ],
             [
              0.3333333333333333,
              "#9c179e"
             ],
             [
              0.4444444444444444,
              "#bd3786"
             ],
             [
              0.5555555555555556,
              "#d8576b"
             ],
             [
              0.6666666666666666,
              "#ed7953"
             ],
             [
              0.7777777777777778,
              "#fb9f3a"
             ],
             [
              0.8888888888888888,
              "#fdca26"
             ],
             [
              1,
              "#f0f921"
             ]
            ],
            "type": "heatmap"
           }
          ],
          "heatmapgl": [
           {
            "colorbar": {
             "outlinewidth": 0,
             "ticks": ""
            },
            "colorscale": [
             [
              0,
              "#0d0887"
             ],
             [
              0.1111111111111111,
              "#46039f"
             ],
             [
              0.2222222222222222,
              "#7201a8"
             ],
             [
              0.3333333333333333,
              "#9c179e"
             ],
             [
              0.4444444444444444,
              "#bd3786"
             ],
             [
              0.5555555555555556,
              "#d8576b"
             ],
             [
              0.6666666666666666,
              "#ed7953"
             ],
             [
              0.7777777777777778,
              "#fb9f3a"
             ],
             [
              0.8888888888888888,
              "#fdca26"
             ],
             [
              1,
              "#f0f921"
             ]
            ],
            "type": "heatmapgl"
           }
          ],
          "histogram": [
           {
            "marker": {
             "pattern": {
              "fillmode": "overlay",
              "size": 10,
              "solidity": 0.2
             }
            },
            "type": "histogram"
           }
          ],
          "histogram2d": [
           {
            "colorbar": {
             "outlinewidth": 0,
             "ticks": ""
            },
            "colorscale": [
             [
              0,
              "#0d0887"
             ],
             [
              0.1111111111111111,
              "#46039f"
             ],
             [
              0.2222222222222222,
              "#7201a8"
             ],
             [
              0.3333333333333333,
              "#9c179e"
             ],
             [
              0.4444444444444444,
              "#bd3786"
             ],
             [
              0.5555555555555556,
              "#d8576b"
             ],
             [
              0.6666666666666666,
              "#ed7953"
             ],
             [
              0.7777777777777778,
              "#fb9f3a"
             ],
             [
              0.8888888888888888,
              "#fdca26"
             ],
             [
              1,
              "#f0f921"
             ]
            ],
            "type": "histogram2d"
           }
          ],
          "histogram2dcontour": [
           {
            "colorbar": {
             "outlinewidth": 0,
             "ticks": ""
            },
            "colorscale": [
             [
              0,
              "#0d0887"
             ],
             [
              0.1111111111111111,
              "#46039f"
             ],
             [
              0.2222222222222222,
              "#7201a8"
             ],
             [
              0.3333333333333333,
              "#9c179e"
             ],
             [
              0.4444444444444444,
              "#bd3786"
             ],
             [
              0.5555555555555556,
              "#d8576b"
             ],
             [
              0.6666666666666666,
              "#ed7953"
             ],
             [
              0.7777777777777778,
              "#fb9f3a"
             ],
             [
              0.8888888888888888,
              "#fdca26"
             ],
             [
              1,
              "#f0f921"
             ]
            ],
            "type": "histogram2dcontour"
           }
          ],
          "mesh3d": [
           {
            "colorbar": {
             "outlinewidth": 0,
             "ticks": ""
            },
            "type": "mesh3d"
           }
          ],
          "parcoords": [
           {
            "line": {
             "colorbar": {
              "outlinewidth": 0,
              "ticks": ""
             }
            },
            "type": "parcoords"
           }
          ],
          "pie": [
           {
            "automargin": true,
            "type": "pie"
           }
          ],
          "scatter": [
           {
            "fillpattern": {
             "fillmode": "overlay",
             "size": 10,
             "solidity": 0.2
            },
            "type": "scatter"
           }
          ],
          "scatter3d": [
           {
            "line": {
             "colorbar": {
              "outlinewidth": 0,
              "ticks": ""
             }
            },
            "marker": {
             "colorbar": {
              "outlinewidth": 0,
              "ticks": ""
             }
            },
            "type": "scatter3d"
           }
          ],
          "scattercarpet": [
           {
            "marker": {
             "colorbar": {
              "outlinewidth": 0,
              "ticks": ""
             }
            },
            "type": "scattercarpet"
           }
          ],
          "scattergeo": [
           {
            "marker": {
             "colorbar": {
              "outlinewidth": 0,
              "ticks": ""
             }
            },
            "type": "scattergeo"
           }
          ],
          "scattergl": [
           {
            "marker": {
             "colorbar": {
              "outlinewidth": 0,
              "ticks": ""
             }
            },
            "type": "scattergl"
           }
          ],
          "scattermapbox": [
           {
            "marker": {
             "colorbar": {
              "outlinewidth": 0,
              "ticks": ""
             }
            },
            "type": "scattermapbox"
           }
          ],
          "scatterpolar": [
           {
            "marker": {
             "colorbar": {
              "outlinewidth": 0,
              "ticks": ""
             }
            },
            "type": "scatterpolar"
           }
          ],
          "scatterpolargl": [
           {
            "marker": {
             "colorbar": {
              "outlinewidth": 0,
              "ticks": ""
             }
            },
            "type": "scatterpolargl"
           }
          ],
          "scatterternary": [
           {
            "marker": {
             "colorbar": {
              "outlinewidth": 0,
              "ticks": ""
             }
            },
            "type": "scatterternary"
           }
          ],
          "surface": [
           {
            "colorbar": {
             "outlinewidth": 0,
             "ticks": ""
            },
            "colorscale": [
             [
              0,
              "#0d0887"
             ],
             [
              0.1111111111111111,
              "#46039f"
             ],
             [
              0.2222222222222222,
              "#7201a8"
             ],
             [
              0.3333333333333333,
              "#9c179e"
             ],
             [
              0.4444444444444444,
              "#bd3786"
             ],
             [
              0.5555555555555556,
              "#d8576b"
             ],
             [
              0.6666666666666666,
              "#ed7953"
             ],
             [
              0.7777777777777778,
              "#fb9f3a"
             ],
             [
              0.8888888888888888,
              "#fdca26"
             ],
             [
              1,
              "#f0f921"
             ]
            ],
            "type": "surface"
           }
          ],
          "table": [
           {
            "cells": {
             "fill": {
              "color": "#EBF0F8"
             },
             "line": {
              "color": "white"
             }
            },
            "header": {
             "fill": {
              "color": "#C8D4E3"
             },
             "line": {
              "color": "white"
             }
            },
            "type": "table"
           }
          ]
         },
         "layout": {
          "annotationdefaults": {
           "arrowcolor": "#2a3f5f",
           "arrowhead": 0,
           "arrowwidth": 1
          },
          "autotypenumbers": "strict",
          "coloraxis": {
           "colorbar": {
            "outlinewidth": 0,
            "ticks": ""
           }
          },
          "colorscale": {
           "diverging": [
            [
             0,
             "#8e0152"
            ],
            [
             0.1,
             "#c51b7d"
            ],
            [
             0.2,
             "#de77ae"
            ],
            [
             0.3,
             "#f1b6da"
            ],
            [
             0.4,
             "#fde0ef"
            ],
            [
             0.5,
             "#f7f7f7"
            ],
            [
             0.6,
             "#e6f5d0"
            ],
            [
             0.7,
             "#b8e186"
            ],
            [
             0.8,
             "#7fbc41"
            ],
            [
             0.9,
             "#4d9221"
            ],
            [
             1,
             "#276419"
            ]
           ],
           "sequential": [
            [
             0,
             "#0d0887"
            ],
            [
             0.1111111111111111,
             "#46039f"
            ],
            [
             0.2222222222222222,
             "#7201a8"
            ],
            [
             0.3333333333333333,
             "#9c179e"
            ],
            [
             0.4444444444444444,
             "#bd3786"
            ],
            [
             0.5555555555555556,
             "#d8576b"
            ],
            [
             0.6666666666666666,
             "#ed7953"
            ],
            [
             0.7777777777777778,
             "#fb9f3a"
            ],
            [
             0.8888888888888888,
             "#fdca26"
            ],
            [
             1,
             "#f0f921"
            ]
           ],
           "sequentialminus": [
            [
             0,
             "#0d0887"
            ],
            [
             0.1111111111111111,
             "#46039f"
            ],
            [
             0.2222222222222222,
             "#7201a8"
            ],
            [
             0.3333333333333333,
             "#9c179e"
            ],
            [
             0.4444444444444444,
             "#bd3786"
            ],
            [
             0.5555555555555556,
             "#d8576b"
            ],
            [
             0.6666666666666666,
             "#ed7953"
            ],
            [
             0.7777777777777778,
             "#fb9f3a"
            ],
            [
             0.8888888888888888,
             "#fdca26"
            ],
            [
             1,
             "#f0f921"
            ]
           ]
          },
          "colorway": [
           "#636efa",
           "#EF553B",
           "#00cc96",
           "#ab63fa",
           "#FFA15A",
           "#19d3f3",
           "#FF6692",
           "#B6E880",
           "#FF97FF",
           "#FECB52"
          ],
          "font": {
           "color": "#2a3f5f"
          },
          "geo": {
           "bgcolor": "white",
           "lakecolor": "white",
           "landcolor": "#E5ECF6",
           "showlakes": true,
           "showland": true,
           "subunitcolor": "white"
          },
          "hoverlabel": {
           "align": "left"
          },
          "hovermode": "closest",
          "mapbox": {
           "style": "light"
          },
          "paper_bgcolor": "white",
          "plot_bgcolor": "#E5ECF6",
          "polar": {
           "angularaxis": {
            "gridcolor": "white",
            "linecolor": "white",
            "ticks": ""
           },
           "bgcolor": "#E5ECF6",
           "radialaxis": {
            "gridcolor": "white",
            "linecolor": "white",
            "ticks": ""
           }
          },
          "scene": {
           "xaxis": {
            "backgroundcolor": "#E5ECF6",
            "gridcolor": "white",
            "gridwidth": 2,
            "linecolor": "white",
            "showbackground": true,
            "ticks": "",
            "zerolinecolor": "white"
           },
           "yaxis": {
            "backgroundcolor": "#E5ECF6",
            "gridcolor": "white",
            "gridwidth": 2,
            "linecolor": "white",
            "showbackground": true,
            "ticks": "",
            "zerolinecolor": "white"
           },
           "zaxis": {
            "backgroundcolor": "#E5ECF6",
            "gridcolor": "white",
            "gridwidth": 2,
            "linecolor": "white",
            "showbackground": true,
            "ticks": "",
            "zerolinecolor": "white"
           }
          },
          "shapedefaults": {
           "line": {
            "color": "#2a3f5f"
           }
          },
          "ternary": {
           "aaxis": {
            "gridcolor": "white",
            "linecolor": "white",
            "ticks": ""
           },
           "baxis": {
            "gridcolor": "white",
            "linecolor": "white",
            "ticks": ""
           },
           "bgcolor": "#E5ECF6",
           "caxis": {
            "gridcolor": "white",
            "linecolor": "white",
            "ticks": ""
           }
          },
          "title": {
           "x": 0.05
          },
          "xaxis": {
           "automargin": true,
           "gridcolor": "white",
           "linecolor": "white",
           "ticks": "",
           "title": {
            "standoff": 15
           },
           "zerolinecolor": "white",
           "zerolinewidth": 2
          },
          "yaxis": {
           "automargin": true,
           "gridcolor": "white",
           "linecolor": "white",
           "ticks": "",
           "title": {
            "standoff": 15
           },
           "zerolinecolor": "white",
           "zerolinewidth": 2
          }
         }
        },
        "xaxis": {
         "anchor": "y",
         "domain": [
          0,
          1
         ],
         "title": {
          "text": "value"
         }
        },
        "yaxis": {
         "anchor": "x",
         "domain": [
          0,
          1
         ],
         "title": {
          "text": "count"
         }
        }
       }
      }
     },
     "metadata": {},
     "output_type": "display_data"
    }
   ],
   "source": [
    "px.histogram([len(last_posts_df['description'][i]) for i in range(len(last_posts_df))])"
   ]
  },
  {
   "cell_type": "code",
   "execution_count": 54,
   "metadata": {},
   "outputs": [
    {
     "data": {
      "text/html": [
       "<div>\n",
       "<style scoped>\n",
       "    .dataframe tbody tr th:only-of-type {\n",
       "        vertical-align: middle;\n",
       "    }\n",
       "\n",
       "    .dataframe tbody tr th {\n",
       "        vertical-align: top;\n",
       "    }\n",
       "\n",
       "    .dataframe thead th {\n",
       "        text-align: right;\n",
       "    }\n",
       "</style>\n",
       "<table border=\"1\" class=\"dataframe\">\n",
       "  <thead>\n",
       "    <tr style=\"text-align: right;\">\n",
       "      <th></th>\n",
       "      <th>name</th>\n",
       "      <th>description</th>\n",
       "      <th>url</th>\n",
       "      <th>votesCount</th>\n",
       "      <th>createdAt</th>\n",
       "      <th>tagline</th>\n",
       "      <th>commentsCount</th>\n",
       "      <th>comments</th>\n",
       "      <th>topics</th>\n",
       "      <th>Date</th>\n",
       "      <th>...</th>\n",
       "      <th>weather</th>\n",
       "      <th>web-app</th>\n",
       "      <th>web-design</th>\n",
       "      <th>web3</th>\n",
       "      <th>website-builder</th>\n",
       "      <th>wi-fi</th>\n",
       "      <th>word-games</th>\n",
       "      <th>wordpress</th>\n",
       "      <th>writing</th>\n",
       "      <th>youtube</th>\n",
       "    </tr>\n",
       "  </thead>\n",
       "  <tbody>\n",
       "    <tr>\n",
       "      <th>0</th>\n",
       "      <td>Not Diamond</td>\n",
       "      <td>Not Diamond isn’t like other chatbots you’ve u...</td>\n",
       "      <td>https://www.producthunt.com/posts/not-diamond?...</td>\n",
       "      <td>691</td>\n",
       "      <td>2024-08-01T07:01:00Z</td>\n",
       "      <td>The last chatbot you’ll ever need</td>\n",
       "      <td>219</td>\n",
       "      <td>{'nodes': [{'body': 'Hey Product Hunt!\\r\\n\\r\\n...</td>\n",
       "      <td>{'nodes': [{'slug': 'developer-tools'}, {'slug...</td>\n",
       "      <td>2024-08-01</td>\n",
       "      <td>...</td>\n",
       "      <td>0</td>\n",
       "      <td>0</td>\n",
       "      <td>0</td>\n",
       "      <td>0</td>\n",
       "      <td>0</td>\n",
       "      <td>0</td>\n",
       "      <td>0</td>\n",
       "      <td>0</td>\n",
       "      <td>0</td>\n",
       "      <td>0</td>\n",
       "    </tr>\n",
       "    <tr>\n",
       "      <th>1</th>\n",
       "      <td>Clarity</td>\n",
       "      <td>Clarity is purpose-built for founder-led sales...</td>\n",
       "      <td>https://www.producthunt.com/posts/clarity-9f37...</td>\n",
       "      <td>545</td>\n",
       "      <td>2024-08-01T07:01:00Z</td>\n",
       "      <td>A meeting recorder for founder-led sales</td>\n",
       "      <td>199</td>\n",
       "      <td>{'nodes': [{'body': \"Congrats on the launch Au...</td>\n",
       "      <td>{'nodes': [{'slug': 'productivity'}, {'slug': ...</td>\n",
       "      <td>2024-08-01</td>\n",
       "      <td>...</td>\n",
       "      <td>0</td>\n",
       "      <td>0</td>\n",
       "      <td>0</td>\n",
       "      <td>0</td>\n",
       "      <td>0</td>\n",
       "      <td>0</td>\n",
       "      <td>0</td>\n",
       "      <td>0</td>\n",
       "      <td>0</td>\n",
       "      <td>0</td>\n",
       "    </tr>\n",
       "    <tr>\n",
       "      <th>2</th>\n",
       "      <td>Mito Health</td>\n",
       "      <td>Mito Health uses blood work at regular labs to...</td>\n",
       "      <td>https://www.producthunt.com/posts/mito-health?...</td>\n",
       "      <td>358</td>\n",
       "      <td>2024-08-01T07:01:00Z</td>\n",
       "      <td>Better insights from bloodwork</td>\n",
       "      <td>117</td>\n",
       "      <td>{'nodes': [{'body': 'Hi Product Hunt! 👋 \\n\\nWe...</td>\n",
       "      <td>{'nodes': [{'slug': 'health-fitness'}, {'slug'...</td>\n",
       "      <td>2024-08-01</td>\n",
       "      <td>...</td>\n",
       "      <td>0</td>\n",
       "      <td>0</td>\n",
       "      <td>0</td>\n",
       "      <td>0</td>\n",
       "      <td>0</td>\n",
       "      <td>0</td>\n",
       "      <td>0</td>\n",
       "      <td>0</td>\n",
       "      <td>0</td>\n",
       "      <td>0</td>\n",
       "    </tr>\n",
       "    <tr>\n",
       "      <th>3</th>\n",
       "      <td>EduWiz.AI</td>\n",
       "      <td>Improve your writing effortlessly with EduWiz....</td>\n",
       "      <td>https://www.producthunt.com/posts/eduwiz-ai?ut...</td>\n",
       "      <td>292</td>\n",
       "      <td>2024-08-01T07:01:00Z</td>\n",
       "      <td>Write magical paperwork in seconds with AI</td>\n",
       "      <td>105</td>\n",
       "      <td>{'nodes': [{'body': 'Hey, Product Hunt! 👋\\n\\nI...</td>\n",
       "      <td>{'nodes': [{'slug': 'writing'}, {'slug': 'educ...</td>\n",
       "      <td>2024-08-01</td>\n",
       "      <td>...</td>\n",
       "      <td>0</td>\n",
       "      <td>0</td>\n",
       "      <td>0</td>\n",
       "      <td>0</td>\n",
       "      <td>0</td>\n",
       "      <td>0</td>\n",
       "      <td>0</td>\n",
       "      <td>0</td>\n",
       "      <td>1</td>\n",
       "      <td>0</td>\n",
       "    </tr>\n",
       "    <tr>\n",
       "      <th>4</th>\n",
       "      <td>Mind Visuals</td>\n",
       "      <td>Stay in your creator zone and edit videos in s...</td>\n",
       "      <td>https://www.producthunt.com/posts/mind-visuals...</td>\n",
       "      <td>278</td>\n",
       "      <td>2024-08-01T07:01:00Z</td>\n",
       "      <td>Drag and drop animations for creators</td>\n",
       "      <td>61</td>\n",
       "      <td>{'nodes': [{'body': 'Mind Visuals is now live!...</td>\n",
       "      <td>{'nodes': [{'slug': 'design-tools'}, {'slug': ...</td>\n",
       "      <td>2024-08-01</td>\n",
       "      <td>...</td>\n",
       "      <td>0</td>\n",
       "      <td>0</td>\n",
       "      <td>0</td>\n",
       "      <td>0</td>\n",
       "      <td>0</td>\n",
       "      <td>0</td>\n",
       "      <td>0</td>\n",
       "      <td>0</td>\n",
       "      <td>0</td>\n",
       "      <td>0</td>\n",
       "    </tr>\n",
       "  </tbody>\n",
       "</table>\n",
       "<p>5 rows × 310 columns</p>\n",
       "</div>"
      ],
      "text/plain": [
       "           name                                        description  \\\n",
       "0   Not Diamond  Not Diamond isn’t like other chatbots you’ve u...   \n",
       "1       Clarity  Clarity is purpose-built for founder-led sales...   \n",
       "2   Mito Health  Mito Health uses blood work at regular labs to...   \n",
       "3     EduWiz.AI  Improve your writing effortlessly with EduWiz....   \n",
       "4  Mind Visuals  Stay in your creator zone and edit videos in s...   \n",
       "\n",
       "                                                 url  votesCount  \\\n",
       "0  https://www.producthunt.com/posts/not-diamond?...         691   \n",
       "1  https://www.producthunt.com/posts/clarity-9f37...         545   \n",
       "2  https://www.producthunt.com/posts/mito-health?...         358   \n",
       "3  https://www.producthunt.com/posts/eduwiz-ai?ut...         292   \n",
       "4  https://www.producthunt.com/posts/mind-visuals...         278   \n",
       "\n",
       "              createdAt                                     tagline  \\\n",
       "0  2024-08-01T07:01:00Z           The last chatbot you’ll ever need   \n",
       "1  2024-08-01T07:01:00Z    A meeting recorder for founder-led sales   \n",
       "2  2024-08-01T07:01:00Z              Better insights from bloodwork   \n",
       "3  2024-08-01T07:01:00Z  Write magical paperwork in seconds with AI   \n",
       "4  2024-08-01T07:01:00Z       Drag and drop animations for creators   \n",
       "\n",
       "   commentsCount                                           comments  \\\n",
       "0            219  {'nodes': [{'body': 'Hey Product Hunt!\\r\\n\\r\\n...   \n",
       "1            199  {'nodes': [{'body': \"Congrats on the launch Au...   \n",
       "2            117  {'nodes': [{'body': 'Hi Product Hunt! 👋 \\n\\nWe...   \n",
       "3            105  {'nodes': [{'body': 'Hey, Product Hunt! 👋\\n\\nI...   \n",
       "4             61  {'nodes': [{'body': 'Mind Visuals is now live!...   \n",
       "\n",
       "                                              topics        Date  ... weather  \\\n",
       "0  {'nodes': [{'slug': 'developer-tools'}, {'slug...  2024-08-01  ...       0   \n",
       "1  {'nodes': [{'slug': 'productivity'}, {'slug': ...  2024-08-01  ...       0   \n",
       "2  {'nodes': [{'slug': 'health-fitness'}, {'slug'...  2024-08-01  ...       0   \n",
       "3  {'nodes': [{'slug': 'writing'}, {'slug': 'educ...  2024-08-01  ...       0   \n",
       "4  {'nodes': [{'slug': 'design-tools'}, {'slug': ...  2024-08-01  ...       0   \n",
       "\n",
       "  web-app web-design web3  website-builder  wi-fi  word-games  wordpress  \\\n",
       "0       0          0    0                0      0           0          0   \n",
       "1       0          0    0                0      0           0          0   \n",
       "2       0          0    0                0      0           0          0   \n",
       "3       0          0    0                0      0           0          0   \n",
       "4       0          0    0                0      0           0          0   \n",
       "\n",
       "   writing  youtube  \n",
       "0        0        0  \n",
       "1        0        0  \n",
       "2        0        0  \n",
       "3        1        0  \n",
       "4        0        0  \n",
       "\n",
       "[5 rows x 310 columns]"
      ]
     },
     "execution_count": 54,
     "metadata": {},
     "output_type": "execute_result"
    }
   ],
   "source": [
    "topics_one_hot_df = pd.DataFrame(topics_one_hot, columns=mlb.classes_)\n",
    "df = pd.concat([df, topics_one_hot_df], axis=1)\n",
    "df.head()\n"
   ]
  },
  {
   "cell_type": "code",
   "execution_count": 55,
   "metadata": {},
   "outputs": [],
   "source": [
    "daytoint = {'Monday': 1,\n",
    " 'Tuesday': 2,\n",
    " 'Wednesday': 3,\n",
    " 'Thursday': 4,\n",
    " 'Friday': 5,\n",
    " 'Saturday': 6,\n",
    " 'Sunday': 7,\n",
    "}\n",
    "\n",
    "vote_category_dict ={'low':0,\n",
    "    'Average':1,\n",
    " 'Success':2}"
   ]
  },
  {
   "cell_type": "code",
   "execution_count": 56,
   "metadata": {},
   "outputs": [],
   "source": [
    "df['daytoint']= df['day'].map(daytoint)\n",
    "df['description_len']= df['description'].apply(lambda i: len(i))"
   ]
  },
  {
   "cell_type": "code",
   "execution_count": 57,
   "metadata": {},
   "outputs": [
    {
     "data": {
      "text/plain": [
       "((1860, 298), (1860,))"
      ]
     },
     "execution_count": 57,
     "metadata": {},
     "output_type": "execute_result"
    }
   ],
   "source": [
    "x= df.drop(list(df.dtypes[df.dtypes==object].index)+['votesCount','commentsCount'],axis=1)\n",
    "y = df['vote_category']\n",
    "x.shape,y.shape"
   ]
  },
  {
   "cell_type": "code",
   "execution_count": 58,
   "metadata": {},
   "outputs": [
    {
     "data": {
      "text/plain": [
       "((1488, 298), (1488,), (372, 298), (372,))"
      ]
     },
     "execution_count": 58,
     "metadata": {},
     "output_type": "execute_result"
    }
   ],
   "source": [
    "x_train,x_test,y_train,y_test = train_test_split(x,y.map(vote_category_dict),test_size = 0.2)\n",
    "x_train.shape,y_train.shape,x_test.shape,y_test.shape"
   ]
  },
  {
   "cell_type": "code",
   "execution_count": 59,
   "metadata": {},
   "outputs": [
    {
     "data": {
      "text/plain": [
       "vote_category\n",
       "0    1060\n",
       "1     458\n",
       "2     342\n",
       "Name: count, dtype: int64"
      ]
     },
     "execution_count": 59,
     "metadata": {},
     "output_type": "execute_result"
    }
   ],
   "source": [
    "y.map(vote_category_dict).value_counts()"
   ]
  },
  {
   "cell_type": "code",
   "execution_count": 60,
   "metadata": {},
   "outputs": [
    {
     "data": {
      "text/html": [
       "<style>#sk-container-id-1 {\n",
       "  /* Definition of color scheme common for light and dark mode */\n",
       "  --sklearn-color-text: black;\n",
       "  --sklearn-color-line: gray;\n",
       "  /* Definition of color scheme for unfitted estimators */\n",
       "  --sklearn-color-unfitted-level-0: #fff5e6;\n",
       "  --sklearn-color-unfitted-level-1: #f6e4d2;\n",
       "  --sklearn-color-unfitted-level-2: #ffe0b3;\n",
       "  --sklearn-color-unfitted-level-3: chocolate;\n",
       "  /* Definition of color scheme for fitted estimators */\n",
       "  --sklearn-color-fitted-level-0: #f0f8ff;\n",
       "  --sklearn-color-fitted-level-1: #d4ebff;\n",
       "  --sklearn-color-fitted-level-2: #b3dbfd;\n",
       "  --sklearn-color-fitted-level-3: cornflowerblue;\n",
       "\n",
       "  /* Specific color for light theme */\n",
       "  --sklearn-color-text-on-default-background: var(--sg-text-color, var(--theme-code-foreground, var(--jp-content-font-color1, black)));\n",
       "  --sklearn-color-background: var(--sg-background-color, var(--theme-background, var(--jp-layout-color0, white)));\n",
       "  --sklearn-color-border-box: var(--sg-text-color, var(--theme-code-foreground, var(--jp-content-font-color1, black)));\n",
       "  --sklearn-color-icon: #696969;\n",
       "\n",
       "  @media (prefers-color-scheme: dark) {\n",
       "    /* Redefinition of color scheme for dark theme */\n",
       "    --sklearn-color-text-on-default-background: var(--sg-text-color, var(--theme-code-foreground, var(--jp-content-font-color1, white)));\n",
       "    --sklearn-color-background: var(--sg-background-color, var(--theme-background, var(--jp-layout-color0, #111)));\n",
       "    --sklearn-color-border-box: var(--sg-text-color, var(--theme-code-foreground, var(--jp-content-font-color1, white)));\n",
       "    --sklearn-color-icon: #878787;\n",
       "  }\n",
       "}\n",
       "\n",
       "#sk-container-id-1 {\n",
       "  color: var(--sklearn-color-text);\n",
       "}\n",
       "\n",
       "#sk-container-id-1 pre {\n",
       "  padding: 0;\n",
       "}\n",
       "\n",
       "#sk-container-id-1 input.sk-hidden--visually {\n",
       "  border: 0;\n",
       "  clip: rect(1px 1px 1px 1px);\n",
       "  clip: rect(1px, 1px, 1px, 1px);\n",
       "  height: 1px;\n",
       "  margin: -1px;\n",
       "  overflow: hidden;\n",
       "  padding: 0;\n",
       "  position: absolute;\n",
       "  width: 1px;\n",
       "}\n",
       "\n",
       "#sk-container-id-1 div.sk-dashed-wrapped {\n",
       "  border: 1px dashed var(--sklearn-color-line);\n",
       "  margin: 0 0.4em 0.5em 0.4em;\n",
       "  box-sizing: border-box;\n",
       "  padding-bottom: 0.4em;\n",
       "  background-color: var(--sklearn-color-background);\n",
       "}\n",
       "\n",
       "#sk-container-id-1 div.sk-container {\n",
       "  /* jupyter's `normalize.less` sets `[hidden] { display: none; }`\n",
       "     but bootstrap.min.css set `[hidden] { display: none !important; }`\n",
       "     so we also need the `!important` here to be able to override the\n",
       "     default hidden behavior on the sphinx rendered scikit-learn.org.\n",
       "     See: https://github.com/scikit-learn/scikit-learn/issues/21755 */\n",
       "  display: inline-block !important;\n",
       "  position: relative;\n",
       "}\n",
       "\n",
       "#sk-container-id-1 div.sk-text-repr-fallback {\n",
       "  display: none;\n",
       "}\n",
       "\n",
       "div.sk-parallel-item,\n",
       "div.sk-serial,\n",
       "div.sk-item {\n",
       "  /* draw centered vertical line to link estimators */\n",
       "  background-image: linear-gradient(var(--sklearn-color-text-on-default-background), var(--sklearn-color-text-on-default-background));\n",
       "  background-size: 2px 100%;\n",
       "  background-repeat: no-repeat;\n",
       "  background-position: center center;\n",
       "}\n",
       "\n",
       "/* Parallel-specific style estimator block */\n",
       "\n",
       "#sk-container-id-1 div.sk-parallel-item::after {\n",
       "  content: \"\";\n",
       "  width: 100%;\n",
       "  border-bottom: 2px solid var(--sklearn-color-text-on-default-background);\n",
       "  flex-grow: 1;\n",
       "}\n",
       "\n",
       "#sk-container-id-1 div.sk-parallel {\n",
       "  display: flex;\n",
       "  align-items: stretch;\n",
       "  justify-content: center;\n",
       "  background-color: var(--sklearn-color-background);\n",
       "  position: relative;\n",
       "}\n",
       "\n",
       "#sk-container-id-1 div.sk-parallel-item {\n",
       "  display: flex;\n",
       "  flex-direction: column;\n",
       "}\n",
       "\n",
       "#sk-container-id-1 div.sk-parallel-item:first-child::after {\n",
       "  align-self: flex-end;\n",
       "  width: 50%;\n",
       "}\n",
       "\n",
       "#sk-container-id-1 div.sk-parallel-item:last-child::after {\n",
       "  align-self: flex-start;\n",
       "  width: 50%;\n",
       "}\n",
       "\n",
       "#sk-container-id-1 div.sk-parallel-item:only-child::after {\n",
       "  width: 0;\n",
       "}\n",
       "\n",
       "/* Serial-specific style estimator block */\n",
       "\n",
       "#sk-container-id-1 div.sk-serial {\n",
       "  display: flex;\n",
       "  flex-direction: column;\n",
       "  align-items: center;\n",
       "  background-color: var(--sklearn-color-background);\n",
       "  padding-right: 1em;\n",
       "  padding-left: 1em;\n",
       "}\n",
       "\n",
       "\n",
       "/* Toggleable style: style used for estimator/Pipeline/ColumnTransformer box that is\n",
       "clickable and can be expanded/collapsed.\n",
       "- Pipeline and ColumnTransformer use this feature and define the default style\n",
       "- Estimators will overwrite some part of the style using the `sk-estimator` class\n",
       "*/\n",
       "\n",
       "/* Pipeline and ColumnTransformer style (default) */\n",
       "\n",
       "#sk-container-id-1 div.sk-toggleable {\n",
       "  /* Default theme specific background. It is overwritten whether we have a\n",
       "  specific estimator or a Pipeline/ColumnTransformer */\n",
       "  background-color: var(--sklearn-color-background);\n",
       "}\n",
       "\n",
       "/* Toggleable label */\n",
       "#sk-container-id-1 label.sk-toggleable__label {\n",
       "  cursor: pointer;\n",
       "  display: block;\n",
       "  width: 100%;\n",
       "  margin-bottom: 0;\n",
       "  padding: 0.5em;\n",
       "  box-sizing: border-box;\n",
       "  text-align: center;\n",
       "}\n",
       "\n",
       "#sk-container-id-1 label.sk-toggleable__label-arrow:before {\n",
       "  /* Arrow on the left of the label */\n",
       "  content: \"▸\";\n",
       "  float: left;\n",
       "  margin-right: 0.25em;\n",
       "  color: var(--sklearn-color-icon);\n",
       "}\n",
       "\n",
       "#sk-container-id-1 label.sk-toggleable__label-arrow:hover:before {\n",
       "  color: var(--sklearn-color-text);\n",
       "}\n",
       "\n",
       "/* Toggleable content - dropdown */\n",
       "\n",
       "#sk-container-id-1 div.sk-toggleable__content {\n",
       "  max-height: 0;\n",
       "  max-width: 0;\n",
       "  overflow: hidden;\n",
       "  text-align: left;\n",
       "  /* unfitted */\n",
       "  background-color: var(--sklearn-color-unfitted-level-0);\n",
       "}\n",
       "\n",
       "#sk-container-id-1 div.sk-toggleable__content.fitted {\n",
       "  /* fitted */\n",
       "  background-color: var(--sklearn-color-fitted-level-0);\n",
       "}\n",
       "\n",
       "#sk-container-id-1 div.sk-toggleable__content pre {\n",
       "  margin: 0.2em;\n",
       "  border-radius: 0.25em;\n",
       "  color: var(--sklearn-color-text);\n",
       "  /* unfitted */\n",
       "  background-color: var(--sklearn-color-unfitted-level-0);\n",
       "}\n",
       "\n",
       "#sk-container-id-1 div.sk-toggleable__content.fitted pre {\n",
       "  /* unfitted */\n",
       "  background-color: var(--sklearn-color-fitted-level-0);\n",
       "}\n",
       "\n",
       "#sk-container-id-1 input.sk-toggleable__control:checked~div.sk-toggleable__content {\n",
       "  /* Expand drop-down */\n",
       "  max-height: 200px;\n",
       "  max-width: 100%;\n",
       "  overflow: auto;\n",
       "}\n",
       "\n",
       "#sk-container-id-1 input.sk-toggleable__control:checked~label.sk-toggleable__label-arrow:before {\n",
       "  content: \"▾\";\n",
       "}\n",
       "\n",
       "/* Pipeline/ColumnTransformer-specific style */\n",
       "\n",
       "#sk-container-id-1 div.sk-label input.sk-toggleable__control:checked~label.sk-toggleable__label {\n",
       "  color: var(--sklearn-color-text);\n",
       "  background-color: var(--sklearn-color-unfitted-level-2);\n",
       "}\n",
       "\n",
       "#sk-container-id-1 div.sk-label.fitted input.sk-toggleable__control:checked~label.sk-toggleable__label {\n",
       "  background-color: var(--sklearn-color-fitted-level-2);\n",
       "}\n",
       "\n",
       "/* Estimator-specific style */\n",
       "\n",
       "/* Colorize estimator box */\n",
       "#sk-container-id-1 div.sk-estimator input.sk-toggleable__control:checked~label.sk-toggleable__label {\n",
       "  /* unfitted */\n",
       "  background-color: var(--sklearn-color-unfitted-level-2);\n",
       "}\n",
       "\n",
       "#sk-container-id-1 div.sk-estimator.fitted input.sk-toggleable__control:checked~label.sk-toggleable__label {\n",
       "  /* fitted */\n",
       "  background-color: var(--sklearn-color-fitted-level-2);\n",
       "}\n",
       "\n",
       "#sk-container-id-1 div.sk-label label.sk-toggleable__label,\n",
       "#sk-container-id-1 div.sk-label label {\n",
       "  /* The background is the default theme color */\n",
       "  color: var(--sklearn-color-text-on-default-background);\n",
       "}\n",
       "\n",
       "/* On hover, darken the color of the background */\n",
       "#sk-container-id-1 div.sk-label:hover label.sk-toggleable__label {\n",
       "  color: var(--sklearn-color-text);\n",
       "  background-color: var(--sklearn-color-unfitted-level-2);\n",
       "}\n",
       "\n",
       "/* Label box, darken color on hover, fitted */\n",
       "#sk-container-id-1 div.sk-label.fitted:hover label.sk-toggleable__label.fitted {\n",
       "  color: var(--sklearn-color-text);\n",
       "  background-color: var(--sklearn-color-fitted-level-2);\n",
       "}\n",
       "\n",
       "/* Estimator label */\n",
       "\n",
       "#sk-container-id-1 div.sk-label label {\n",
       "  font-family: monospace;\n",
       "  font-weight: bold;\n",
       "  display: inline-block;\n",
       "  line-height: 1.2em;\n",
       "}\n",
       "\n",
       "#sk-container-id-1 div.sk-label-container {\n",
       "  text-align: center;\n",
       "}\n",
       "\n",
       "/* Estimator-specific */\n",
       "#sk-container-id-1 div.sk-estimator {\n",
       "  font-family: monospace;\n",
       "  border: 1px dotted var(--sklearn-color-border-box);\n",
       "  border-radius: 0.25em;\n",
       "  box-sizing: border-box;\n",
       "  margin-bottom: 0.5em;\n",
       "  /* unfitted */\n",
       "  background-color: var(--sklearn-color-unfitted-level-0);\n",
       "}\n",
       "\n",
       "#sk-container-id-1 div.sk-estimator.fitted {\n",
       "  /* fitted */\n",
       "  background-color: var(--sklearn-color-fitted-level-0);\n",
       "}\n",
       "\n",
       "/* on hover */\n",
       "#sk-container-id-1 div.sk-estimator:hover {\n",
       "  /* unfitted */\n",
       "  background-color: var(--sklearn-color-unfitted-level-2);\n",
       "}\n",
       "\n",
       "#sk-container-id-1 div.sk-estimator.fitted:hover {\n",
       "  /* fitted */\n",
       "  background-color: var(--sklearn-color-fitted-level-2);\n",
       "}\n",
       "\n",
       "/* Specification for estimator info (e.g. \"i\" and \"?\") */\n",
       "\n",
       "/* Common style for \"i\" and \"?\" */\n",
       "\n",
       ".sk-estimator-doc-link,\n",
       "a:link.sk-estimator-doc-link,\n",
       "a:visited.sk-estimator-doc-link {\n",
       "  float: right;\n",
       "  font-size: smaller;\n",
       "  line-height: 1em;\n",
       "  font-family: monospace;\n",
       "  background-color: var(--sklearn-color-background);\n",
       "  border-radius: 1em;\n",
       "  height: 1em;\n",
       "  width: 1em;\n",
       "  text-decoration: none !important;\n",
       "  margin-left: 1ex;\n",
       "  /* unfitted */\n",
       "  border: var(--sklearn-color-unfitted-level-1) 1pt solid;\n",
       "  color: var(--sklearn-color-unfitted-level-1);\n",
       "}\n",
       "\n",
       ".sk-estimator-doc-link.fitted,\n",
       "a:link.sk-estimator-doc-link.fitted,\n",
       "a:visited.sk-estimator-doc-link.fitted {\n",
       "  /* fitted */\n",
       "  border: var(--sklearn-color-fitted-level-1) 1pt solid;\n",
       "  color: var(--sklearn-color-fitted-level-1);\n",
       "}\n",
       "\n",
       "/* On hover */\n",
       "div.sk-estimator:hover .sk-estimator-doc-link:hover,\n",
       ".sk-estimator-doc-link:hover,\n",
       "div.sk-label-container:hover .sk-estimator-doc-link:hover,\n",
       ".sk-estimator-doc-link:hover {\n",
       "  /* unfitted */\n",
       "  background-color: var(--sklearn-color-unfitted-level-3);\n",
       "  color: var(--sklearn-color-background);\n",
       "  text-decoration: none;\n",
       "}\n",
       "\n",
       "div.sk-estimator.fitted:hover .sk-estimator-doc-link.fitted:hover,\n",
       ".sk-estimator-doc-link.fitted:hover,\n",
       "div.sk-label-container:hover .sk-estimator-doc-link.fitted:hover,\n",
       ".sk-estimator-doc-link.fitted:hover {\n",
       "  /* fitted */\n",
       "  background-color: var(--sklearn-color-fitted-level-3);\n",
       "  color: var(--sklearn-color-background);\n",
       "  text-decoration: none;\n",
       "}\n",
       "\n",
       "/* Span, style for the box shown on hovering the info icon */\n",
       ".sk-estimator-doc-link span {\n",
       "  display: none;\n",
       "  z-index: 9999;\n",
       "  position: relative;\n",
       "  font-weight: normal;\n",
       "  right: .2ex;\n",
       "  padding: .5ex;\n",
       "  margin: .5ex;\n",
       "  width: min-content;\n",
       "  min-width: 20ex;\n",
       "  max-width: 50ex;\n",
       "  color: var(--sklearn-color-text);\n",
       "  box-shadow: 2pt 2pt 4pt #999;\n",
       "  /* unfitted */\n",
       "  background: var(--sklearn-color-unfitted-level-0);\n",
       "  border: .5pt solid var(--sklearn-color-unfitted-level-3);\n",
       "}\n",
       "\n",
       ".sk-estimator-doc-link.fitted span {\n",
       "  /* fitted */\n",
       "  background: var(--sklearn-color-fitted-level-0);\n",
       "  border: var(--sklearn-color-fitted-level-3);\n",
       "}\n",
       "\n",
       ".sk-estimator-doc-link:hover span {\n",
       "  display: block;\n",
       "}\n",
       "\n",
       "/* \"?\"-specific style due to the `<a>` HTML tag */\n",
       "\n",
       "#sk-container-id-1 a.estimator_doc_link {\n",
       "  float: right;\n",
       "  font-size: 1rem;\n",
       "  line-height: 1em;\n",
       "  font-family: monospace;\n",
       "  background-color: var(--sklearn-color-background);\n",
       "  border-radius: 1rem;\n",
       "  height: 1rem;\n",
       "  width: 1rem;\n",
       "  text-decoration: none;\n",
       "  /* unfitted */\n",
       "  color: var(--sklearn-color-unfitted-level-1);\n",
       "  border: var(--sklearn-color-unfitted-level-1) 1pt solid;\n",
       "}\n",
       "\n",
       "#sk-container-id-1 a.estimator_doc_link.fitted {\n",
       "  /* fitted */\n",
       "  border: var(--sklearn-color-fitted-level-1) 1pt solid;\n",
       "  color: var(--sklearn-color-fitted-level-1);\n",
       "}\n",
       "\n",
       "/* On hover */\n",
       "#sk-container-id-1 a.estimator_doc_link:hover {\n",
       "  /* unfitted */\n",
       "  background-color: var(--sklearn-color-unfitted-level-3);\n",
       "  color: var(--sklearn-color-background);\n",
       "  text-decoration: none;\n",
       "}\n",
       "\n",
       "#sk-container-id-1 a.estimator_doc_link.fitted:hover {\n",
       "  /* fitted */\n",
       "  background-color: var(--sklearn-color-fitted-level-3);\n",
       "}\n",
       "</style><div id=\"sk-container-id-1\" class=\"sk-top-container\"><div class=\"sk-text-repr-fallback\"><pre>XGBClassifier(base_score=None, booster=None, callbacks=None,\n",
       "              colsample_bylevel=None, colsample_bynode=None,\n",
       "              colsample_bytree=None, device=None, early_stopping_rounds=None,\n",
       "              enable_categorical=False, eval_metric=None, feature_types=None,\n",
       "              gamma=None, grow_policy=None, importance_type=None,\n",
       "              interaction_constraints=None, learning_rate=0.1, max_bin=None,\n",
       "              max_cat_threshold=None, max_cat_to_onehot=None,\n",
       "              max_delta_step=None, max_depth=3, max_leaves=4,\n",
       "              min_child_weight=None, missing=nan, monotone_constraints=None,\n",
       "              multi_strategy=None, n_estimators=None, n_jobs=None,\n",
       "              num_parallel_tree=None, objective=&#x27;multi:softprob&#x27;, ...)</pre><b>In a Jupyter environment, please rerun this cell to show the HTML representation or trust the notebook. <br />On GitHub, the HTML representation is unable to render, please try loading this page with nbviewer.org.</b></div><div class=\"sk-container\" hidden><div class=\"sk-item\"><div class=\"sk-estimator fitted sk-toggleable\"><input class=\"sk-toggleable__control sk-hidden--visually\" id=\"sk-estimator-id-1\" type=\"checkbox\" checked><label for=\"sk-estimator-id-1\" class=\"sk-toggleable__label fitted sk-toggleable__label-arrow fitted\">&nbsp;XGBClassifier<span class=\"sk-estimator-doc-link fitted\">i<span>Fitted</span></span></label><div class=\"sk-toggleable__content fitted\"><pre>XGBClassifier(base_score=None, booster=None, callbacks=None,\n",
       "              colsample_bylevel=None, colsample_bynode=None,\n",
       "              colsample_bytree=None, device=None, early_stopping_rounds=None,\n",
       "              enable_categorical=False, eval_metric=None, feature_types=None,\n",
       "              gamma=None, grow_policy=None, importance_type=None,\n",
       "              interaction_constraints=None, learning_rate=0.1, max_bin=None,\n",
       "              max_cat_threshold=None, max_cat_to_onehot=None,\n",
       "              max_delta_step=None, max_depth=3, max_leaves=4,\n",
       "              min_child_weight=None, missing=nan, monotone_constraints=None,\n",
       "              multi_strategy=None, n_estimators=None, n_jobs=None,\n",
       "              num_parallel_tree=None, objective=&#x27;multi:softprob&#x27;, ...)</pre></div> </div></div></div></div>"
      ],
      "text/plain": [
       "XGBClassifier(base_score=None, booster=None, callbacks=None,\n",
       "              colsample_bylevel=None, colsample_bynode=None,\n",
       "              colsample_bytree=None, device=None, early_stopping_rounds=None,\n",
       "              enable_categorical=False, eval_metric=None, feature_types=None,\n",
       "              gamma=None, grow_policy=None, importance_type=None,\n",
       "              interaction_constraints=None, learning_rate=0.1, max_bin=None,\n",
       "              max_cat_threshold=None, max_cat_to_onehot=None,\n",
       "              max_delta_step=None, max_depth=3, max_leaves=4,\n",
       "              min_child_weight=None, missing=nan, monotone_constraints=None,\n",
       "              multi_strategy=None, n_estimators=None, n_jobs=None,\n",
       "              num_parallel_tree=None, objective='multi:softprob', ...)"
      ]
     },
     "execution_count": 60,
     "metadata": {},
     "output_type": "execute_result"
    }
   ],
   "source": [
    "xgb= XGBClassifier(max_depth =3,max_leaves =4,learning_rate =0.1)\n",
    "xgb.fit(x_train,y_train)"
   ]
  },
  {
   "cell_type": "code",
   "execution_count": 61,
   "metadata": {},
   "outputs": [
    {
     "name": "stdout",
     "output_type": "stream",
     "text": [
      "Training Accuracy: 0.6424731182795699\n",
      "Training Confusion matrix: [[768 239 174]\n",
      " [ 38 115  30]\n",
      " [ 25  26  73]]\n"
     ]
    }
   ],
   "source": [
    "print(f'Training Accuracy: {accuracy_score(xgb.predict(x_train),y_train)}')\n",
    "print(f'Training Confusion matrix: {confusion_matrix(xgb.predict(x_train),y_train)}')"
   ]
  },
  {
   "cell_type": "code",
   "execution_count": 62,
   "metadata": {},
   "outputs": [
    {
     "name": "stdout",
     "output_type": "stream",
     "text": [
      "Test Accuracy: 0.5752688172043011\n",
      "Test Confusion matrix: [[196  63  44]\n",
      " [ 20   8  11]\n",
      " [ 13   7  10]]\n"
     ]
    }
   ],
   "source": [
    "print(f'Test Accuracy: {accuracy_score(xgb.predict(x_test),y_test)}')\n",
    "print(f'Test Confusion matrix: {confusion_matrix(xgb.predict(x_test),y_test)}')"
   ]
  },
  {
   "cell_type": "code",
   "execution_count": 63,
   "metadata": {},
   "outputs": [
    {
     "name": "stdout",
     "output_type": "stream",
     "text": [
      "              precision    recall  f1-score   support\n",
      "\n",
      "           0       0.86      0.65      0.74       303\n",
      "           1       0.10      0.21      0.14        39\n",
      "           2       0.15      0.33      0.21        30\n",
      "\n",
      "    accuracy                           0.58       372\n",
      "   macro avg       0.37      0.40      0.36       372\n",
      "weighted avg       0.72      0.58      0.63       372\n",
      "\n"
     ]
    }
   ],
   "source": [
    "print(classification_report(xgb.predict(x_test),y_test))"
   ]
  }
 ],
 "metadata": {
  "kernelspec": {
   "display_name": "ph",
   "language": "python",
   "name": "python3"
  },
  "language_info": {
   "codemirror_mode": {
    "name": "ipython",
    "version": 3
   },
   "file_extension": ".py",
   "mimetype": "text/x-python",
   "name": "python",
   "nbconvert_exporter": "python",
   "pygments_lexer": "ipython3",
   "version": "3.12.4"
  }
 },
 "nbformat": 4,
 "nbformat_minor": 2
}
